{
 "cells": [
  {
   "cell_type": "markdown",
   "id": "be02a957-7133-4d02-818e-fedeb3cecb05",
   "metadata": {},
   "source": [
    "# Project 2 -- Simrith Ranjan"
   ]
  },
  {
   "cell_type": "markdown",
   "id": "a1228853-dd19-4ab2-89e0-0394d7d72de3",
   "metadata": {},
   "source": [
    "**TA Help:** N/A\n",
    "    \n",
    "**Collaboration:** Kushal Muthamsetty\n",
    "\n",
    "-helped me understand how to use a boxplot"
   ]
  },
  {
   "cell_type": "markdown",
   "id": "6180e742-8e39-4698-98ff-5b00c8cf8ea0",
   "metadata": {
    "tags": []
   },
   "source": [
    "## Question 1"
   ]
  },
  {
   "cell_type": "code",
   "execution_count": 1,
   "id": "2c210124-7523-4a4a-889b-357d356acdfa",
   "metadata": {},
   "outputs": [],
   "source": [
    "mydata = [\n",
    "    (\"Simrith\", 18, \"Computer Science\"),\n",
    "    (\"Sanketh\", 17, \"Pyschology\"),\n",
    "    (\"Charlie\", 22, \"Engineering\"),\n",
    "    (\"Kushal\", 22, \"Bowling\"),\n",
    "    (\"Hannah\", 21, \"Biology\"),\n",
    "    (\"Mckenzie\", 20, \"Psychology\")\n",
    "]"
   ]
  },
  {
   "cell_type": "code",
   "execution_count": 16,
   "id": "03e719bf-ed85-4cc7-a031-0085331fa626",
   "metadata": {},
   "outputs": [
    {
     "name": "stdout",
     "output_type": "stream",
     "text": [
      "          0   1                 2\n",
      "0   Simrith  18  Computer Science\n",
      "1   Sanketh  17        Pyschology\n",
      "2   Charlie  22       Engineering\n",
      "3    Kushal  22           Bowling\n",
      "4    Hannah  21           Biology\n",
      "5  Mckenzie  20        Psychology\n"
     ]
    }
   ],
   "source": [
    "import pandas as pd\n",
    "studentDF = pd.DataFrame(data=mydata)\n",
    "print(studentDF)"
   ]
  },
  {
   "cell_type": "code",
   "execution_count": 17,
   "id": "70a9dfcf-29f8-4570-93a6-18f240767020",
   "metadata": {},
   "outputs": [
    {
     "name": "stdout",
     "output_type": "stream",
     "text": [
      "0       Sanketh\n",
      "1            17\n",
      "2    Pyschology\n",
      "Name: 1, dtype: object\n"
     ]
    }
   ],
   "source": [
    "print(studentDF.iloc[1])"
   ]
  },
  {
   "cell_type": "markdown",
   "id": "1370fe9e-81ec-4aac-8eb2-4ef9af44f733",
   "metadata": {
    "tags": []
   },
   "source": [
    "## Question 2"
   ]
  },
  {
   "cell_type": "code",
   "execution_count": 7,
   "id": "8f722126-02b3-41da-be6d-89451f7d9bfa",
   "metadata": {},
   "outputs": [],
   "source": [
    "import pandas as pd\n",
    "myDF = pd.read_csv(\"/anvil/projects/tdm/data/craigslist/vehicles.csv\")"
   ]
  },
  {
   "cell_type": "code",
   "execution_count": 18,
   "id": "8afca6dc-b71f-4bec-9e79-3a8368a61fbb",
   "metadata": {},
   "outputs": [
    {
     "data": {
      "text/html": [
       "<div>\n",
       "<style scoped>\n",
       "    .dataframe tbody tr th:only-of-type {\n",
       "        vertical-align: middle;\n",
       "    }\n",
       "\n",
       "    .dataframe tbody tr th {\n",
       "        vertical-align: top;\n",
       "    }\n",
       "\n",
       "    .dataframe thead th {\n",
       "        text-align: right;\n",
       "    }\n",
       "</style>\n",
       "<table border=\"1\" class=\"dataframe\">\n",
       "  <thead>\n",
       "    <tr style=\"text-align: right;\">\n",
       "      <th></th>\n",
       "      <th>id</th>\n",
       "      <th>url</th>\n",
       "      <th>region</th>\n",
       "      <th>region_url</th>\n",
       "      <th>price</th>\n",
       "      <th>year</th>\n",
       "      <th>manufacturer</th>\n",
       "      <th>model</th>\n",
       "      <th>condition</th>\n",
       "      <th>cylinders</th>\n",
       "      <th>...</th>\n",
       "      <th>size</th>\n",
       "      <th>type</th>\n",
       "      <th>paint_color</th>\n",
       "      <th>image_url</th>\n",
       "      <th>description</th>\n",
       "      <th>county</th>\n",
       "      <th>state</th>\n",
       "      <th>lat</th>\n",
       "      <th>long</th>\n",
       "      <th>posting_date</th>\n",
       "    </tr>\n",
       "  </thead>\n",
       "  <tbody>\n",
       "    <tr>\n",
       "      <th>0</th>\n",
       "      <td>7222695916</td>\n",
       "      <td>https://prescott.craigslist.org/cto/d/prescott...</td>\n",
       "      <td>prescott</td>\n",
       "      <td>https://prescott.craigslist.org</td>\n",
       "      <td>6000</td>\n",
       "      <td>NaN</td>\n",
       "      <td>NaN</td>\n",
       "      <td>NaN</td>\n",
       "      <td>NaN</td>\n",
       "      <td>NaN</td>\n",
       "      <td>...</td>\n",
       "      <td>NaN</td>\n",
       "      <td>NaN</td>\n",
       "      <td>NaN</td>\n",
       "      <td>NaN</td>\n",
       "      <td>NaN</td>\n",
       "      <td>NaN</td>\n",
       "      <td>az</td>\n",
       "      <td>NaN</td>\n",
       "      <td>NaN</td>\n",
       "      <td>NaN</td>\n",
       "    </tr>\n",
       "    <tr>\n",
       "      <th>1</th>\n",
       "      <td>7218891961</td>\n",
       "      <td>https://fayar.craigslist.org/ctd/d/bentonville...</td>\n",
       "      <td>fayetteville</td>\n",
       "      <td>https://fayar.craigslist.org</td>\n",
       "      <td>11900</td>\n",
       "      <td>NaN</td>\n",
       "      <td>NaN</td>\n",
       "      <td>NaN</td>\n",
       "      <td>NaN</td>\n",
       "      <td>NaN</td>\n",
       "      <td>...</td>\n",
       "      <td>NaN</td>\n",
       "      <td>NaN</td>\n",
       "      <td>NaN</td>\n",
       "      <td>NaN</td>\n",
       "      <td>NaN</td>\n",
       "      <td>NaN</td>\n",
       "      <td>ar</td>\n",
       "      <td>NaN</td>\n",
       "      <td>NaN</td>\n",
       "      <td>NaN</td>\n",
       "    </tr>\n",
       "    <tr>\n",
       "      <th>2</th>\n",
       "      <td>7221797935</td>\n",
       "      <td>https://keys.craigslist.org/cto/d/summerland-k...</td>\n",
       "      <td>florida keys</td>\n",
       "      <td>https://keys.craigslist.org</td>\n",
       "      <td>21000</td>\n",
       "      <td>NaN</td>\n",
       "      <td>NaN</td>\n",
       "      <td>NaN</td>\n",
       "      <td>NaN</td>\n",
       "      <td>NaN</td>\n",
       "      <td>...</td>\n",
       "      <td>NaN</td>\n",
       "      <td>NaN</td>\n",
       "      <td>NaN</td>\n",
       "      <td>NaN</td>\n",
       "      <td>NaN</td>\n",
       "      <td>NaN</td>\n",
       "      <td>fl</td>\n",
       "      <td>NaN</td>\n",
       "      <td>NaN</td>\n",
       "      <td>NaN</td>\n",
       "    </tr>\n",
       "    <tr>\n",
       "      <th>3</th>\n",
       "      <td>7222270760</td>\n",
       "      <td>https://worcester.craigslist.org/cto/d/west-br...</td>\n",
       "      <td>worcester / central MA</td>\n",
       "      <td>https://worcester.craigslist.org</td>\n",
       "      <td>1500</td>\n",
       "      <td>NaN</td>\n",
       "      <td>NaN</td>\n",
       "      <td>NaN</td>\n",
       "      <td>NaN</td>\n",
       "      <td>NaN</td>\n",
       "      <td>...</td>\n",
       "      <td>NaN</td>\n",
       "      <td>NaN</td>\n",
       "      <td>NaN</td>\n",
       "      <td>NaN</td>\n",
       "      <td>NaN</td>\n",
       "      <td>NaN</td>\n",
       "      <td>ma</td>\n",
       "      <td>NaN</td>\n",
       "      <td>NaN</td>\n",
       "      <td>NaN</td>\n",
       "    </tr>\n",
       "    <tr>\n",
       "      <th>4</th>\n",
       "      <td>7210384030</td>\n",
       "      <td>https://greensboro.craigslist.org/cto/d/trinit...</td>\n",
       "      <td>greensboro</td>\n",
       "      <td>https://greensboro.craigslist.org</td>\n",
       "      <td>4900</td>\n",
       "      <td>NaN</td>\n",
       "      <td>NaN</td>\n",
       "      <td>NaN</td>\n",
       "      <td>NaN</td>\n",
       "      <td>NaN</td>\n",
       "      <td>...</td>\n",
       "      <td>NaN</td>\n",
       "      <td>NaN</td>\n",
       "      <td>NaN</td>\n",
       "      <td>NaN</td>\n",
       "      <td>NaN</td>\n",
       "      <td>NaN</td>\n",
       "      <td>nc</td>\n",
       "      <td>NaN</td>\n",
       "      <td>NaN</td>\n",
       "      <td>NaN</td>\n",
       "    </tr>\n",
       "  </tbody>\n",
       "</table>\n",
       "<p>5 rows × 26 columns</p>\n",
       "</div>"
      ],
      "text/plain": [
       "           id                                                url  \\\n",
       "0  7222695916  https://prescott.craigslist.org/cto/d/prescott...   \n",
       "1  7218891961  https://fayar.craigslist.org/ctd/d/bentonville...   \n",
       "2  7221797935  https://keys.craigslist.org/cto/d/summerland-k...   \n",
       "3  7222270760  https://worcester.craigslist.org/cto/d/west-br...   \n",
       "4  7210384030  https://greensboro.craigslist.org/cto/d/trinit...   \n",
       "\n",
       "                   region                         region_url  price  year  \\\n",
       "0                prescott    https://prescott.craigslist.org   6000   NaN   \n",
       "1            fayetteville       https://fayar.craigslist.org  11900   NaN   \n",
       "2            florida keys        https://keys.craigslist.org  21000   NaN   \n",
       "3  worcester / central MA   https://worcester.craigslist.org   1500   NaN   \n",
       "4              greensboro  https://greensboro.craigslist.org   4900   NaN   \n",
       "\n",
       "  manufacturer model condition cylinders  ... size  type paint_color  \\\n",
       "0          NaN   NaN       NaN       NaN  ...  NaN   NaN         NaN   \n",
       "1          NaN   NaN       NaN       NaN  ...  NaN   NaN         NaN   \n",
       "2          NaN   NaN       NaN       NaN  ...  NaN   NaN         NaN   \n",
       "3          NaN   NaN       NaN       NaN  ...  NaN   NaN         NaN   \n",
       "4          NaN   NaN       NaN       NaN  ...  NaN   NaN         NaN   \n",
       "\n",
       "  image_url description county state lat long posting_date  \n",
       "0       NaN         NaN    NaN    az NaN  NaN          NaN  \n",
       "1       NaN         NaN    NaN    ar NaN  NaN          NaN  \n",
       "2       NaN         NaN    NaN    fl NaN  NaN          NaN  \n",
       "3       NaN         NaN    NaN    ma NaN  NaN          NaN  \n",
       "4       NaN         NaN    NaN    nc NaN  NaN          NaN  \n",
       "\n",
       "[5 rows x 26 columns]"
      ]
     },
     "execution_count": 18,
     "metadata": {},
     "output_type": "execute_result"
    }
   ],
   "source": [
    "myDF.head()"
   ]
  },
  {
   "cell_type": "code",
   "execution_count": 19,
   "id": "7ea3ae21-8233-4a06-8d8a-0a4de14ad93b",
   "metadata": {},
   "outputs": [
    {
     "data": {
      "text/html": [
       "<div>\n",
       "<style scoped>\n",
       "    .dataframe tbody tr th:only-of-type {\n",
       "        vertical-align: middle;\n",
       "    }\n",
       "\n",
       "    .dataframe tbody tr th {\n",
       "        vertical-align: top;\n",
       "    }\n",
       "\n",
       "    .dataframe thead th {\n",
       "        text-align: right;\n",
       "    }\n",
       "</style>\n",
       "<table border=\"1\" class=\"dataframe\">\n",
       "  <thead>\n",
       "    <tr style=\"text-align: right;\">\n",
       "      <th></th>\n",
       "      <th>id</th>\n",
       "      <th>url</th>\n",
       "      <th>region</th>\n",
       "      <th>region_url</th>\n",
       "      <th>price</th>\n",
       "      <th>year</th>\n",
       "      <th>manufacturer</th>\n",
       "      <th>model</th>\n",
       "      <th>condition</th>\n",
       "      <th>cylinders</th>\n",
       "      <th>...</th>\n",
       "      <th>size</th>\n",
       "      <th>type</th>\n",
       "      <th>paint_color</th>\n",
       "      <th>image_url</th>\n",
       "      <th>description</th>\n",
       "      <th>county</th>\n",
       "      <th>state</th>\n",
       "      <th>lat</th>\n",
       "      <th>long</th>\n",
       "      <th>posting_date</th>\n",
       "    </tr>\n",
       "  </thead>\n",
       "  <tbody>\n",
       "    <tr>\n",
       "      <th>426875</th>\n",
       "      <td>7301591192</td>\n",
       "      <td>https://wyoming.craigslist.org/ctd/d/atlanta-2...</td>\n",
       "      <td>wyoming</td>\n",
       "      <td>https://wyoming.craigslist.org</td>\n",
       "      <td>23590</td>\n",
       "      <td>2019.0</td>\n",
       "      <td>nissan</td>\n",
       "      <td>maxima s sedan 4d</td>\n",
       "      <td>good</td>\n",
       "      <td>6 cylinders</td>\n",
       "      <td>...</td>\n",
       "      <td>NaN</td>\n",
       "      <td>sedan</td>\n",
       "      <td>NaN</td>\n",
       "      <td>https://images.craigslist.org/00o0o_iiraFnHg8q...</td>\n",
       "      <td>Carvana is the safer way to buy a car During t...</td>\n",
       "      <td>NaN</td>\n",
       "      <td>wy</td>\n",
       "      <td>33.786500</td>\n",
       "      <td>-84.445400</td>\n",
       "      <td>2021-04-04T03:21:31-0600</td>\n",
       "    </tr>\n",
       "    <tr>\n",
       "      <th>426876</th>\n",
       "      <td>7301591187</td>\n",
       "      <td>https://wyoming.craigslist.org/ctd/d/atlanta-2...</td>\n",
       "      <td>wyoming</td>\n",
       "      <td>https://wyoming.craigslist.org</td>\n",
       "      <td>30590</td>\n",
       "      <td>2020.0</td>\n",
       "      <td>volvo</td>\n",
       "      <td>s60 t5 momentum sedan 4d</td>\n",
       "      <td>good</td>\n",
       "      <td>NaN</td>\n",
       "      <td>...</td>\n",
       "      <td>NaN</td>\n",
       "      <td>sedan</td>\n",
       "      <td>red</td>\n",
       "      <td>https://images.craigslist.org/00x0x_15sbgnxCIS...</td>\n",
       "      <td>Carvana is the safer way to buy a car During t...</td>\n",
       "      <td>NaN</td>\n",
       "      <td>wy</td>\n",
       "      <td>33.786500</td>\n",
       "      <td>-84.445400</td>\n",
       "      <td>2021-04-04T03:21:29-0600</td>\n",
       "    </tr>\n",
       "    <tr>\n",
       "      <th>426877</th>\n",
       "      <td>7301591147</td>\n",
       "      <td>https://wyoming.craigslist.org/ctd/d/atlanta-2...</td>\n",
       "      <td>wyoming</td>\n",
       "      <td>https://wyoming.craigslist.org</td>\n",
       "      <td>34990</td>\n",
       "      <td>2020.0</td>\n",
       "      <td>cadillac</td>\n",
       "      <td>xt4 sport suv 4d</td>\n",
       "      <td>good</td>\n",
       "      <td>NaN</td>\n",
       "      <td>...</td>\n",
       "      <td>NaN</td>\n",
       "      <td>hatchback</td>\n",
       "      <td>white</td>\n",
       "      <td>https://images.craigslist.org/00L0L_farM7bxnxR...</td>\n",
       "      <td>Carvana is the safer way to buy a car During t...</td>\n",
       "      <td>NaN</td>\n",
       "      <td>wy</td>\n",
       "      <td>33.779214</td>\n",
       "      <td>-84.411811</td>\n",
       "      <td>2021-04-04T03:21:17-0600</td>\n",
       "    </tr>\n",
       "    <tr>\n",
       "      <th>426878</th>\n",
       "      <td>7301591140</td>\n",
       "      <td>https://wyoming.craigslist.org/ctd/d/atlanta-2...</td>\n",
       "      <td>wyoming</td>\n",
       "      <td>https://wyoming.craigslist.org</td>\n",
       "      <td>28990</td>\n",
       "      <td>2018.0</td>\n",
       "      <td>lexus</td>\n",
       "      <td>es 350 sedan 4d</td>\n",
       "      <td>good</td>\n",
       "      <td>6 cylinders</td>\n",
       "      <td>...</td>\n",
       "      <td>NaN</td>\n",
       "      <td>sedan</td>\n",
       "      <td>silver</td>\n",
       "      <td>https://images.craigslist.org/00z0z_bKnIVGLkDT...</td>\n",
       "      <td>Carvana is the safer way to buy a car During t...</td>\n",
       "      <td>NaN</td>\n",
       "      <td>wy</td>\n",
       "      <td>33.786500</td>\n",
       "      <td>-84.445400</td>\n",
       "      <td>2021-04-04T03:21:11-0600</td>\n",
       "    </tr>\n",
       "    <tr>\n",
       "      <th>426879</th>\n",
       "      <td>7301591129</td>\n",
       "      <td>https://wyoming.craigslist.org/ctd/d/atlanta-2...</td>\n",
       "      <td>wyoming</td>\n",
       "      <td>https://wyoming.craigslist.org</td>\n",
       "      <td>30590</td>\n",
       "      <td>2019.0</td>\n",
       "      <td>bmw</td>\n",
       "      <td>4 series 430i gran coupe</td>\n",
       "      <td>good</td>\n",
       "      <td>NaN</td>\n",
       "      <td>...</td>\n",
       "      <td>NaN</td>\n",
       "      <td>coupe</td>\n",
       "      <td>NaN</td>\n",
       "      <td>https://images.craigslist.org/00Y0Y_lEUocjyRxa...</td>\n",
       "      <td>Carvana is the safer way to buy a car During t...</td>\n",
       "      <td>NaN</td>\n",
       "      <td>wy</td>\n",
       "      <td>33.779214</td>\n",
       "      <td>-84.411811</td>\n",
       "      <td>2021-04-04T03:21:07-0600</td>\n",
       "    </tr>\n",
       "  </tbody>\n",
       "</table>\n",
       "<p>5 rows × 26 columns</p>\n",
       "</div>"
      ],
      "text/plain": [
       "                id                                                url  \\\n",
       "426875  7301591192  https://wyoming.craigslist.org/ctd/d/atlanta-2...   \n",
       "426876  7301591187  https://wyoming.craigslist.org/ctd/d/atlanta-2...   \n",
       "426877  7301591147  https://wyoming.craigslist.org/ctd/d/atlanta-2...   \n",
       "426878  7301591140  https://wyoming.craigslist.org/ctd/d/atlanta-2...   \n",
       "426879  7301591129  https://wyoming.craigslist.org/ctd/d/atlanta-2...   \n",
       "\n",
       "         region                      region_url  price    year manufacturer  \\\n",
       "426875  wyoming  https://wyoming.craigslist.org  23590  2019.0       nissan   \n",
       "426876  wyoming  https://wyoming.craigslist.org  30590  2020.0        volvo   \n",
       "426877  wyoming  https://wyoming.craigslist.org  34990  2020.0     cadillac   \n",
       "426878  wyoming  https://wyoming.craigslist.org  28990  2018.0        lexus   \n",
       "426879  wyoming  https://wyoming.craigslist.org  30590  2019.0          bmw   \n",
       "\n",
       "                           model condition    cylinders  ... size       type  \\\n",
       "426875         maxima s sedan 4d      good  6 cylinders  ...  NaN      sedan   \n",
       "426876  s60 t5 momentum sedan 4d      good          NaN  ...  NaN      sedan   \n",
       "426877          xt4 sport suv 4d      good          NaN  ...  NaN  hatchback   \n",
       "426878           es 350 sedan 4d      good  6 cylinders  ...  NaN      sedan   \n",
       "426879  4 series 430i gran coupe      good          NaN  ...  NaN      coupe   \n",
       "\n",
       "       paint_color                                          image_url  \\\n",
       "426875         NaN  https://images.craigslist.org/00o0o_iiraFnHg8q...   \n",
       "426876         red  https://images.craigslist.org/00x0x_15sbgnxCIS...   \n",
       "426877       white  https://images.craigslist.org/00L0L_farM7bxnxR...   \n",
       "426878      silver  https://images.craigslist.org/00z0z_bKnIVGLkDT...   \n",
       "426879         NaN  https://images.craigslist.org/00Y0Y_lEUocjyRxa...   \n",
       "\n",
       "                                              description county state  \\\n",
       "426875  Carvana is the safer way to buy a car During t...    NaN    wy   \n",
       "426876  Carvana is the safer way to buy a car During t...    NaN    wy   \n",
       "426877  Carvana is the safer way to buy a car During t...    NaN    wy   \n",
       "426878  Carvana is the safer way to buy a car During t...    NaN    wy   \n",
       "426879  Carvana is the safer way to buy a car During t...    NaN    wy   \n",
       "\n",
       "              lat       long              posting_date  \n",
       "426875  33.786500 -84.445400  2021-04-04T03:21:31-0600  \n",
       "426876  33.786500 -84.445400  2021-04-04T03:21:29-0600  \n",
       "426877  33.779214 -84.411811  2021-04-04T03:21:17-0600  \n",
       "426878  33.786500 -84.445400  2021-04-04T03:21:11-0600  \n",
       "426879  33.779214 -84.411811  2021-04-04T03:21:07-0600  \n",
       "\n",
       "[5 rows x 26 columns]"
      ]
     },
     "execution_count": 19,
     "metadata": {},
     "output_type": "execute_result"
    }
   ],
   "source": [
    "myDF.tail()"
   ]
  },
  {
   "cell_type": "markdown",
   "id": "8e586edd-ff26-4ce2-8f6b-2424b26f2929",
   "metadata": {
    "tags": []
   },
   "source": [
    "## Question 3"
   ]
  },
  {
   "cell_type": "code",
   "execution_count": 12,
   "id": "72bded2d-9537-46a7-9540-92e11d1c9b6d",
   "metadata": {},
   "outputs": [
    {
     "data": {
      "text/plain": [
       "(426880, 26)"
      ]
     },
     "execution_count": 12,
     "metadata": {},
     "output_type": "execute_result"
    }
   ],
   "source": [
    "myDF.shape"
   ]
  },
  {
   "cell_type": "code",
   "execution_count": 21,
   "id": "dc606ac8-b44a-45b0-9470-2c885c516efb",
   "metadata": {},
   "outputs": [
    {
     "data": {
      "text/plain": [
       "['id',\n",
       " 'url',\n",
       " 'region',\n",
       " 'region_url',\n",
       " 'price',\n",
       " 'year',\n",
       " 'manufacturer',\n",
       " 'model',\n",
       " 'condition',\n",
       " 'cylinders',\n",
       " 'fuel',\n",
       " 'odometer',\n",
       " 'title_status',\n",
       " 'transmission',\n",
       " 'VIN',\n",
       " 'drive',\n",
       " 'size',\n",
       " 'type',\n",
       " 'paint_color',\n",
       " 'image_url',\n",
       " 'description',\n",
       " 'county',\n",
       " 'state',\n",
       " 'lat',\n",
       " 'long',\n",
       " 'posting_date']"
      ]
     },
     "execution_count": 21,
     "metadata": {},
     "output_type": "execute_result"
    }
   ],
   "source": [
    "myDF.columns.tolist()"
   ]
  },
  {
   "cell_type": "markdown",
   "id": "da22f29c-d245-4d2b-9fc1-ca14cb6087d9",
   "metadata": {},
   "source": [
    "## Question 4"
   ]
  },
  {
   "cell_type": "code",
   "execution_count": 36,
   "id": "72fd1c0a-1856-40d7-90aa-6807488cc714",
   "metadata": {},
   "outputs": [
    {
     "data": {
      "text/plain": [
       "312633"
      ]
     },
     "execution_count": 36,
     "metadata": {},
     "output_type": "execute_result"
    }
   ],
   "source": [
    "sum(myDF['price'] > 6000) # you could also do like sum(myDF['price'] > 6000 == True)"
   ]
  },
  {
   "cell_type": "code",
   "execution_count": 45,
   "id": "1096b5a2-2c58-40ed-88df-57824697e3bc",
   "metadata": {},
   "outputs": [
    {
     "data": {
      "text/plain": [
       "5704"
      ]
     },
     "execution_count": 45,
     "metadata": {},
     "output_type": "execute_result"
    }
   ],
   "source": [
    "sum(myDF['state'] == \"in\")"
   ]
  },
  {
   "cell_type": "code",
   "execution_count": 46,
   "id": "10ee26eb-694d-4eaa-b55f-0ca3377d0c34",
   "metadata": {},
   "outputs": [
    {
     "data": {
      "text/plain": [
       "22945"
      ]
     },
     "execution_count": 46,
     "metadata": {},
     "output_type": "execute_result"
    }
   ],
   "source": [
    "sum(myDF['state'] == \"tx\")"
   ]
  },
  {
   "cell_type": "code",
   "execution_count": 51,
   "id": "9331e0aa-45a4-4ae6-b954-480e528dc453",
   "metadata": {},
   "outputs": [
    {
     "data": {
      "text/plain": [
       "array(['prescott', 'fayetteville', 'florida keys',\n",
       "       'worcester / central MA', 'greensboro', 'hudson valley',\n",
       "       'medford-ashland', 'erie', 'el paso', 'bellingham',\n",
       "       'skagit / island / SJI', 'la crosse', 'auburn', 'birmingham',\n",
       "       'dothan', 'florence / muscle shoals', 'gadsden-anniston',\n",
       "       'huntsville / decatur', 'mobile', 'montgomery', 'tuscaloosa',\n",
       "       'anchorage / mat-su', 'fairbanks', 'kenai peninsula',\n",
       "       'southeast alaska', 'flagstaff / sedona', 'mohave county',\n",
       "       'phoenix', 'show low', 'sierra vista', 'tucson', 'yuma',\n",
       "       'fort smith', 'jonesboro', 'little rock', 'texarkana',\n",
       "       'bakersfield', 'chico', 'fresno / madera', 'gold country',\n",
       "       'hanford-corcoran', 'humboldt county', 'imperial county',\n",
       "       'inland empire', 'los angeles', 'mendocino county', 'merced',\n",
       "       'modesto', 'monterey bay', 'orange county', 'palm springs',\n",
       "       'redding', 'reno / tahoe', 'sacramento', 'san diego',\n",
       "       'san luis obispo', 'santa barbara', 'santa maria', 'SF bay area',\n",
       "       'siskiyou county', 'stockton', 'susanville', 'ventura county',\n",
       "       'visalia-tulare', 'yuba-sutter', 'boulder', 'colorado springs',\n",
       "       'denver', 'eastern CO', 'fort collins / north CO', 'high rockies',\n",
       "       'pueblo', 'western slope', 'eastern CT', 'hartford', 'new haven',\n",
       "       'northwest CT', 'washington, DC', 'delaware', 'daytona beach',\n",
       "       'ft myers / SW florida', 'gainesville', 'heartland florida',\n",
       "       'jacksonville', 'lakeland', 'north central FL', 'ocala',\n",
       "       'okaloosa / walton', 'orlando', 'panama city', 'pensacola',\n",
       "       'sarasota-bradenton', 'south florida', 'space coast',\n",
       "       'st augustine', 'tallahassee', 'tampa bay area', 'treasure coast',\n",
       "       'albany', 'athens', 'atlanta', 'augusta', 'brunswick', 'columbus',\n",
       "       'macon / warner robins', 'northwest GA', 'savannah / hinesville',\n",
       "       'statesboro', 'valdosta', 'hawaii', 'boise', 'east idaho',\n",
       "       'lewiston / clarkston', 'pullman / moscow',\n",
       "       \"spokane / coeur d'alene\", 'twin falls', 'bloomington-normal',\n",
       "       'champaign urbana', 'chicago', 'decatur', 'la salle co',\n",
       "       'mattoon-charleston', 'peoria', 'quad cities, IA/IL', 'rockford',\n",
       "       'southern illinois', 'springfield', 'st louis, MO', 'western IL',\n",
       "       'bloomington', 'evansville', 'fort wayne', 'indianapolis',\n",
       "       'kokomo', 'lafayette / west lafayette', 'muncie / anderson',\n",
       "       'richmond', 'south bend / michiana', 'terre haute', 'ames',\n",
       "       'cedar rapids', 'des moines', 'dubuque', 'fort dodge', 'iowa city',\n",
       "       'mason city', 'omaha / council bluffs', 'sioux city',\n",
       "       'southeast IA', 'waterloo / cedar falls', 'kansas city, MO',\n",
       "       'lawrence', 'manhattan', 'northwest KS', 'salina', 'southeast KS',\n",
       "       'southwest KS', 'topeka', 'wichita', 'bowling green',\n",
       "       'eastern kentucky', 'huntington-ashland', 'lexington',\n",
       "       'louisville', 'owensboro', 'western KY', 'baton rouge',\n",
       "       'central louisiana', 'houma', 'lafayette', 'lake charles',\n",
       "       'monroe', 'new orleans', 'shreveport', 'maine', 'annapolis',\n",
       "       'baltimore', 'cumberland valley', 'eastern shore', 'frederick',\n",
       "       'southern maryland', 'western maryland', 'boston',\n",
       "       'cape cod / islands', 'south coast', 'western massachusetts',\n",
       "       'ann arbor', 'battle creek', 'central michigan', 'detroit metro',\n",
       "       'flint', 'grand rapids', 'holland', 'jackson', 'kalamazoo',\n",
       "       'lansing', 'muskegon', 'northern michigan', 'port huron',\n",
       "       'saginaw-midland-baycity', 'southwest michigan', 'the thumb',\n",
       "       'upper peninsula', 'bemidji', 'brainerd', 'duluth / superior',\n",
       "       'fargo / moorhead', 'mankato', 'minneapolis / st paul',\n",
       "       'rochester', 'southwest MN', 'st cloud', 'gulfport / biloxi',\n",
       "       'hattiesburg', 'meridian', 'north mississippi', 'southwest MS',\n",
       "       'columbia / jeff city', 'joplin', 'kansas city', 'kirksville',\n",
       "       'lake of the ozarks', 'southeast missouri', 'st joseph',\n",
       "       'st louis', 'billings', 'bozeman', 'butte', 'eastern montana',\n",
       "       'great falls', 'helena', 'kalispell', 'missoula', 'asheville',\n",
       "       'boone', 'charlotte', 'eastern NC', 'hickory / lenoir',\n",
       "       'outer banks', 'raleigh / durham / CH', 'wilmington',\n",
       "       'winston-salem', 'grand island', 'lincoln', 'north platte',\n",
       "       'scottsbluff / panhandle', 'elko', 'las vegas', 'central NJ',\n",
       "       'jersey shore', 'north jersey', 'south jersey', 'albuquerque',\n",
       "       'clovis / portales', 'farmington', 'las cruces',\n",
       "       'roswell / carlsbad', 'santa fe / taos', 'binghamton', 'buffalo',\n",
       "       'catskills', 'chautauqua', 'elmira-corning', 'finger lakes',\n",
       "       'glens falls', 'ithaca', 'long island', 'new york city', 'oneonta',\n",
       "       'plattsburgh-adirondacks', 'potsdam-canton-massena', 'syracuse',\n",
       "       'twin tiers NY/PA', 'utica-rome-oneida', 'watertown',\n",
       "       'new hampshire', 'bismarck', 'grand forks', 'north dakota',\n",
       "       'akron / canton', 'ashtabula', 'chillicothe', 'cincinnati',\n",
       "       'cleveland', 'dayton / springfield', 'lima / findlay', 'mansfield',\n",
       "       'northern panhandle', 'parkersburg-marietta', 'sandusky', 'toledo',\n",
       "       'tuscarawas co', 'youngstown', 'zanesville / cambridge',\n",
       "       'fort smith, AR', 'lawton', 'northwest OK', 'oklahoma city',\n",
       "       'stillwater', 'texoma', 'tulsa', 'bend', 'corvallis/albany',\n",
       "       'east oregon', 'eugene', 'klamath falls', 'oregon coast',\n",
       "       'portland', 'roseburg', 'salem', 'altoona-johnstown', 'harrisburg',\n",
       "       'lancaster', 'lehigh valley', 'meadville', 'philadelphia',\n",
       "       'pittsburgh', 'poconos', 'reading', 'scranton / wilkes-barre',\n",
       "       'state college', 'williamsport', 'york', 'rhode island',\n",
       "       'charleston', 'columbia', 'florence', 'greenville / upstate',\n",
       "       'hilton head', 'myrtle beach', 'northeast SD',\n",
       "       'pierre / central SD', 'rapid city / west SD',\n",
       "       'sioux falls / SE SD', 'south dakota', 'chattanooga',\n",
       "       'clarksville', 'cookeville', 'knoxville', 'memphis', 'nashville',\n",
       "       'tri-cities', 'abilene', 'amarillo', 'austin',\n",
       "       'beaumont / port arthur', 'brownsville', 'college station',\n",
       "       'corpus christi', 'dallas / fort worth', 'deep east texas',\n",
       "       'del rio / eagle pass', 'galveston', 'houston',\n",
       "       'killeen / temple / ft hood', 'laredo', 'lubbock',\n",
       "       'mcallen / edinburg', 'odessa / midland', 'san angelo',\n",
       "       'san antonio', 'san marcos', 'southwest TX', 'tyler / east TX',\n",
       "       'victoria', 'waco', 'wichita falls', 'logan', 'ogden-clearfield',\n",
       "       'provo / orem', 'salt lake city', 'st george', 'vermont',\n",
       "       'charlottesville', 'danville', 'fredericksburg', 'harrisonburg',\n",
       "       'lynchburg', 'new river valley', 'norfolk / hampton roads',\n",
       "       'roanoke', 'southwest VA', 'winchester',\n",
       "       'kennewick-pasco-richland', 'moses lake', 'olympic peninsula',\n",
       "       'seattle-tacoma', 'wenatchee', 'yakima', 'eastern panhandle',\n",
       "       'morgantown', 'southern WV', 'west virginia (old)',\n",
       "       'appleton-oshkosh-FDL', 'eau claire', 'green bay', 'janesville',\n",
       "       'kenosha-racine', 'madison', 'milwaukee', 'northern WI',\n",
       "       'sheboygan', 'wausau', 'wyoming'], dtype=object)"
      ]
     },
     "execution_count": 51,
     "metadata": {},
     "output_type": "execute_result"
    }
   ],
   "source": [
    "myDF['region'].unique()"
   ]
  },
  {
   "cell_type": "code",
   "execution_count": 50,
   "id": "cce87e06-1e8e-40d8-abcf-53568e521781",
   "metadata": {},
   "outputs": [
    {
     "data": {
      "text/plain": [
       "404"
      ]
     },
     "execution_count": 50,
     "metadata": {},
     "output_type": "execute_result"
    }
   ],
   "source": [
    "len(myDF['region'].unique())"
   ]
  },
  {
   "cell_type": "markdown",
   "id": "88c9cdac-3e92-498f-83fa-e089bfc44ac8",
   "metadata": {},
   "source": [
    "## Question 5"
   ]
  },
  {
   "cell_type": "code",
   "execution_count": 62,
   "id": "b8859fe3-a5dd-4300-92bf-427be2c6d5a7",
   "metadata": {},
   "outputs": [
    {
     "data": {
      "image/png": "[encoded data removed]",
      "text/plain": [
       "<Figure size 2000x1000 with 1 Axes>"
      ]
     },
     "metadata": {},
     "output_type": "display_data"
    }
   ],
   "source": [
    "import matplotlib.pyplot as plt\n",
    "lower_than_six = myDF[myDF['price'] < 6000]\n",
    "barplot = lower_than_six.groupby('state').size()\n",
    "barplot.plot(kind = 'bar', figsize = (20, 10))\n",
    "plt.xlabel(\"States\")\n",
    "plt.ylabel(\"Number of cars under $6000\")\n",
    "for i, count in enumerate(barplot):\n",
    "    plt.annotate(str(count), xy=(i, count), ha='center', va='bottom')\n"
   ]
  },
  {
   "cell_type": "markdown",
   "id": "f76442d6-d02e-4f26-b9d6-c3183e1d6929",
   "metadata": {},
   "source": [
    "## Pledge\n",
    "\n",
    "By submitting this work I hereby pledge that this is my own, personal work. I've acknowledged in the designated place at the top of this file all sources that I used to complete said work, including but not limited to: online resources, books, and electronic communications. I've noted all collaboration with fellow students and/or TA's. I did not copy or plagiarize another's work.\n",
    "\n",
    "> As a Boilermaker pursuing academic excellence, I pledge to be honest and true in all that I do. Accountable together – We are Purdue."
   ]
  }
 ],
 "metadata": {
  "kernelspec": {
   "display_name": "seminar",
   "language": "python",
   "name": "seminar"
  },
  "language_info": {
   "codemirror_mode": {
    "name": "ipython",
    "version": 3
   },
   "file_extension": ".py",
   "mimetype": "text/x-python",
   "name": "python",
   "nbconvert_exporter": "python",
   "pygments_lexer": "ipython3",
   "version": "3.11.5"
  }
 },
 "nbformat": 4,
 "nbformat_minor": 5
}
