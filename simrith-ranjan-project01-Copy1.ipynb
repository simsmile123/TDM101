{
 "cells": [
  {
   "cell_type": "markdown",
   "id": "be02a957-7133-4d02-818e-fedeb3cecb05",
   "metadata": {},
   "source": [
    "# Project 1 -- Simrith Ranjan"
   ]
  },
  {
   "cell_type": "markdown",
   "id": "a1228853-dd19-4ab2-89e0-0394d7d72de3",
   "metadata": {},
   "source": [
    "**TA Help:** N/A\n",
    "    \n",
    "**Collaboration:** N/A"
   ]
  },
  {
   "cell_type": "markdown",
   "id": "6180e742-8e39-4698-98ff-5b00c8cf8ea0",
   "metadata": {
    "tags": []
   },
   "source": [
    "## Question 2"
   ]
  },
  {
   "cell_type": "code",
   "execution_count": 1,
   "id": "49445606-d363-41b4-b479-e319a9a84c01",
   "metadata": {},
   "outputs": [
    {
     "name": "stdout",
     "output_type": "stream",
     "text": [
      "Hello World!\n"
     ]
    }
   ],
   "source": [
    "print(\"Hello World!\")"
   ]
  },
  {
   "cell_type": "markdown",
   "id": "8e586edd-ff26-4ce2-8f6b-2424b26f2929",
   "metadata": {},
   "source": [
    "## Question 3"
   ]
  },
  {
   "cell_type": "code",
   "execution_count": 3,
   "id": "bbe0f40d-9655-4653-9ca8-886bdb61cb91",
   "metadata": {},
   "outputs": [
    {
     "name": "stdin",
     "output_type": "stream",
     "text": [
      "Enter an integer:  12\n"
     ]
    }
   ],
   "source": [
    "num1 = int(input(\"Enter an integer: \"))"
   ]
  },
  {
   "cell_type": "code",
   "execution_count": 4,
   "id": "aca52aed-96c9-481e-b83a-815b85dd979f",
   "metadata": {},
   "outputs": [
    {
     "name": "stdin",
     "output_type": "stream",
     "text": [
      "Enter an integer:  13\n"
     ]
    }
   ],
   "source": [
    "num2 = int(input(\"Enter an integer: \"))"
   ]
  },
  {
   "cell_type": "code",
   "execution_count": 5,
   "id": "a7e50ae7-40d7-4ad5-9322-60e062323866",
   "metadata": {},
   "outputs": [],
   "source": [
    "sum = num1 + num2"
   ]
  },
  {
   "cell_type": "code",
   "execution_count": 7,
   "id": "f8d1a57d-036d-47d2-9110-046d47425e8c",
   "metadata": {},
   "outputs": [
    {
     "name": "stdout",
     "output_type": "stream",
     "text": [
      "The sum of the two numbers is: 25\n"
     ]
    }
   ],
   "source": [
    "print(\"The sum of the two numbers is:\", sum)"
   ]
  },
  {
   "cell_type": "markdown",
   "id": "da22f29c-d245-4d2b-9fc1-ca14cb6087d9",
   "metadata": {},
   "source": [
    "## Question 4"
   ]
  },
  {
   "cell_type": "code",
   "execution_count": 11,
   "id": "8cffc767-d1c8-4d64-b7dc-f0d2ee8a80d1",
   "metadata": {},
   "outputs": [
    {
     "name": "stdin",
     "output_type": "stream",
     "text": [
      "Enter name of fruit  orange\n",
      "Enter name of fruit  banana\n",
      "Enter name of fruit  mango\n",
      "Enter name of fruit  strawberry\n",
      "Enter name of fruit  lime\n"
     ]
    }
   ],
   "source": [
    "myfruits = []\n",
    "for i in range(1,6):\n",
    "    fruit = input(\"Enter name of fruit \")\n",
    "    myfruits.append(fruit)"
   ]
  },
  {
   "cell_type": "code",
   "execution_count": 12,
   "id": "a1ec452d-ef53-4889-a9c7-b480232628af",
   "metadata": {},
   "outputs": [
    {
     "name": "stdout",
     "output_type": "stream",
     "text": [
      "['orange', 'banana', 'mango', 'strawberry', 'lime']\n"
     ]
    }
   ],
   "source": [
    "print(myfruits)"
   ]
  },
  {
   "cell_type": "markdown",
   "id": "88c9cdac-3e92-498f-83fa-e089bfc44ac8",
   "metadata": {},
   "source": [
    "## Question 5"
   ]
  },
  {
   "cell_type": "code",
   "execution_count": 13,
   "id": "d370d7c9-06db-42b9-b75f-240481a5c491",
   "metadata": {},
   "outputs": [],
   "source": [
    "import pandas as pd\n",
    "forest = pd.read_csv(\"/anvil/projects/tdm/data/forest/ENTIRE_COUNTY.csv\")"
   ]
  },
  {
   "cell_type": "code",
   "execution_count": 14,
   "id": "e63f2a9a-1966-40ab-b405-abb826f7c0fe",
   "metadata": {},
   "outputs": [
    {
     "name": "stdout",
     "output_type": "stream",
     "text": [
      "<class 'pandas.core.frame.DataFrame'>\n",
      "RangeIndex: 3250 entries, 0 to 3249\n",
      "Data columns (total 11 columns):\n",
      " #   Column                Non-Null Count  Dtype  \n",
      "---  ------                --------------  -----  \n",
      " 0   STATECD               3250 non-null   int64  \n",
      " 1   UNITCD                3250 non-null   int64  \n",
      " 2   COUNTYCD              3250 non-null   int64  \n",
      " 3   COUNTYNM              3250 non-null   object \n",
      " 4   CN                    3250 non-null   int64  \n",
      " 5   CREATED_BY            3250 non-null   object \n",
      " 6   CREATED_DATE          3250 non-null   object \n",
      " 7   CREATED_IN_INSTANCE   3250 non-null   int64  \n",
      " 8   MODIFIED_BY           1355 non-null   object \n",
      " 9   MODIFIED_DATE         1355 non-null   object \n",
      " 10  MODIFIED_IN_INSTANCE  1355 non-null   float64\n",
      "dtypes: float64(1), int64(5), object(5)\n",
      "memory usage: 279.4+ KB\n"
     ]
    }
   ],
   "source": [
    "forest.info()"
   ]
  },
  {
   "cell_type": "code",
   "execution_count": 19,
   "id": "69204258-09a5-4a2e-a3a1-1164e9d8a4c1",
   "metadata": {},
   "outputs": [
    {
     "data": {
      "text/plain": [
       "(3250, 11)"
      ]
     },
     "execution_count": 19,
     "metadata": {},
     "output_type": "execute_result"
    }
   ],
   "source": [
    "forest.shape"
   ]
  },
  {
   "cell_type": "code",
   "execution_count": 22,
   "id": "c74af7cf-68ac-4ab4-b667-36e5a5e3a579",
   "metadata": {},
   "outputs": [
    {
     "data": {
      "text/plain": [
       "35750"
      ]
     },
     "execution_count": 22,
     "metadata": {},
     "output_type": "execute_result"
    }
   ],
   "source": [
    "forest.size"
   ]
  },
  {
   "cell_type": "code",
   "execution_count": 20,
   "id": "8f384da8-f43f-46e1-9ad3-a725587c4fd7",
   "metadata": {},
   "outputs": [
    {
     "data": {
      "text/plain": [
       "<bound method DataFrame.info of       STATECD  UNITCD  COUNTYCD      COUNTYNM              CN     CREATED_BY  \\\n",
       "0          17       1         3     Alexander         1010661       NIMS_DEV   \n",
       "1          17       1        55      Franklin         2010661       NIMS_DEV   \n",
       "2          17       1        59      Gallatin         3010661       NIMS_DEV   \n",
       "3          17       1        65      Hamilton         4010661       NIMS_DEV   \n",
       "4          17       1        69        Hardin         5010661       NIMS_DEV   \n",
       "...       ...     ...       ...           ...             ...            ...   \n",
       "3245       60       1        50  Tutuila West  14424024000440  FS_NIMS_PNWRS   \n",
       "3246       64       1         2         Chuuk  14424025000440  FS_NIMS_PNWRS   \n",
       "3247       64       1         5        Kosrae  14424026000440  FS_NIMS_PNWRS   \n",
       "3248       64       1        40       Pohnpei  14424027000440  FS_NIMS_PNWRS   \n",
       "3249       64       1        60           Yap  14424028000440  FS_NIMS_PNWRS   \n",
       "\n",
       "             CREATED_DATE  CREATED_IN_INSTANCE MODIFIED_BY MODIFIED_DATE  \\\n",
       "0     2002-04-30 10:32:00                10661         NaN           NaN   \n",
       "1     2002-04-30 10:32:00                10661         NaN           NaN   \n",
       "2     2002-04-30 10:32:00                10661         NaN           NaN   \n",
       "3     2002-04-30 10:32:00                10661         NaN           NaN   \n",
       "4     2002-04-30 10:32:00                10661         NaN           NaN   \n",
       "...                   ...                  ...         ...           ...   \n",
       "3245  2013-01-11 18:08:55                  440         NaN           NaN   \n",
       "3246  2013-01-11 18:08:55                  440         NaN           NaN   \n",
       "3247  2013-01-11 18:08:55                  440         NaN           NaN   \n",
       "3248  2013-01-11 18:08:55                  440         NaN           NaN   \n",
       "3249  2013-01-11 18:08:55                  440         NaN           NaN   \n",
       "\n",
       "      MODIFIED_IN_INSTANCE  \n",
       "0                      NaN  \n",
       "1                      NaN  \n",
       "2                      NaN  \n",
       "3                      NaN  \n",
       "4                      NaN  \n",
       "...                    ...  \n",
       "3245                   NaN  \n",
       "3246                   NaN  \n",
       "3247                   NaN  \n",
       "3248                   NaN  \n",
       "3249                   NaN  \n",
       "\n",
       "[3250 rows x 11 columns]>"
      ]
     },
     "execution_count": 20,
     "metadata": {},
     "output_type": "execute_result"
    }
   ],
   "source": [
    "forest.info"
   ]
  },
  {
   "cell_type": "markdown",
   "id": "f76442d6-d02e-4f26-b9d6-c3183e1d6929",
   "metadata": {},
   "source": [
    "## Pledge\n",
    "\n",
    "By submitting this work I hereby pledge that this is my own, personal work. I've acknowledged in the designated place at the top of this file all sources that I used to complete said work, including but not limited to: online resources, books, and electronic communications. I've noted all collaboration with fellow students and/or TA's. I did not copy or plagiarize another's work.\n",
    "\n",
    "> As a Boilermaker pursuing academic excellence, I pledge to be honest and true in all that I do. Accountable together – We are Purdue."
   ]
  }
 ],
 "metadata": {
  "kernelspec": {
   "display_name": "seminar",
   "language": "python",
   "name": "seminar"
  },
  "language_info": {
   "codemirror_mode": {
    "name": "ipython",
    "version": 3
   },
   "file_extension": ".py",
   "mimetype": "text/x-python",
   "name": "python",
   "nbconvert_exporter": "python",
   "pygments_lexer": "ipython3",
   "version": "3.11.5"
  }
 },
 "nbformat": 4,
 "nbformat_minor": 5
}
