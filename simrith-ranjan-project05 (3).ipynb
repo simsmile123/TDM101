{
 "cells": [
  {
   "cell_type": "markdown",
   "id": "be02a957-7133-4d02-818e-fedeb3cecb05",
   "metadata": {},
   "source": [
    "# Project 5 -- Simrith Ranjan"
   ]
  },
  {
   "cell_type": "markdown",
   "id": "a1228853-dd19-4ab2-89e0-0394d7d72de3",
   "metadata": {},
   "source": [
    "**TA Help:** N/A\n",
    "    \n",
    "**Collaboration:** \n"
   ]
  },
  {
   "cell_type": "markdown",
   "id": "6180e742-8e39-4698-98ff-5b00c8cf8ea0",
   "metadata": {
    "tags": []
   },
   "source": [
    "## Question 1"
   ]
  },
  {
   "cell_type": "code",
   "execution_count": 55,
   "id": "91d60c6a-f73e-42c0-a79e-6af5a02672a3",
   "metadata": {},
   "outputs": [],
   "source": [
    "import pandas as pd"
   ]
  },
  {
   "cell_type": "code",
   "execution_count": 56,
   "id": "f7c46d17-73db-48f2-9fc6-8ec751cda3d9",
   "metadata": {},
   "outputs": [],
   "source": [
    "from pathlib import Path"
   ]
  },
  {
   "cell_type": "code",
   "execution_count": 58,
   "id": "5bd7819b-b1d0-444c-a44a-92473266247d",
   "metadata": {},
   "outputs": [],
   "source": [
    "myDF = pd.read_csv(\"/anvil/projects/tdm/data/noaa/1880.csv\", header = None, names =[\"id\", \"date\", \"element_code\", \"value\", \"mflag\", \"qflag\", \"sflag\", \"obstime\"])\n",
    "\n",
    "\n"
   ]
  },
  {
   "cell_type": "code",
   "execution_count": 59,
   "id": "b868dc8c-af7a-4f9e-9115-c0a0d426be16",
   "metadata": {},
   "outputs": [],
   "source": [
    "def avg_aggreg_temp(file_location, column_title_list, start_date, end_date, my_element_code = \"TAVG\" ) -> float:\n",
    "    myDF = pd.read_csv(file_location, header=None, names=column_title_list)\n",
    "    myresult = myDF[(myDF['date'] >= start_date) & (myDF['date'] <= end_date) & (myDF['element_code'] == my_element_code)]['value'].mean()\n",
    "    return myresult"
   ]
  },
  {
   "cell_type": "code",
   "execution_count": 60,
   "id": "057a8862-85db-4c7e-a222-6a157fd1d213",
   "metadata": {},
   "outputs": [
    {
     "data": {
      "text/plain": [
       "(370779, 8)"
      ]
     },
     "execution_count": 60,
     "metadata": {},
     "output_type": "execute_result"
    }
   ],
   "source": [
    "myDF.shape"
   ]
  },
  {
   "cell_type": "code",
   "execution_count": 61,
   "id": "7c97b90c-a9d5-47e8-92ee-01ee671d1466",
   "metadata": {},
   "outputs": [
    {
     "data": {
      "text/plain": [
       "20.039599721731687"
      ]
     },
     "execution_count": 61,
     "metadata": {},
     "output_type": "execute_result"
    }
   ],
   "source": [
    "avg_aggreg_temp(\"/anvil/projects/tdm/data/noaa/1880.csv\", [\"id\",\"date\",\"element_code\",\"value\",\"mflag\",\"qflag\",\"sflag\",\"obstime\"], 18801001, 18801031, 'PRCP')  \n",
    "                        "
   ]
  },
  {
   "cell_type": "markdown",
   "id": "1370fe9e-81ec-4aac-8eb2-4ef9af44f733",
   "metadata": {
    "tags": []
   },
   "source": [
    "## Question 2"
   ]
  },
  {
   "cell_type": "code",
   "execution_count": 80,
   "id": "fa1c3ee4-7a0f-4d60-8056-9e47144bc54e",
   "metadata": {},
   "outputs": [],
   "source": [
    "def avg_aggreg_temp_by_year(range_of_years, column_title_list, my_element_code = \"TAVG\") -> dict:\n",
    "    mydict = {}\n",
    "    for myyear in range_of_years:\n",
    "        file_location = f'/anvil/projects/tdm/data/noaa/{myyear}.csv'\n",
    "        myDF = pd.read_csv(file_location, header=None, names=column_title_list)\n",
    "        myresult = myDF[(myDF['element_code'] == my_element_code)]['value'].mean()\n",
    "        mydict[myyear] = myresult\n",
    "    return mydict"
   ]
  },
  {
   "cell_type": "code",
   "execution_count": 81,
   "id": "ab7f1cc8-89ba-492d-a607-da1aeb81a7b8",
   "metadata": {},
   "outputs": [
    {
     "data": {
      "text/plain": [
       "{1880: 127.30054644808743,\n",
       " 1881: 49.00669116954104,\n",
       " 1882: 58.33541290428501,\n",
       " 1883: 50.54050116550116}"
      ]
     },
     "execution_count": 81,
     "metadata": {},
     "output_type": "execute_result"
    }
   ],
   "source": [
    "avg_aggreg_temp_by_year(range(1880,1884), [\"id\", \"date\", \"element_code\", \"value\", \"mflag\", \"qflag\", \"sflag\", \"obstime\"])\n",
    "\n",
    "\n"
   ]
  },
  {
   "cell_type": "markdown",
   "id": "8e586edd-ff26-4ce2-8f6b-2424b26f2929",
   "metadata": {
    "tags": []
   },
   "source": [
    "## Question 3"
   ]
  },
  {
   "cell_type": "code",
   "execution_count": 75,
   "id": "631fb5ca-531d-4eeb-8b75-5e9bce54cf88",
   "metadata": {},
   "outputs": [],
   "source": [
    "def avg_aggreg_temp_by_year_and_month(range_of_years, my_month, column_title_list, my_element_code = \"TAVG\") -> dict:\n",
    "    mydict = {}\n",
    "    for myyear in range_of_years:\n",
    "        file_location = f'/anvil/projects/tdm/data/noaa/{myyear}.csv'\n",
    "        myDF = pd.read_csv(file_location, header=None, names=column_title_list)\n",
    "        myDF['month'] = pd.to_datetime(myDF['date'], format = '%Y%m%d').dt.month\n",
    "        myresult = myDF[(myDF['element_code'] == my_element_code) & (myDF['month'] == my_month)]['value'].mean()\n",
    "        mydict[myyear] = myresult\n",
    "    return mydict"
   ]
  },
  {
   "cell_type": "code",
   "execution_count": 82,
   "id": "e1c7748b-4b1a-4d9f-a61d-bf9fe68bcb02",
   "metadata": {},
   "outputs": [
    {
     "data": {
      "text/plain": [
       "{1880: 235.09677419354838,\n",
       " 1881: 200.40793825799338,\n",
       " 1882: 217.031465093412,\n",
       " 1883: 212.14209591474244}"
      ]
     },
     "execution_count": 82,
     "metadata": {},
     "output_type": "execute_result"
    }
   ],
   "source": [
    "avg_aggreg_temp_by_year_and_month(range(1880,1884), 7, [\"id\", \"date\", \"element_code\", \"value\", \"mflag\", \"qflag\", \"sflag\", \"obstime\"])\n"
   ]
  },
  {
   "cell_type": "markdown",
   "id": "da22f29c-d245-4d2b-9fc1-ca14cb6087d9",
   "metadata": {},
   "source": [
    "## Question 4"
   ]
  },
  {
   "cell_type": "code",
   "execution_count": 89,
   "id": "a6a831bb-8986-4cce-bd5f-92a43770330d",
   "metadata": {},
   "outputs": [
    {
     "name": "stdout",
     "output_type": "stream",
     "text": [
      "Year with most qflags 'D': 1880\n",
      "Year with most qflags 'G': 1880\n",
      "Year with most qflags 'I': 1883\n",
      "Year with most qflags 'K': 1882\n",
      "Year with most qflags 'L': 1881\n",
      "Year with most qflags 'N': 1880\n",
      "Year with most qflags 'O': 1880\n",
      "Year with most qflags 'S': 1882\n",
      "Year with most qflags 'X': 1881\n"
     ]
    }
   ],
   "source": [
    "def most_qflags_year(range_of_years, qflag, column_title_list) -> int:\n",
    "    max_qflags_year = range_of_years[0]\n",
    "    max_qflags_count = 0\n",
    "    \n",
    "    for myyear in range_of_years:\n",
    "        file_location = f'/anvil/projects/tdm/data/noaa/{myyear}.csv'\n",
    "        myDF = pd.read_csv(file_location, header=None, names=column_title_list)\n",
    "        qflags_count = myDF[(myDF['qflag'] == qflag)].shape[0]\n",
    "        \n",
    "        if qflags_count > max_qflags_count:\n",
    "            max_qflags_count = qflags_count\n",
    "            max_qflags_year = myyear\n",
    "    \n",
    "    return max_qflags_year\n",
    "\n"
   ]
  },
  {
   "cell_type": "code",
   "execution_count": null,
   "id": "70dc8bec-0631-4ba1-b7ca-c012d25c9ee0",
   "metadata": {},
   "outputs": [],
   "source": [
    "#test aspect\n",
    "range_of_years = range(1880, 1884)\n",
    "column_title_list = [\"id\",\"date\",\"element_code\",\"value\",\"mflag\",\"qflag\",\"sflag\",\"obstime\"]  \n",
    "qflags_to_test = ['D', 'G', 'I', 'K', 'L', 'N', 'O', 'S', 'X']\n",
    "\n",
    "for qflag in qflags_to_test:\n",
    "    year_with_most_qflags = most_qflags_year(range_of_years, qflag, column_title_list)\n",
    "    print(f\"Year with most qflags '{qflag}': {year_with_most_qflags}\")"
   ]
  },
  {
   "cell_type": "markdown",
   "id": "88c9cdac-3e92-498f-83fa-e089bfc44ac8",
   "metadata": {},
   "source": [
    "## Question 5"
   ]
  },
  {
   "cell_type": "code",
   "execution_count": 110,
   "id": "e694b5f8-b670-4e7e-9955-af7b67e2f278",
   "metadata": {},
   "outputs": [],
   "source": [
    "myDF = pd.read_csv(\"/anvil/projects/tdm/data/noaa/1880.csv\", header = None, names =[\"id\", \"date\", \"element_code\", \"value\", \"mflag\", \"qflag\", \"sflag\", \"obstime\"])\n",
    "\n",
    "\n"
   ]
  },
  {
   "cell_type": "code",
   "execution_count": 112,
   "id": "ccd09a8c-0778-45ee-90d1-f8810f21ef1d",
   "metadata": {},
   "outputs": [
    {
     "data": {
      "text/html": [
       "<div>\n",
       "<style scoped>\n",
       "    .dataframe tbody tr th:only-of-type {\n",
       "        vertical-align: middle;\n",
       "    }\n",
       "\n",
       "    .dataframe tbody tr th {\n",
       "        vertical-align: top;\n",
       "    }\n",
       "\n",
       "    .dataframe thead th {\n",
       "        text-align: right;\n",
       "    }\n",
       "</style>\n",
       "<table border=\"1\" class=\"dataframe\">\n",
       "  <thead>\n",
       "    <tr style=\"text-align: right;\">\n",
       "      <th></th>\n",
       "      <th>id</th>\n",
       "      <th>date</th>\n",
       "      <th>element_code</th>\n",
       "      <th>value</th>\n",
       "      <th>mflag</th>\n",
       "      <th>qflag</th>\n",
       "      <th>sflag</th>\n",
       "      <th>obstime</th>\n",
       "    </tr>\n",
       "  </thead>\n",
       "  <tbody>\n",
       "    <tr>\n",
       "      <th>0</th>\n",
       "      <td>AGE00147705</td>\n",
       "      <td>18800101</td>\n",
       "      <td>PRCP</td>\n",
       "      <td>0</td>\n",
       "      <td>NaN</td>\n",
       "      <td>NaN</td>\n",
       "      <td>E</td>\n",
       "      <td>NaN</td>\n",
       "    </tr>\n",
       "    <tr>\n",
       "      <th>1</th>\n",
       "      <td>AGE00147708</td>\n",
       "      <td>18800101</td>\n",
       "      <td>PRCP</td>\n",
       "      <td>36</td>\n",
       "      <td>NaN</td>\n",
       "      <td>NaN</td>\n",
       "      <td>E</td>\n",
       "      <td>NaN</td>\n",
       "    </tr>\n",
       "    <tr>\n",
       "      <th>2</th>\n",
       "      <td>AGE00147709</td>\n",
       "      <td>18800101</td>\n",
       "      <td>PRCP</td>\n",
       "      <td>36</td>\n",
       "      <td>NaN</td>\n",
       "      <td>NaN</td>\n",
       "      <td>E</td>\n",
       "      <td>NaN</td>\n",
       "    </tr>\n",
       "    <tr>\n",
       "      <th>3</th>\n",
       "      <td>AGE00147712</td>\n",
       "      <td>18800101</td>\n",
       "      <td>PRCP</td>\n",
       "      <td>0</td>\n",
       "      <td>NaN</td>\n",
       "      <td>NaN</td>\n",
       "      <td>E</td>\n",
       "      <td>NaN</td>\n",
       "    </tr>\n",
       "    <tr>\n",
       "      <th>4</th>\n",
       "      <td>AGE00147713</td>\n",
       "      <td>18800101</td>\n",
       "      <td>TMAX</td>\n",
       "      <td>52</td>\n",
       "      <td>NaN</td>\n",
       "      <td>NaN</td>\n",
       "      <td>E</td>\n",
       "      <td>NaN</td>\n",
       "    </tr>\n",
       "  </tbody>\n",
       "</table>\n",
       "</div>"
      ],
      "text/plain": [
       "            id      date element_code  value mflag qflag sflag  obstime\n",
       "0  AGE00147705  18800101         PRCP      0   NaN   NaN     E      NaN\n",
       "1  AGE00147708  18800101         PRCP     36   NaN   NaN     E      NaN\n",
       "2  AGE00147709  18800101         PRCP     36   NaN   NaN     E      NaN\n",
       "3  AGE00147712  18800101         PRCP      0   NaN   NaN     E      NaN\n",
       "4  AGE00147713  18800101         TMAX     52   NaN   NaN     E      NaN"
      ]
     },
     "execution_count": 112,
     "metadata": {},
     "output_type": "execute_result"
    }
   ],
   "source": [
    "myDF.head()"
   ]
  },
  {
   "cell_type": "code",
   "execution_count": 113,
   "id": "cd3141fc-b26a-4a50-a7e8-4d93b959ebcf",
   "metadata": {},
   "outputs": [],
   "source": [
    "def most_values_year(range_of_years, value, column_title_list) -> int:\n",
    "    '''\n",
    "    takes in range_of_years, value, column_title_list, and returns the year with the highest value\n",
    "    '''\n",
    "    max_value_year = range_of_years[0]\n",
    "    max_value_count = 0\n",
    "    \n",
    "    for myyear in range_of_years:\n",
    "        file_location = f'/anvil/projects/tdm/data/noaa/{myyear}.csv'\n",
    "        myDF = pd.read_csv(file_location, header=None, names=column_title_list)\n",
    "        value_count = myDF[(myDF['value'] == value)].shape[0]\n",
    "        \n",
    "        if value_count > max_qflags_count:\n",
    "            max_value_count = value_count\n",
    "            max_value_year = myyear\n",
    "    \n",
    "    return max_value_year\n",
    "\n"
   ]
  },
  {
   "cell_type": "markdown",
   "id": "f76442d6-d02e-4f26-b9d6-c3183e1d6929",
   "metadata": {},
   "source": [
    "## Pledge\n",
    "\n",
    "By submitting this work I hereby pledge that this is my own, personal work. I've acknowledged in the designated place at the top of this file all sources that I used to complete said work, including but not limited to: online resources, books, and electronic communications. I've noted all collaboration with fellow students and/or TA's. I did not copy or plagiarize another's work.\n",
    "\n",
    "> As a Boilermaker pursuing academic excellence, I pledge to be honest and true in all that I do. Accountable together – We are Purdue."
   ]
  }
 ],
 "metadata": {
  "kernelspec": {
   "display_name": "seminar",
   "language": "python",
   "name": "seminar"
  },
  "language_info": {
   "codemirror_mode": {
    "name": "ipython",
    "version": 3
   },
   "file_extension": ".py",
   "mimetype": "text/x-python",
   "name": "python",
   "nbconvert_exporter": "python",
   "pygments_lexer": "ipython3",
   "version": "3.11.5"
  }
 },
 "nbformat": 4,
 "nbformat_minor": 5
}
