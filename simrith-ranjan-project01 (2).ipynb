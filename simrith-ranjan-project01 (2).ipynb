{
 "cells": [
  {
   "cell_type": "markdown",
   "id": "be02a957-7133-4d02-818e-fedeb3cecb05",
   "metadata": {},
   "source": [
    "# Project X -- Simrith Ranjan"
   ]
  },
  {
   "cell_type": "markdown",
   "id": "a1228853-dd19-4ab2-89e0-0394d7d72de3",
   "metadata": {},
   "source": [
    "**TA Help:** \n",
    "\n",
    "- video from TDM 101 page\n",
    "    \n",
    "**Collaboration:** Kushal Muthamsetty\n",
    "    \n",
    "- We worked across from each other, and helped in finding the links, and what to download"
   ]
  },
  {
   "cell_type": "markdown",
   "id": "6180e742-8e39-4698-98ff-5b00c8cf8ea0",
   "metadata": {},
   "source": [
    "## Question 1"
   ]
  },
  {
   "cell_type": "markdown",
   "id": "b456e57c-4a12-464b-999a-ef2df5af80c1",
   "metadata": {},
   "source": [
    "A. 128 cores (per node) * 1000 nodes = 128000 cores in cluster A . 256 GB per node * 1000 nodes = 256000 GB or 256 TB\n",
    "There are 128,000 cores in cluser A, and 256,000 GB in cluster A.\n",
    "B. There is 8 GB of memory and 8 cores in my macbook"
   ]
  },
  {
   "cell_type": "markdown",
   "id": "fc601975-35ed-4680-a4e1-0273ee3cc047",
   "metadata": {},
   "source": [
    "## Question 2"
   ]
  },
  {
   "cell_type": "code",
   "execution_count": 2,
   "id": "a16336a1-1ef0-41e8-bc7c-49387db27497",
   "metadata": {},
   "outputs": [
    {
     "name": "stdout",
     "output_type": "stream",
     "text": [
      "a249.anvil.rcac.purdue.edu\n"
     ]
    }
   ],
   "source": [
    "# The name of the node is \"a240.anvil.rcac.purdue.edu\" for bash, python, and R.\n",
    "import socket\n",
    "print(socket.gethostname())\n",
    "\n"
   ]
  },
  {
   "cell_type": "code",
   "execution_count": 3,
   "id": "82988d6b-ff72-4b0f-990d-bfd0379a910f",
   "metadata": {},
   "outputs": [
    {
     "name": "stdout",
     "output_type": "stream",
     "text": [
      "[1] \"a249.anvil.rcac.purdue.edu\"\n"
     ]
    },
    {
     "data": {
      "text/plain": [
       "In addition: Warning message:\n",
       "In (function (package, help, pos = 2, lib.loc = NULL, character.only = FALSE,  :\n",
       "  library ‘/usr/local/lib/R/site-library’ contains no packages\n"
      ]
     },
     "metadata": {},
     "output_type": "display_data"
    }
   ],
   "source": [
    "%%R\n",
    "\n",
    "system(\"hostname\", intern=TRUE)"
   ]
  },
  {
   "cell_type": "code",
   "execution_count": 4,
   "id": "bd9829ac-2f10-4b09-810f-a0785eff7601",
   "metadata": {},
   "outputs": [
    {
     "name": "stdout",
     "output_type": "stream",
     "text": [
      "a249.anvil.rcac.purdue.edu\n"
     ]
    }
   ],
   "source": [
    "%%bash\n",
    "\n",
    "hostname\n"
   ]
  },
  {
   "cell_type": "code",
   "execution_count": 5,
   "id": "c1fd538d-b1cc-4e3c-9e34-863e2ba6542b",
   "metadata": {},
   "outputs": [],
   "source": [
    "%sql sqlite:////anvil/projects/tdm/data/movies_and_tv/imdb.db"
   ]
  },
  {
   "cell_type": "markdown",
   "id": "14dc22d4-ddc3-41cc-a91a-cb0025bc0c80",
   "metadata": {},
   "source": [
    "The name of the node is \"a240.anvil.rcac.purdue.edu\" for bash, python, and R. "
   ]
  },
  {
   "cell_type": "markdown",
   "id": "8e586edd-ff26-4ce2-8f6b-2424b26f2929",
   "metadata": {},
   "source": [
    "## Question 3"
   ]
  },
  {
   "cell_type": "code",
   "execution_count": 6,
   "id": "bbe0f40d-9655-4653-9ca8-886bdb61cb91",
   "metadata": {},
   "outputs": [
    {
     "data": {
      "text/html": [
       "<div>\n",
       "<style scoped>\n",
       "    .dataframe tbody tr th:only-of-type {\n",
       "        vertical-align: middle;\n",
       "    }\n",
       "\n",
       "    .dataframe tbody tr th {\n",
       "        vertical-align: top;\n",
       "    }\n",
       "\n",
       "    .dataframe thead th {\n",
       "        text-align: right;\n",
       "    }\n",
       "</style>\n",
       "<table border=\"1\" class=\"dataframe\">\n",
       "  <thead>\n",
       "    <tr style=\"text-align: right;\">\n",
       "      <th></th>\n",
       "      <th>Year</th>\n",
       "      <th>Month</th>\n",
       "      <th>DayofMonth</th>\n",
       "      <th>DayOfWeek</th>\n",
       "      <th>DepTime</th>\n",
       "      <th>CRSDepTime</th>\n",
       "      <th>ArrTime</th>\n",
       "      <th>CRSArrTime</th>\n",
       "      <th>UniqueCarrier</th>\n",
       "      <th>FlightNum</th>\n",
       "      <th>...</th>\n",
       "      <th>TaxiIn</th>\n",
       "      <th>TaxiOut</th>\n",
       "      <th>Cancelled</th>\n",
       "      <th>CancellationCode</th>\n",
       "      <th>Diverted</th>\n",
       "      <th>CarrierDelay</th>\n",
       "      <th>WeatherDelay</th>\n",
       "      <th>NASDelay</th>\n",
       "      <th>SecurityDelay</th>\n",
       "      <th>LateAircraftDelay</th>\n",
       "    </tr>\n",
       "  </thead>\n",
       "  <tbody>\n",
       "    <tr>\n",
       "      <th>4657380</th>\n",
       "      <td>1991</td>\n",
       "      <td>12</td>\n",
       "      <td>29</td>\n",
       "      <td>7</td>\n",
       "      <td>1631.0</td>\n",
       "      <td>1630</td>\n",
       "      <td>1829.0</td>\n",
       "      <td>1828</td>\n",
       "      <td>UA</td>\n",
       "      <td>1770</td>\n",
       "      <td>...</td>\n",
       "      <td>NaN</td>\n",
       "      <td>NaN</td>\n",
       "      <td>0</td>\n",
       "      <td>NaN</td>\n",
       "      <td>0</td>\n",
       "      <td>NaN</td>\n",
       "      <td>NaN</td>\n",
       "      <td>NaN</td>\n",
       "      <td>NaN</td>\n",
       "      <td>NaN</td>\n",
       "    </tr>\n",
       "    <tr>\n",
       "      <th>4657381</th>\n",
       "      <td>1991</td>\n",
       "      <td>12</td>\n",
       "      <td>30</td>\n",
       "      <td>1</td>\n",
       "      <td>1630.0</td>\n",
       "      <td>1630</td>\n",
       "      <td>1823.0</td>\n",
       "      <td>1828</td>\n",
       "      <td>UA</td>\n",
       "      <td>1770</td>\n",
       "      <td>...</td>\n",
       "      <td>NaN</td>\n",
       "      <td>NaN</td>\n",
       "      <td>0</td>\n",
       "      <td>NaN</td>\n",
       "      <td>0</td>\n",
       "      <td>NaN</td>\n",
       "      <td>NaN</td>\n",
       "      <td>NaN</td>\n",
       "      <td>NaN</td>\n",
       "      <td>NaN</td>\n",
       "    </tr>\n",
       "    <tr>\n",
       "      <th>4657382</th>\n",
       "      <td>1991</td>\n",
       "      <td>12</td>\n",
       "      <td>31</td>\n",
       "      <td>2</td>\n",
       "      <td>1628.0</td>\n",
       "      <td>1630</td>\n",
       "      <td>1820.0</td>\n",
       "      <td>1828</td>\n",
       "      <td>UA</td>\n",
       "      <td>1770</td>\n",
       "      <td>...</td>\n",
       "      <td>NaN</td>\n",
       "      <td>NaN</td>\n",
       "      <td>0</td>\n",
       "      <td>NaN</td>\n",
       "      <td>0</td>\n",
       "      <td>NaN</td>\n",
       "      <td>NaN</td>\n",
       "      <td>NaN</td>\n",
       "      <td>NaN</td>\n",
       "      <td>NaN</td>\n",
       "    </tr>\n",
       "    <tr>\n",
       "      <th>4657383</th>\n",
       "      <td>1991</td>\n",
       "      <td>12</td>\n",
       "      <td>1</td>\n",
       "      <td>7</td>\n",
       "      <td>1922.0</td>\n",
       "      <td>1922</td>\n",
       "      <td>2040.0</td>\n",
       "      <td>2045</td>\n",
       "      <td>UA</td>\n",
       "      <td>1774</td>\n",
       "      <td>...</td>\n",
       "      <td>NaN</td>\n",
       "      <td>NaN</td>\n",
       "      <td>0</td>\n",
       "      <td>NaN</td>\n",
       "      <td>0</td>\n",
       "      <td>NaN</td>\n",
       "      <td>NaN</td>\n",
       "      <td>NaN</td>\n",
       "      <td>NaN</td>\n",
       "      <td>NaN</td>\n",
       "    </tr>\n",
       "    <tr>\n",
       "      <th>4657384</th>\n",
       "      <td>1991</td>\n",
       "      <td>12</td>\n",
       "      <td>2</td>\n",
       "      <td>1</td>\n",
       "      <td>2005.0</td>\n",
       "      <td>1922</td>\n",
       "      <td>2119.0</td>\n",
       "      <td>2045</td>\n",
       "      <td>UA</td>\n",
       "      <td>1774</td>\n",
       "      <td>...</td>\n",
       "      <td>NaN</td>\n",
       "      <td>NaN</td>\n",
       "      <td>0</td>\n",
       "      <td>NaN</td>\n",
       "      <td>0</td>\n",
       "      <td>NaN</td>\n",
       "      <td>NaN</td>\n",
       "      <td>NaN</td>\n",
       "      <td>NaN</td>\n",
       "      <td>NaN</td>\n",
       "    </tr>\n",
       "  </tbody>\n",
       "</table>\n",
       "<p>5 rows × 29 columns</p>\n",
       "</div>"
      ],
      "text/plain": [
       "         Year  Month  DayofMonth  DayOfWeek  DepTime  CRSDepTime  ArrTime  \\\n",
       "4657380  1991     12          29          7   1631.0        1630   1829.0   \n",
       "4657381  1991     12          30          1   1630.0        1630   1823.0   \n",
       "4657382  1991     12          31          2   1628.0        1630   1820.0   \n",
       "4657383  1991     12           1          7   1922.0        1922   2040.0   \n",
       "4657384  1991     12           2          1   2005.0        1922   2119.0   \n",
       "\n",
       "         CRSArrTime UniqueCarrier  FlightNum  ...  TaxiIn  TaxiOut  Cancelled  \\\n",
       "4657380        1828            UA       1770  ...     NaN      NaN          0   \n",
       "4657381        1828            UA       1770  ...     NaN      NaN          0   \n",
       "4657382        1828            UA       1770  ...     NaN      NaN          0   \n",
       "4657383        2045            UA       1774  ...     NaN      NaN          0   \n",
       "4657384        2045            UA       1774  ...     NaN      NaN          0   \n",
       "\n",
       "         CancellationCode  Diverted  CarrierDelay WeatherDelay NASDelay  \\\n",
       "4657380               NaN         0           NaN          NaN      NaN   \n",
       "4657381               NaN         0           NaN          NaN      NaN   \n",
       "4657382               NaN         0           NaN          NaN      NaN   \n",
       "4657383               NaN         0           NaN          NaN      NaN   \n",
       "4657384               NaN         0           NaN          NaN      NaN   \n",
       "\n",
       "         SecurityDelay  LateAircraftDelay  \n",
       "4657380            NaN                NaN  \n",
       "4657381            NaN                NaN  \n",
       "4657382            NaN                NaN  \n",
       "4657383            NaN                NaN  \n",
       "4657384            NaN                NaN  \n",
       "\n",
       "[5 rows x 29 columns]"
      ]
     },
     "execution_count": 6,
     "metadata": {},
     "output_type": "execute_result"
    }
   ],
   "source": [
    "import pandas as pd\n",
    "df = pd.read_csv('/anvil/projects/tdm/data/flights/subset/1991.csv')\n",
    "df[df[\"Month\"]==12].head() # see information about a few of the flights from December 1991"
   ]
  },
  {
   "cell_type": "code",
   "execution_count": 7,
   "id": "77ec8934-62f9-41d8-860d-2841cf57d3e7",
   "metadata": {},
   "outputs": [],
   "source": [
    "%sql sqlite:////anvil/projects/tdm/data/movies_and_tv/imdb.db\n"
   ]
  },
  {
   "cell_type": "code",
   "execution_count": 8,
   "id": "4248a799-af1b-4193-a432-c2cbd50df116",
   "metadata": {},
   "outputs": [
    {
     "name": "stdout",
     "output_type": "stream",
     "text": [
      " * sqlite:////anvil/projects/tdm/data/movies_and_tv/imdb.db\n",
      "Done.\n"
     ]
    },
    {
     "data": {
      "text/html": [
       "<table>\n",
       "    <tr>\n",
       "        <th>episode_title_id</th>\n",
       "        <th>show_title_id</th>\n",
       "        <th>season_number</th>\n",
       "        <th>episode_number</th>\n",
       "        <th>title_id</th>\n",
       "        <th>type</th>\n",
       "        <th>primary_title</th>\n",
       "        <th>original_title</th>\n",
       "        <th>is_adult</th>\n",
       "        <th>premiered</th>\n",
       "        <th>ended</th>\n",
       "        <th>runtime_minutes</th>\n",
       "        <th>genres</th>\n",
       "    </tr>\n",
       "    <tr>\n",
       "        <td>tt0506978</td>\n",
       "        <td>tt0285332</td>\n",
       "        <td>1</td>\n",
       "        <td>22</td>\n",
       "        <td>tt0506978</td>\n",
       "        <td>tvEpisode</td>\n",
       "        <td>Finale</td>\n",
       "        <td>Finale</td>\n",
       "        <td>0</td>\n",
       "        <td>2002</td>\n",
       "        <td>None</td>\n",
       "        <td>None</td>\n",
       "        <td>Drama,Thriller</td>\n",
       "    </tr>\n",
       "    <tr>\n",
       "        <td>tt0519805</td>\n",
       "        <td>tt0210405</td>\n",
       "        <td>3</td>\n",
       "        <td>10</td>\n",
       "        <td>tt0519805</td>\n",
       "        <td>tvEpisode</td>\n",
       "        <td>Finale</td>\n",
       "        <td>Finale</td>\n",
       "        <td>0</td>\n",
       "        <td>1993</td>\n",
       "        <td>None</td>\n",
       "        <td>None</td>\n",
       "        <td>Drama</td>\n",
       "    </tr>\n",
       "    <tr>\n",
       "        <td>tt0566236</td>\n",
       "        <td>tt0169438</td>\n",
       "        <td>8</td>\n",
       "        <td>31</td>\n",
       "        <td>tt0566236</td>\n",
       "        <td>tvEpisode</td>\n",
       "        <td>Finale</td>\n",
       "        <td>Finale</td>\n",
       "        <td>0</td>\n",
       "        <td>2005</td>\n",
       "        <td>None</td>\n",
       "        <td>None</td>\n",
       "        <td>Drama,Sport</td>\n",
       "    </tr>\n",
       "    <tr>\n",
       "        <td>tt0566422</td>\n",
       "        <td>tt0111945</td>\n",
       "        <td>9</td>\n",
       "        <td>26</td>\n",
       "        <td>tt0566422</td>\n",
       "        <td>tvEpisode</td>\n",
       "        <td>Finale</td>\n",
       "        <td>Finale</td>\n",
       "        <td>0</td>\n",
       "        <td>2004</td>\n",
       "        <td>None</td>\n",
       "        <td>None</td>\n",
       "        <td>Comedy,Drama</td>\n",
       "    </tr>\n",
       "    <tr>\n",
       "        <td>tt0581864</td>\n",
       "        <td>tt0044263</td>\n",
       "        <td>2</td>\n",
       "        <td>1</td>\n",
       "        <td>tt0581864</td>\n",
       "        <td>tvEpisode</td>\n",
       "        <td>Finale</td>\n",
       "        <td>Finale</td>\n",
       "        <td>0</td>\n",
       "        <td>1953</td>\n",
       "        <td>None</td>\n",
       "        <td>30</td>\n",
       "        <td>Comedy,Crime,Drama</td>\n",
       "    </tr>\n",
       "</table>"
      ],
      "text/plain": [
       "[('tt0506978', 'tt0285332', 1, 22, 'tt0506978', 'tvEpisode', 'Finale', 'Finale', 0, 2002, None, None, 'Drama,Thriller'),\n",
       " ('tt0519805', 'tt0210405', 3, 10, 'tt0519805', 'tvEpisode', 'Finale', 'Finale', 0, 1993, None, None, 'Drama'),\n",
       " ('tt0566236', 'tt0169438', 8, 31, 'tt0566236', 'tvEpisode', 'Finale', 'Finale', 0, 2005, None, None, 'Drama,Sport'),\n",
       " ('tt0566422', 'tt0111945', 9, 26, 'tt0566422', 'tvEpisode', 'Finale', 'Finale', 0, 2004, None, None, 'Comedy,Drama'),\n",
       " ('tt0581864', 'tt0044263', 2, 1, 'tt0581864', 'tvEpisode', 'Finale', 'Finale', 0, 1953, None, 30, 'Comedy,Crime,Drama')]"
      ]
     },
     "execution_count": 8,
     "metadata": {},
     "output_type": "execute_result"
    }
   ],
   "source": [
    "%%sql\n",
    "\n",
    "-- see information about a few TV episodes called \"Finale\"\n",
    "SELECT *\n",
    "FROM episodes AS e\n",
    "INNER JOIN titles AS t\n",
    "ON t.title_id = e.episode_title_id\n",
    "WHERE t.primary_title = 'Finale'\n",
    "LIMIT 5;"
   ]
  },
  {
   "cell_type": "code",
   "execution_count": 9,
   "id": "c62628b1-55e6-4365-a1a7-d0a445343a94",
   "metadata": {},
   "outputs": [
    {
     "name": "stdout",
     "output_type": "stream",
     "text": [
      "Arthur Morgan\n",
      "John Marston\n"
     ]
    }
   ],
   "source": [
    "%%bash\n",
    "\n",
    "names=\"John Doe;Bill Withers;Arthur Morgan;Mary Jane;Rick Ross;John Marston\"\n",
    "echo $names | cut -d ';' -f 3\n",
    "echo $names | cut -d ';' -f 6"
   ]
  },
  {
   "cell_type": "markdown",
   "id": "da22f29c-d245-4d2b-9fc1-ca14cb6087d9",
   "metadata": {},
   "source": [
    "## Question 4"
   ]
  },
  {
   "cell_type": "code",
   "execution_count": 10,
   "id": "8cffc767-d1c8-4d64-b7dc-f0d2ee8a80d1",
   "metadata": {},
   "outputs": [
    {
     "data": {
      "text/plain": [
       "256000000000000"
      ]
     },
     "execution_count": 10,
     "metadata": {},
     "output_type": "execute_result"
    }
   ],
   "source": [
    "1000*256*1000000000\n"
   ]
  },
  {
   "cell_type": "markdown",
   "id": "0d552245-b4d6-474a-9cc9-fa7b8e674d55",
   "metadata": {},
   "source": [
    "A. 100 times 256 times 1000000000 bytes\n",
    "\n",
    "A Gigabyte is 1,000,000,000 bytes. So 256,000,000,000,000/1,000,000,000 = 256,000 GB. Since a Terabyte is 1,000 Gigabytes, it is 256 TB.\n"
   ]
  },
  {
   "cell_type": "code",
   "execution_count": 12,
   "id": "e7c9e2a1-bbf8-4374-9457-540783022fc8",
   "metadata": {},
   "outputs": [
    {
     "name": "stdout",
     "output_type": "stream",
     "text": [
      "[1] 2.56e+14\n"
     ]
    }
   ],
   "source": [
    "%%R\n",
    "1000*256*1000000000\n",
    "\n",
    "#256 TB"
   ]
  },
  {
   "cell_type": "markdown",
   "id": "88c9cdac-3e92-498f-83fa-e089bfc44ac8",
   "metadata": {},
   "source": [
    "## Question 5"
   ]
  },
  {
   "cell_type": "code",
   "execution_count": null,
   "id": "d370d7c9-06db-42b9-b75f-240481a5c491",
   "metadata": {},
   "outputs": [],
   "source": [
    "%%R\n",
    "\n",
    "dat <- read.csv(\"/anvil/projects/tdm/data/disney/flight_of_passage.csv\")"
   ]
  },
  {
   "cell_type": "code",
   "execution_count": null,
   "id": "72f89268-9f12-412c-a274-1b221ce96854",
   "metadata": {},
   "outputs": [],
   "source": [
    "%%R\n",
    "\n",
    "head(dat)"
   ]
  },
  {
   "cell_type": "code",
   "execution_count": null,
   "id": "f88035db-8126-4645-9cd4-1f856982ff51",
   "metadata": {},
   "outputs": [],
   "source": [
    "%%R\n",
    "\n",
    "flight_of_passage <- dat"
   ]
  },
  {
   "cell_type": "code",
   "execution_count": null,
   "id": "98580504-ff7f-40aa-a9aa-cf45abaaef95",
   "metadata": {},
   "outputs": [],
   "source": [
    "%%R\n",
    "\n",
    "head(flight_of_passage)"
   ]
  },
  {
   "cell_type": "markdown",
   "id": "9fbf00fb-2418-460f-ae94-2a32b0c28952",
   "metadata": {},
   "source": [
    "Markdown notes and sentences and analysis written here."
   ]
  },
  {
   "cell_type": "markdown",
   "id": "f76442d6-d02e-4f26-b9d6-c3183e1d6929",
   "metadata": {},
   "source": [
    "## Pledge\n",
    "\n",
    "By submitting this work I hereby pledge that this is my own, personal work. I've acknowledged in the designated place at the top of this file all sources that I used to complete said work, including but not limited to: online resources, books, and electronic communications. I've noted all collaboration with fellow students and/or TA's. I did not copy or plagiarize another's work.\n",
    "\n",
    "> As a Boilermaker pursuing academic excellence, I pledge to be honest and true in all that I do. Accountable together – We are Purdue."
   ]
  },
  {
   "cell_type": "code",
   "execution_count": null,
   "id": "e3379063-e5b9-48e1-b3ac-e216e8e39576",
   "metadata": {},
   "outputs": [],
   "source": []
  }
 ],
 "metadata": {
  "kernelspec": {
   "display_name": "seminar",
   "language": "python",
   "name": "seminar"
  },
  "language_info": {
   "codemirror_mode": {
    "name": "ipython",
    "version": 3
   },
   "file_extension": ".py",
   "mimetype": "text/x-python",
   "name": "python",
   "nbconvert_exporter": "python",
   "pygments_lexer": "ipython3",
   "version": "3.11.5"
  }
 },
 "nbformat": 4,
 "nbformat_minor": 5
}
