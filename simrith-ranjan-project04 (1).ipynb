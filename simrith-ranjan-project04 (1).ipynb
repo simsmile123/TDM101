{
 "cells": [
  {
   "cell_type": "markdown",
   "id": "be02a957-7133-4d02-818e-fedeb3cecb05",
   "metadata": {},
   "source": [
    "# Project 3 -- Simrith Ranjan"
   ]
  },
  {
   "cell_type": "markdown",
   "id": "a1228853-dd19-4ab2-89e0-0394d7d72de3",
   "metadata": {},
   "source": [
    "**TA Help:** N/A\n",
    "    \n",
    "**Collaboration:** Tabitha Zachariah\n",
    "\n",
    "-helped explained question 3d to me\n"
   ]
  },
  {
   "cell_type": "markdown",
   "id": "6180e742-8e39-4698-98ff-5b00c8cf8ea0",
   "metadata": {
    "tags": []
   },
   "source": [
    "## Question 1"
   ]
  },
  {
   "cell_type": "code",
   "execution_count": 1,
   "id": "d891598b-5dcd-416d-a015-e28b9350ea4a",
   "metadata": {},
   "outputs": [],
   "source": [
    "import pandas as pd"
   ]
  },
  {
   "cell_type": "code",
   "execution_count": 2,
   "id": "9414fd55-4a46-4201-af41-902b0a2c5dbb",
   "metadata": {},
   "outputs": [],
   "source": [
    "from pathlib import Path"
   ]
  },
  {
   "cell_type": "code",
   "execution_count": 3,
   "id": "e507c961-34fc-48ab-afeb-cd4e10906680",
   "metadata": {},
   "outputs": [],
   "source": [
    "Path(\"/anvil/projects/tdm/data/noaa/1750.csv\")"
   ]
  },
  {
   "cell_type": "code",
   "execution_count": 13,
   "id": "9f3ab0ed-f955-4fc6-b3e6-e0073acc0880",
   "metadata": {},
   "outputs": [
    {
     "name": "stdout",
     "output_type": "stream",
     "text": [
      "[PosixPath('/anvil/projects/tdm/data/noaa/1880.csv'), PosixPath('/anvil/projects/tdm/data/noaa/1881.csv'), PosixPath('/anvil/projects/tdm/data/noaa/1882.csv'), PosixPath('/anvil/projects/tdm/data/noaa/1883.csv')]\n"
     ]
    }
   ],
   "source": [
    "myfiles=[Path(f'/anvil/projects/tdm/data/noaa/{year}.csv') for year in range(1880, 1884)]\n",
    "print(myfiles)"
   ]
  },
  {
   "cell_type": "markdown",
   "id": "1370fe9e-81ec-4aac-8eb2-4ef9af44f733",
   "metadata": {
    "tags": []
   },
   "source": [
    "## Question 2"
   ]
  },
  {
   "cell_type": "code",
   "execution_count": 19,
   "id": "6f4e57f7-c27c-49ab-ae89-51fa2a6cdbc6",
   "metadata": {},
   "outputs": [
    {
     "name": "stdout",
     "output_type": "stream",
     "text": [
      "There are 370779 records in the file called /anvil/projects/tdm/data/noaa/1880.csv\n"
     ]
    }
   ],
   "source": [
    "file = myfiles[0]\n",
    "with open(file,\"r\") as f:\n",
    "    mycount = 0\n",
    "    for line in f:\n",
    "        mycount += 1\n",
    "print(f'There are {mycount} records in the file called {file}')"
   ]
  },
  {
   "cell_type": "code",
   "execution_count": 30,
   "id": "14d05145-e915-420e-9cb8-f90614d1cff4",
   "metadata": {},
   "outputs": [
    {
     "name": "stdout",
     "output_type": "stream",
     "text": [
      "This the total count of all the records in all the years: 1906862 in the 4 files altogether.\n"
     ]
    }
   ],
   "source": [
    "total_count = 0\n",
    "file_counter = 0\n",
    "for file in myfiles: \n",
    "    with open(file,\"r\") as f:\n",
    "        for line in f:\n",
    "            total_count+= 1\n",
    "    #print(f'There are {mycount} records in the file called {file}')\n",
    "    file_counter+=1;\n",
    "print(f'This the total count of all the records in all the years: {total_count} in the {file_counter} files altogether.')"
   ]
  },
  {
   "cell_type": "markdown",
   "id": "8e586edd-ff26-4ce2-8f6b-2424b26f2929",
   "metadata": {
    "tags": []
   },
   "source": [
    "## Question 3"
   ]
  },
  {
   "cell_type": "code",
   "execution_count": 33,
   "id": "14878e35-04b9-4a2c-8a17-c2ac30a61426",
   "metadata": {},
   "outputs": [],
   "source": [
    "myDF = pd.read_csv(myfiles[0])"
   ]
  },
  {
   "cell_type": "code",
   "execution_count": 34,
   "id": "c99c854b-3acf-424a-983f-20a77d747d70",
   "metadata": {},
   "outputs": [
    {
     "data": {
      "text/plain": [
       "['AGE00147705',\n",
       " '18800101',\n",
       " 'PRCP',\n",
       " '0',\n",
       " 'Unnamed: 4',\n",
       " 'Unnamed: 5',\n",
       " 'E',\n",
       " 'Unnamed: 7']"
      ]
     },
     "execution_count": 34,
     "metadata": {},
     "output_type": "execute_result"
    }
   ],
   "source": [
    "myDF.columns.values.tolist()"
   ]
  },
  {
   "cell_type": "code",
   "execution_count": 38,
   "id": "410da3dc-ac9d-4eec-a63f-edd0e1057754",
   "metadata": {},
   "outputs": [
    {
     "name": "stdout",
     "output_type": "stream",
     "text": [
      "                 id      date element_code  value mflag qflag sflag  obstime\n",
      "578725  UZM00038457  18831231         PRCP      0   NaN   NaN     r      NaN\n",
      "578726  UZM00038457  18831231         TAVG    -69   NaN   NaN     r      NaN\n",
      "578727  UZM00038618  18831231         TMIN    -22   NaN   NaN     r      NaN\n",
      "578728  UZM00038618  18831231         PRCP      0   NaN   NaN     r      NaN\n",
      "578729  UZM00038618  18831231         TAVG      1   NaN   NaN     r      NaN\n"
     ]
    }
   ],
   "source": [
    "print(myDF.tail()) #missing values"
   ]
  },
  {
   "cell_type": "code",
   "execution_count": 39,
   "id": "204404da-3fc8-4a8a-a2fd-d145c8dbc190",
   "metadata": {},
   "outputs": [
    {
     "name": "stdout",
     "output_type": "stream",
     "text": [
      "Column Names: Index([0, 1, 2, 3, 4, 5, 6, 7], dtype='int64')\n"
     ]
    }
   ],
   "source": [
    "mysecondDF = pd.read_csv(myfiles[0], header = None)\n",
    "\n",
    "print(\"Column Names:\", mysecondDF.columns)"
   ]
  },
  {
   "cell_type": "code",
   "execution_count": 40,
   "id": "31889830-55e9-48ce-bf83-ee93fe8b59d5",
   "metadata": {},
   "outputs": [
    {
     "name": "stdout",
     "output_type": "stream",
     "text": [
      "column names of each of the four data framesin new_DF 1 (year1880):Index(['id', 'date', 'element_code', 'value', 'mflag', 'qflag', 'sflag',\n",
      "       'obstime'],\n",
      "      dtype='object')\n",
      "column names of each of the four data framesin new_DF 2 (year1881):Index(['id', 'date', 'element_code', 'value', 'mflag', 'qflag', 'sflag',\n",
      "       'obstime'],\n",
      "      dtype='object')\n",
      "column names of each of the four data framesin new_DF 3 (year1882):Index(['id', 'date', 'element_code', 'value', 'mflag', 'qflag', 'sflag',\n",
      "       'obstime'],\n",
      "      dtype='object')\n",
      "column names of each of the four data framesin new_DF 4 (year1883):Index(['id', 'date', 'element_code', 'value', 'mflag', 'qflag', 'sflag',\n",
      "       'obstime'],\n",
      "      dtype='object')\n"
     ]
    }
   ],
   "source": [
    "myfiles=[]\n",
    "for year in range (1880, 1884):\n",
    "    file= Path(f'/anvil/projects/tdm/data/noaa/{year}.csv')\n",
    "    myfiles.append(file)\n",
    "new_myDF = []\n",
    "\n",
    "for files in myfiles:\n",
    "    df = pd.read_csv(file, header = None, names = [\"id\",\"date\",\"element_code\",\"value\",\"mflag\",\"qflag\",\"sflag\",\"obstime\"])\n",
    "    new_myDF.append(df)\n",
    "    \n",
    "for i, df in enumerate(new_myDF):\n",
    "    print(f\"column names of each of the four data frames in new_DF {i+1} (year{myfiles[i].stem}):{df.columns}\")"
   ]
  },
  {
   "cell_type": "markdown",
   "id": "da22f29c-d245-4d2b-9fc1-ca14cb6087d9",
   "metadata": {},
   "source": [
    "## Question 4"
   ]
  },
  {
   "cell_type": "markdown",
   "id": "88c9cdac-3e92-498f-83fa-e089bfc44ac8",
   "metadata": {},
   "source": [
    "## Question 5"
   ]
  },
  {
   "cell_type": "code",
   "execution_count": 37,
   "id": "fb2e318a-bc78-478a-b5c3-11e3f94cfe67",
   "metadata": {},
   "outputs": [
    {
     "name": "stdout",
     "output_type": "stream",
     "text": [
      "164216\n"
     ]
    }
   ],
   "source": [
    "count = 0\n",
    "for file in myfiles:\n",
    "    for myDF in pd.read_csv(file,names=[\"id\",\"date\",\"element_code\",\"value\",\"mflag\",\"qflag\",\"sflag\",\"obstime\"],chunksize =10000):\n",
    "        count += len(myDF[myDF['element_code'] == 'SNOW'])\n",
    "\n",
    "print(count)"
   ]
  },
  {
   "cell_type": "code",
   "execution_count": 36,
   "id": "97dda546-4a55-427d-a4de-9bb2e8315d79",
   "metadata": {},
   "outputs": [
    {
     "name": "stdout",
     "output_type": "stream",
     "text": [
      "164216\n"
     ]
    }
   ],
   "source": [
    "count = 0\n",
    "for file in myfiles:\n",
    "    for myDF in pd.read_csv(file,names=[\"id\",\"date\",\"element_code\",\"value\",\"mflag\",\"qflag\",\"sflag\",\"obstime\"],chunksize =10000):\n",
    "        for index, row in myDF.iterrows():\n",
    "            if row['element_code'] == 'SNOW':\n",
    "                count += 1\n",
    "\n",
    "print(count)"
   ]
  },
  {
   "cell_type": "markdown",
   "id": "290d84e9-e0ac-433a-920d-4d85beac010f",
   "metadata": {},
   "source": [
    "Chunksize is a parameter used in pandas when reading large datasets to process data in smaller chunks instead of loading the entire dataset into memory. Both versions of the program can reach the same goal of counting occurrences of 'SNOW' in the 'element_code' column, but they differ in their implementation details. Version 1 uses DataFrame filtering, while Version 2 uses iterrows for iteration."
   ]
  },
  {
   "cell_type": "markdown",
   "id": "f76442d6-d02e-4f26-b9d6-c3183e1d6929",
   "metadata": {},
   "source": [
    "## Pledge\n",
    "\n",
    "By submitting this work I hereby pledge that this is my own, personal work. I've acknowledged in the designated place at the top of this file all sources that I used to complete said work, including but not limited to: online resources, books, and electronic communications. I've noted all collaboration with fellow students and/or TA's. I did not copy or plagiarize another's work.\n",
    "\n",
    "> As a Boilermaker pursuing academic excellence, I pledge to be honest and true in all that I do. Accountable together – We are Purdue."
   ]
  }
 ],
 "metadata": {
  "kernelspec": {
   "display_name": "seminar",
   "language": "python",
   "name": "seminar"
  },
  "language_info": {
   "codemirror_mode": {
    "name": "ipython",
    "version": 3
   },
   "file_extension": ".py",
   "mimetype": "text/x-python",
   "name": "python",
   "nbconvert_exporter": "python",
   "pygments_lexer": "ipython3",
   "version": "3.11.5"
  }
 },
 "nbformat": 4,
 "nbformat_minor": 5
}
