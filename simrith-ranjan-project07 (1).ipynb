{
 "cells": [
  {
   "cell_type": "markdown",
   "id": "be02a957-7133-4d02-818e-fedeb3cecb05",
   "metadata": {},
   "source": [
    "# Project 7 - Simrith Ranjan"
   ]
  },
  {
   "cell_type": "markdown",
   "id": "a1228853-dd19-4ab2-89e0-0394d7d72de3",
   "metadata": {},
   "source": [
    "**TA Help:** N/A\n",
    "**Collaboration:** N/A"
   ]
  },
  {
   "cell_type": "markdown",
   "id": "6180e742-8e39-4698-98ff-5b00c8cf8ea0",
   "metadata": {},
   "source": [
    "## Question 1"
   ]
  },
  {
   "cell_type": "code",
   "execution_count": 1,
   "id": "49445606-d363-41b4-b479-e319a9a84c01",
   "metadata": {},
   "outputs": [],
   "source": [
    "library(data.table)\n",
    "\n",
    "products <- fread(\"/anvil/projects/tdm/data/icecream/combined/products.csv\")\n",
    "reviews <- fread(\"/anvil/projects/tdm/data/icecream/combined/reviews.csv\")\n",
    "titles <- fread(\"/anvil/projects/tdm/data/movies_and_tv/titles.csv\")\n",
    "episodes <- fread(\"/anvil/projects/tdm/data/movies_and_tv/episodes.csv\")\n",
    "ratings <- fread(\"/anvil/projects/tdm/data/movies_and_tv/ratings.csv\")"
   ]
  },
  {
   "cell_type": "code",
   "execution_count": 2,
   "id": "533078fe-f5c8-40d2-9ffe-7a786a23c386",
   "metadata": {},
   "outputs": [],
   "source": [
    "options(jupyter.rich_display = F)"
   ]
  },
  {
   "cell_type": "code",
   "execution_count": 3,
   "id": "8cdf1701-488e-4498-ae29-e3e49bdbebfd",
   "metadata": {
    "tags": []
   },
   "outputs": [],
   "source": [
    "options(repr.matrix.max.cols=30, repr.matrix.max.rows=200)"
   ]
  },
  {
   "cell_type": "code",
   "execution_count": 4,
   "id": "2412f795-f0a9-4cee-81dd-5a2261b200a4",
   "metadata": {},
   "outputs": [
    {
     "name": "stdout",
     "output_type": "stream",
     "text": [
      "Classes 'data.table' and 'data.frame':\t241 obs. of  8 variables:\n",
      " $ brand       : chr  \"bj\" \"bj\" \"bj\" \"bj\" ...\n",
      " $ key         : chr  \"0_bj\" \"1_bj\" \"2_bj\" \"3_bj\" ...\n",
      " $ name        : chr  \"Salted Caramel Core\" \"Netflix & Chilll'd\\342\\204\\242\" \"Chip Happens\" \"Cannoli\" ...\n",
      " $ subhead     : chr  \"Sweet Cream Ice Cream with Blonde Brownies & a Salted Caramel Core\" \"Peanut Butter Ice Cream with Sweet & Salty Pretzel Swirls & Fudge Brownies\" \"A Cold Mess of Chocolate Ice Cream with Fudge Chips & Crunchy Potato Chip Swirls\" \"Mascarpone Ice Cream with Fudge-Covered Pastry Shell Pieces & Mascarpone Swirls\" ...\n",
      " $ description : chr  \"Find your way to the ultimate ice cream experience with our Cores. Whether your primal urges lead you to the center of salted c \"There\\342\\200\\231s something for everyone to watch on Netflix & flavors for everyone to enjoy from Ben & Jerry\\342\\200\\231s, so \"Sometimes \\342\\200\\234chip\\342\\200\\235 happens and everything\\342\\200\\231s a mess, but we Nailed It! with this chip-filled limi \"As a Limited Batch that captured the rapture of the classic Sicilian dessert, our Cannoli captivated fans like no other Cannoli ...\n",
      " $ rating      : num  3.7 4 4.7 3.6 4.5 4.9 4.6 5 4.3 4.7 ...\n",
      " $ rating_count: int  208 127 130 70 281 14 10 7 110 42 ...\n",
      " $ ingredients : chr  \"CREAM, SKIM MILK, LIQUID SUGAR (SUGAR, WATER), WATER, BROWN SUGAR, SUGAR, MILK, WHEAT FLOUR, EGG YOLKS, CORN SY\"| __truncated__ \"CREAM, SKIM MILK, LIQUID SUGAR (SUGAR, WATER), WATER, SUGAR, PEANUTS, WHEAT FLOUR, CANOLA OIL, EGG YOLKS, CORN \"| __truncated__ \"CREAM, LIQUID SUGAR (SUGAR, WATER), SKIM MILK, WATER, SUGAR, COCOA (PROCESSED WITH ALKALI), POTATO, COCONUT OIL\"| __truncated__ \"CREAM, SKIM MILK, LIQUID SUGAR (SUGAR, WATER),  WATER, CORN SYRUP, COCONUT OIL, SUGAR, DRIED CANE SYRUP, EGG YO\"| __truncated__ ...\n",
      " - attr(*, \".internal.selfref\")=<externalptr> \n"
     ]
    }
   ],
   "source": [
    "str(products)"
   ]
  },
  {
   "cell_type": "code",
   "execution_count": 5,
   "id": "4993a272-a992-4323-a4f4-c2a73f681c0d",
   "metadata": {},
   "outputs": [
    {
     "data": {
      "text/plain": [
       "[1] \"CREAM, SKIM MILK, LIQUID SUGAR (SUGAR, WATER), WATER, BROWN SUGAR, SUGAR, MILK, WHEAT FLOUR, EGG YOLKS, CORN SYRUP, EGGS, BUTTER (CREAM, SALT), BUTTEROIL, PECTIN, SEA SALT, SOYBEAN OIL, VANILLA EXTRACT, GUAR GUM, SOY LECITHIN, BAKING POWDER (SODIUM ACID PYROPHOSPHATE, SODIUM BICARBONATE, CORN STARCH, MONOCALCIUM PHOSPHATE), BAKING SODA, SALT, CARRAGEENAN, LACTASE\""
      ]
     },
     "metadata": {},
     "output_type": "display_data"
    }
   ],
   "source": [
    "head(products$ingredients, n = 1)"
   ]
  },
  {
   "cell_type": "code",
   "execution_count": 6,
   "id": "30ccc47a-89c3-4858-842d-4415ca501b0d",
   "metadata": {},
   "outputs": [],
   "source": [
    "productsWGuarGum <- subset(products, grepl(\"GUAR GUM\", products$ingredients))"
   ]
  },
  {
   "cell_type": "code",
   "execution_count": 7,
   "id": "37a5f688-2431-46e6-8f03-6ad678029e6b",
   "metadata": {},
   "outputs": [
    {
     "data": {
      "text/plain": [
       "[1] 85  8"
      ]
     },
     "metadata": {},
     "output_type": "display_data"
    }
   ],
   "source": [
    "dim(productsWGuarGum)"
   ]
  },
  {
   "cell_type": "code",
   "execution_count": 8,
   "id": "f303fd99-1d2a-44d5-b3c2-3f0a7e146731",
   "metadata": {},
   "outputs": [
    {
     "name": "stdout",
     "output_type": "stream",
     "text": [
      "Classes 'data.table' and 'data.frame':\t85 obs. of  8 variables:\n",
      " $ brand       : chr  \"bj\" \"bj\" \"bj\" \"bj\" ...\n",
      " $ key         : chr  \"0_bj\" \"1_bj\" \"2_bj\" \"3_bj\" ...\n",
      " $ name        : chr  \"Salted Caramel Core\" \"Netflix & Chilll'd\\342\\204\\242\" \"Chip Happens\" \"Cannoli\" ...\n",
      " $ subhead     : chr  \"Sweet Cream Ice Cream with Blonde Brownies & a Salted Caramel Core\" \"Peanut Butter Ice Cream with Sweet & Salty Pretzel Swirls & Fudge Brownies\" \"A Cold Mess of Chocolate Ice Cream with Fudge Chips & Crunchy Potato Chip Swirls\" \"Mascarpone Ice Cream with Fudge-Covered Pastry Shell Pieces & Mascarpone Swirls\" ...\n",
      " $ description : chr  \"Find your way to the ultimate ice cream experience with our Cores. Whether your primal urges lead you to the center of salted c \"There\\342\\200\\231s something for everyone to watch on Netflix & flavors for everyone to enjoy from Ben & Jerry\\342\\200\\231s, so \"Sometimes \\342\\200\\234chip\\342\\200\\235 happens and everything\\342\\200\\231s a mess, but we Nailed It! with this chip-filled limi \"As a Limited Batch that captured the rapture of the classic Sicilian dessert, our Cannoli captivated fans like no other Cannoli ...\n",
      " $ rating      : num  3.7 4 4.7 3.6 4.5 4.9 4.6 5 4.3 4.7 ...\n",
      " $ rating_count: int  208 127 130 70 281 14 10 7 110 42 ...\n",
      " $ ingredients : chr  \"CREAM, SKIM MILK, LIQUID SUGAR (SUGAR, WATER), WATER, BROWN SUGAR, SUGAR, MILK, WHEAT FLOUR, EGG YOLKS, CORN SYRUP, EGGS, BUTTE \"CREAM, SKIM MILK, LIQUID SUGAR (SUGAR, WATER), WATER, SUGAR, PEANUTS, WHEAT FLOUR, CANOLA OIL, EGG YOLKS, CORN STARCH, PEANUT O \"CREAM, LIQUID SUGAR (SUGAR, WATER), SKIM MILK, WATER, SUGAR, COCOA (PROCESSED WITH ALKALI), POTATO, COCONUT OIL, CORN SYRUP SOL \"CREAM, SKIM MILK, LIQUID SUGAR (SUGAR, WATER),  WATER, CORN SYRUP, COCONUT OIL, SUGAR, DRIED CANE SYRUP, EGG YOLKS, WHEAT FLOUR ...\n",
      " - attr(*, \".internal.selfref\")=<externalptr> \n"
     ]
    }
   ],
   "source": [
    "str(productsWGuarGum)"
   ]
  },
  {
   "cell_type": "code",
   "execution_count": 9,
   "id": "0779af4f-f4ff-43a4-9824-b32f33d82051",
   "metadata": {},
   "outputs": [],
   "source": [
    "newGuarGum <- sort(productsWGuarGum$rating, decreasing = TRUE)"
   ]
  },
  {
   "cell_type": "markdown",
   "id": "e812f106-eedf-4a3d-a884-e8cd11f4cf00",
   "metadata": {},
   "source": [
    "1a. \"CREAM, SKIM MILK, LIQUID SUGAR (SUGAR, WATER), WATER, BROWN SUGAR, SUGAR, MILK, WHEAT FLOUR, EGG YOLKS, CORN SYRUP, EGGS, BUTTER (CREAM, SALT), BUTTEROIL, PECTIN, SEA SALT, SOYBEAN OIL, VANILLA EXTRACT, GUAR GUM, SOY LECITHIN, BAKING POWDER (SODIUM ACID PYROPHOSPHATE, SODIUM BICARBONATE, CORN STARCH, MONOCALCIUM PHOSPHATE), BAKING SODA, SALT, CARRAGEENAN, LACTASE\"   \n",
    "\n",
    "1b. done"
   ]
  },
  {
   "cell_type": "markdown",
   "id": "fc601975-35ed-4680-a4e1-0273ee3cc047",
   "metadata": {
    "tags": []
   },
   "source": [
    "## Question 2"
   ]
  },
  {
   "cell_type": "code",
   "execution_count": 10,
   "id": "a16336a1-1ef0-41e8-bc7c-49387db27497",
   "metadata": {},
   "outputs": [
    {
     "data": {
      "text/plain": [
       "[1] \"brand\"        \"key\"          \"name\"         \"subhead\"      \"description\" \n",
       "[6] \"rating\"       \"rating_count\" \"ingredients\" "
      ]
     },
     "metadata": {},
     "output_type": "display_data"
    }
   ],
   "source": [
    "names(products)"
   ]
  },
  {
   "cell_type": "code",
   "execution_count": 11,
   "id": "9f33b041-eb7f-4493-8b7b-3c8dcdaf4203",
   "metadata": {},
   "outputs": [],
   "source": [
    "gDF <- merge(products, reviews, by=c(\"brand\", \"key\"))"
   ]
  },
  {
   "cell_type": "code",
   "execution_count": 12,
   "id": "65d9138a-130e-4fab-9759-cb74dba612a7",
   "metadata": {},
   "outputs": [
    {
     "data": {
      "text/plain": [
       "[1] 21674    13"
      ]
     },
     "metadata": {},
     "output_type": "display_data"
    },
    {
     "data": {
      "text/plain": [
       "[1] 241   8"
      ]
     },
     "metadata": {},
     "output_type": "display_data"
    },
    {
     "data": {
      "text/plain": [
       "[1] 21674    19"
      ]
     },
     "metadata": {},
     "output_type": "display_data"
    }
   ],
   "source": [
    "dim(reviews)\n",
    "dim(products)\n",
    "dim(gDF)"
   ]
  },
  {
   "cell_type": "markdown",
   "id": "b47e92af-9b31-4c9a-bd81-949134ecc17d",
   "metadata": {
    "tags": []
   },
   "source": [
    "## Question 3"
   ]
  },
  {
   "cell_type": "code",
   "execution_count": 13,
   "id": "bbe0f40d-9655-4653-9ca8-886bdb61cb91",
   "metadata": {},
   "outputs": [],
   "source": [
    "showDF <- subset(episodes, show_title_id == \"tt4574334\")"
   ]
  },
  {
   "cell_type": "code",
   "execution_count": 14,
   "id": "d9ee2dfb-2db6-460d-a801-a707bcb1a2c1",
   "metadata": {
    "tags": []
   },
   "outputs": [
    {
     "data": {
      "text/plain": [
       "  title_id  type  primary_title          original_title         is_adult\n",
       "1 tt0000001 short Carmencita             Carmencita             0       \n",
       "2 tt0000002 short Le clown et ses chiens Le clown et ses chiens 0       \n",
       "3 tt0000003 short Pauvre Pierrot         Pauvre Pierrot         0       \n",
       "4 tt0000004 short Un bon bock            Un bon bock            0       \n",
       "5 tt0000005 short Blacksmith Scene       Blacksmith Scene       0       \n",
       "6 tt0000006 short Chinese Opium Den      Chinese Opium Den      0       \n",
       "  premiered ended runtime_minutes genres                  \n",
       "1 1894      NA     1              Documentary,Short       \n",
       "2 1892      NA     5              Animation,Short         \n",
       "3 1892      NA     4              Animation,Comedy,Romance\n",
       "4 1892      NA    12              Animation,Short         \n",
       "5 1893      NA     1              Comedy,Short            \n",
       "6 1894      NA     1              Short                   "
      ]
     },
     "metadata": {},
     "output_type": "display_data"
    }
   ],
   "source": [
    "head(titles)"
   ]
  },
  {
   "cell_type": "code",
   "execution_count": 15,
   "id": "e0f86f37-6e99-4f4a-8213-f1fd6aa6f07d",
   "metadata": {},
   "outputs": [
    {
     "data": {
      "text/plain": [
       "[1] 34  4"
      ]
     },
     "metadata": {},
     "output_type": "display_data"
    }
   ],
   "source": [
    "dim(showDF)"
   ]
  },
  {
   "cell_type": "code",
   "execution_count": 16,
   "id": "9b867063-7a65-4301-95b1-015bc7b2a502",
   "metadata": {},
   "outputs": [],
   "source": [
    "showMergeDF <- merge(merge(merge(merge(showDF, titles, by.x = \"show_title_id\", by.y = \"title_id\"),\n",
    "                           titles, by.x = \"episode_title_id\", by.y = \"title_id\"), \n",
    "                           ratings, by.x = \"show_title_id\", by.y = \"title_id\"), \n",
    "                           ratings, by.x = \"episode_title_id\", by.y = \"title_id\")\n",
    "\n",
    "\n",
    "\n"
   ]
  },
  {
   "cell_type": "markdown",
   "id": "da22f29c-d245-4d2b-9fc1-ca14cb6087d9",
   "metadata": {
    "tags": []
   },
   "source": [
    "## Question 4"
   ]
  },
  {
   "cell_type": "code",
   "execution_count": 17,
   "id": "8cffc767-d1c8-4d64-b7dc-f0d2ee8a80d1",
   "metadata": {
    "tags": []
   },
   "outputs": [
    {
     "data": {
      "text/plain": [
       "  episode_title_id show_title_id season_number episode_number type.x  \n",
       "1 tt7445494        tt4574334     3             1              tvSeries\n",
       "2 tt7640050        tt4574334     3             2              tvSeries\n",
       "3 tt7911866        tt4574334     3             3              tvSeries\n",
       "  primary_title.x original_title.x is_adult.x premiered.x ended.x\n",
       "1 Stranger Things Stranger Things  0          2016        NA     \n",
       "2 Stranger Things Stranger Things  0          2016        NA     \n",
       "3 Stranger Things Stranger Things  0          2016        NA     \n",
       "  runtime_minutes.x genres.x             type.y   \n",
       "1 51                Drama,Fantasy,Horror tvEpisode\n",
       "2 51                Drama,Fantasy,Horror tvEpisode\n",
       "3 51                Drama,Fantasy,Horror tvEpisode\n",
       "  primary_title.y                                 \n",
       "1 Chapter One: Suzie, Do You Copy?                \n",
       "2 Chapter Two: The Mall Rats                      \n",
       "3 Chapter Three: The Case of the Missing Lifeguard\n",
       "  original_title.y                                 is_adult.y premiered.y\n",
       "1 Chapter One: Suzie, Do You Copy?                 0          2019       \n",
       "2 Chapter Two: The Mall Rats                       0          2019       \n",
       "3 Chapter Three: The Case of the Missing Lifeguard 0          2019       \n",
       "  ended.y runtime_minutes.y genres.y             rating.x votes.x rating.y\n",
       "1 NA      50                Drama,Fantasy,Horror 8.7      870577  7.9     \n",
       "2 NA      50                Drama,Fantasy,Horror 8.7      870577  8.0     \n",
       "3 NA      49                Drama,Fantasy,Horror 8.7      870577  8.4     \n",
       "  votes.y\n",
       "1 16701  \n",
       "2 14982  \n",
       "3 14470  "
      ]
     },
     "metadata": {},
     "output_type": "display_data"
    }
   ],
   "source": [
    "showMergeDF[(showMergeDF$season_number == 3) & (showMergeDF$rating.y < 8.5), ]"
   ]
  },
  {
   "cell_type": "code",
   "execution_count": 18,
   "id": "669fa0b1-6662-483a-9765-0dddf352df5f",
   "metadata": {},
   "outputs": [
    {
     "data": {
      "text/plain": [
       "  episode_title_id show_title_id season_number episode_number type.x  \n",
       "1 tt7445494        tt4574334     3             1              tvSeries\n",
       "2 tt7640050        tt4574334     3             2              tvSeries\n",
       "3 tt7911866        tt4574334     3             3              tvSeries\n",
       "  primary_title.x original_title.x is_adult.x premiered.x ended.x\n",
       "1 Stranger Things Stranger Things  0          2016        NA     \n",
       "2 Stranger Things Stranger Things  0          2016        NA     \n",
       "3 Stranger Things Stranger Things  0          2016        NA     \n",
       "  runtime_minutes.x genres.x             type.y   \n",
       "1 51                Drama,Fantasy,Horror tvEpisode\n",
       "2 51                Drama,Fantasy,Horror tvEpisode\n",
       "3 51                Drama,Fantasy,Horror tvEpisode\n",
       "  primary_title.y                                 \n",
       "1 Chapter One: Suzie, Do You Copy?                \n",
       "2 Chapter Two: The Mall Rats                      \n",
       "3 Chapter Three: The Case of the Missing Lifeguard\n",
       "  original_title.y                                 is_adult.y premiered.y\n",
       "1 Chapter One: Suzie, Do You Copy?                 0          2019       \n",
       "2 Chapter Two: The Mall Rats                       0          2019       \n",
       "3 Chapter Three: The Case of the Missing Lifeguard 0          2019       \n",
       "  ended.y runtime_minutes.y genres.y             rating.x votes.x rating.y\n",
       "1 NA      50                Drama,Fantasy,Horror 8.7      870577  7.9     \n",
       "2 NA      50                Drama,Fantasy,Horror 8.7      870577  8.0     \n",
       "3 NA      49                Drama,Fantasy,Horror 8.7      870577  8.4     \n",
       "  votes.y\n",
       "1 16701  \n",
       "2 14982  \n",
       "3 14470  "
      ]
     },
     "metadata": {},
     "output_type": "display_data"
    }
   ],
   "source": [
    "subset(showMergeDF, (season_number==3) & (rating.y < 8.5))"
   ]
  },
  {
   "cell_type": "markdown",
   "id": "88c9cdac-3e92-498f-83fa-e089bfc44ac8",
   "metadata": {
    "tags": []
   },
   "source": [
    "## Question 5"
   ]
  },
  {
   "cell_type": "code",
   "execution_count": 19,
   "id": "d370d7c9-06db-42b9-b75f-240481a5c491",
   "metadata": {
    "tags": []
   },
   "outputs": [],
   "source": [
    "myseason <- 3"
   ]
  },
  {
   "cell_type": "code",
   "execution_count": 20,
   "id": "88b7ea1b-ee99-4994-b60c-e271079f94fc",
   "metadata": {},
   "outputs": [
    {
     "data": {
      "text/plain": [
       "  episode_title_id show_title_id season_number episode_number type.x  \n",
       "1 tt6020684        tt4574334     2             1              tvSeries\n",
       "2 tt6020792        tt4574334     2             2              tvSeries\n",
       "3 tt6020810        tt4574334     2             7              tvSeries\n",
       "4 tt7445494        tt4574334     3             1              tvSeries\n",
       "5 tt7640050        tt4574334     3             2              tvSeries\n",
       "6 tt7911866        tt4574334     3             3              tvSeries\n",
       "  primary_title.x original_title.x is_adult.x premiered.x ended.x\n",
       "1 Stranger Things Stranger Things  0          2016        NA     \n",
       "2 Stranger Things Stranger Things  0          2016        NA     \n",
       "3 Stranger Things Stranger Things  0          2016        NA     \n",
       "4 Stranger Things Stranger Things  0          2016        NA     \n",
       "5 Stranger Things Stranger Things  0          2016        NA     \n",
       "6 Stranger Things Stranger Things  0          2016        NA     \n",
       "  runtime_minutes.x genres.x             type.y   \n",
       "1 51                Drama,Fantasy,Horror tvEpisode\n",
       "2 51                Drama,Fantasy,Horror tvEpisode\n",
       "3 51                Drama,Fantasy,Horror tvEpisode\n",
       "4 51                Drama,Fantasy,Horror tvEpisode\n",
       "5 51                Drama,Fantasy,Horror tvEpisode\n",
       "6 51                Drama,Fantasy,Horror tvEpisode\n",
       "  primary_title.y                                 \n",
       "1 Chapter One: MADMAX                             \n",
       "2 Chapter Two: Trick or Treat, Freak              \n",
       "3 Chapter Seven: The Lost Sister                  \n",
       "4 Chapter One: Suzie, Do You Copy?                \n",
       "5 Chapter Two: The Mall Rats                      \n",
       "6 Chapter Three: The Case of the Missing Lifeguard\n",
       "  original_title.y                                 is_adult.y premiered.y\n",
       "1 Chapter One: MADMAX                              0          2017       \n",
       "2 Chapter Two: Trick or Treat, Freak               0          2017       \n",
       "3 Chapter Seven: The Lost Sister                   0          2017       \n",
       "4 Chapter One: Suzie, Do You Copy?                 0          2019       \n",
       "5 Chapter Two: The Mall Rats                       0          2019       \n",
       "6 Chapter Three: The Case of the Missing Lifeguard 0          2019       \n",
       "  ended.y runtime_minutes.y genres.y             rating.x votes.x rating.y\n",
       "1 NA      48                Drama,Fantasy,Horror 8.7      870577  8.3     \n",
       "2 NA      56                Drama,Fantasy,Horror 8.7      870577  8.4     \n",
       "3 NA      45                Drama,Fantasy,Horror 8.7      870577  6.1     \n",
       "4 NA      50                Drama,Fantasy,Horror 8.7      870577  7.9     \n",
       "5 NA      50                Drama,Fantasy,Horror 8.7      870577  8.0     \n",
       "6 NA      49                Drama,Fantasy,Horror 8.7      870577  8.4     \n",
       "  votes.y\n",
       "1 15678  \n",
       "2 14554  \n",
       "3 22503  \n",
       "4 16701  \n",
       "5 14982  \n",
       "6 14470  "
      ]
     },
     "metadata": {},
     "output_type": "display_data"
    }
   ],
   "source": [
    "subset(showMergeDF, (season_number = myseason) & (rating.y < 8.5))"
   ]
  },
  {
   "cell_type": "code",
   "execution_count": 21,
   "id": "e8f9e08c-c20e-4d72-89ea-8e87e502408f",
   "metadata": {},
   "outputs": [],
   "source": [
    "season_number <- 3"
   ]
  },
  {
   "cell_type": "code",
   "execution_count": 22,
   "id": "8cc81028-8eb1-40b7-959f-a7aa977d631d",
   "metadata": {},
   "outputs": [
    {
     "data": {
      "text/plain": [
       "  episode_title_id show_title_id season_number episode_number type.x  \n",
       "1 tt6020684        tt4574334     2             1              tvSeries\n",
       "2 tt6020792        tt4574334     2             2              tvSeries\n",
       "3 tt6020810        tt4574334     2             7              tvSeries\n",
       "4 tt7445494        tt4574334     3             1              tvSeries\n",
       "5 tt7640050        tt4574334     3             2              tvSeries\n",
       "6 tt7911866        tt4574334     3             3              tvSeries\n",
       "  primary_title.x original_title.x is_adult.x premiered.x ended.x\n",
       "1 Stranger Things Stranger Things  0          2016        NA     \n",
       "2 Stranger Things Stranger Things  0          2016        NA     \n",
       "3 Stranger Things Stranger Things  0          2016        NA     \n",
       "4 Stranger Things Stranger Things  0          2016        NA     \n",
       "5 Stranger Things Stranger Things  0          2016        NA     \n",
       "6 Stranger Things Stranger Things  0          2016        NA     \n",
       "  runtime_minutes.x genres.x             type.y   \n",
       "1 51                Drama,Fantasy,Horror tvEpisode\n",
       "2 51                Drama,Fantasy,Horror tvEpisode\n",
       "3 51                Drama,Fantasy,Horror tvEpisode\n",
       "4 51                Drama,Fantasy,Horror tvEpisode\n",
       "5 51                Drama,Fantasy,Horror tvEpisode\n",
       "6 51                Drama,Fantasy,Horror tvEpisode\n",
       "  primary_title.y                                 \n",
       "1 Chapter One: MADMAX                             \n",
       "2 Chapter Two: Trick or Treat, Freak              \n",
       "3 Chapter Seven: The Lost Sister                  \n",
       "4 Chapter One: Suzie, Do You Copy?                \n",
       "5 Chapter Two: The Mall Rats                      \n",
       "6 Chapter Three: The Case of the Missing Lifeguard\n",
       "  original_title.y                                 is_adult.y premiered.y\n",
       "1 Chapter One: MADMAX                              0          2017       \n",
       "2 Chapter Two: Trick or Treat, Freak               0          2017       \n",
       "3 Chapter Seven: The Lost Sister                   0          2017       \n",
       "4 Chapter One: Suzie, Do You Copy?                 0          2019       \n",
       "5 Chapter Two: The Mall Rats                       0          2019       \n",
       "6 Chapter Three: The Case of the Missing Lifeguard 0          2019       \n",
       "  ended.y runtime_minutes.y genres.y             rating.x votes.x rating.y\n",
       "1 NA      48                Drama,Fantasy,Horror 8.7      870577  8.3     \n",
       "2 NA      56                Drama,Fantasy,Horror 8.7      870577  8.4     \n",
       "3 NA      45                Drama,Fantasy,Horror 8.7      870577  6.1     \n",
       "4 NA      50                Drama,Fantasy,Horror 8.7      870577  7.9     \n",
       "5 NA      50                Drama,Fantasy,Horror 8.7      870577  8.0     \n",
       "6 NA      49                Drama,Fantasy,Horror 8.7      870577  8.4     \n",
       "  votes.y\n",
       "1 15678  \n",
       "2 14554  \n",
       "3 22503  \n",
       "4 16701  \n",
       "5 14982  \n",
       "6 14470  "
      ]
     },
     "metadata": {},
     "output_type": "display_data"
    }
   ],
   "source": [
    "subset(showMergeDF, (season_number = season_number) & (rating.y < 8.5))"
   ]
  },
  {
   "cell_type": "markdown",
   "id": "9fba41e1-7279-4220-8b51-e7c8b32a51d3",
   "metadata": {},
   "source": [
    "the first time I did it was right, however, the second time is wrong as the variable name is exactly the same as the variable thing itself."
   ]
  },
  {
   "cell_type": "markdown",
   "id": "f76442d6-d02e-4f26-b9d6-c3183e1d6929",
   "metadata": {},
   "source": [
    "## Pledge\n",
    "\n",
    "By submitting this work I hereby pledge that this is my own, personal work. I've acknowledged in the designated place at the top of this file all sources that I used to complete said work, including but not limited to: online resources, books, and electronic communications. I've noted all collaboration with fellow students and/or TA's. I did not copy or plagiarize another's work.\n",
    "\n",
    "> As a Boilermaker pursuing academic excellence, I pledge to be honest and true in all that I do. Accountable together – We are Purdue."
   ]
  }
 ],
 "metadata": {
  "kernelspec": {
   "display_name": "seminar-r",
   "language": "R",
   "name": "seminar-r"
  },
  "language_info": {
   "codemirror_mode": "r",
   "file_extension": ".r",
   "mimetype": "text/x-r-source",
   "name": "R",
   "pygments_lexer": "r",
   "version": "4.3.1"
  }
 },
 "nbformat": 4,
 "nbformat_minor": 5
}
