{
 "cells": [
  {
   "cell_type": "markdown",
   "id": "be02a957-7133-4d02-818e-fedeb3cecb05",
   "metadata": {},
   "source": [
    "# Project 3 -- Simrith Ranjan"
   ]
  },
  {
   "cell_type": "markdown",
   "id": "a1228853-dd19-4ab2-89e0-0394d7d72de3",
   "metadata": {},
   "source": [
    "**TA Help:** N/A\n",
    "    \n",
    "**Collaboration:** N/A"
   ]
  },
  {
   "cell_type": "markdown",
   "id": "6180e742-8e39-4698-98ff-5b00c8cf8ea0",
   "metadata": {},
   "source": [
    "## Question 1"
   ]
  },
  {
   "cell_type": "code",
   "execution_count": 2,
   "id": "49445606-d363-41b4-b479-e319a9a84c01",
   "metadata": {},
   "outputs": [
    {
     "data": {
      "text/html": [
       "1447955215"
      ],
      "text/latex": [
       "1447955215"
      ],
      "text/markdown": [
       "1447955215"
      ],
      "text/plain": [
       "[1] 1447955215"
      ]
     },
     "metadata": {},
     "output_type": "display_data"
    }
   ],
   "source": [
    "file.info(\"/anvil/projects/tdm/data/craigslist/vehicles.csv\")$size"
   ]
  },
  {
   "cell_type": "markdown",
   "id": "b456e57c-4a12-464b-999a-ef2df5af80c1",
   "metadata": {},
   "source": [
    "$size shows the size of the file (can show the whole thing too) \n",
    "1.4 billion bytes = 1.4 GB\n",
    "could use one core which has rought 2 GB (I'm using 2 cores)"
   ]
  },
  {
   "cell_type": "code",
   "execution_count": 3,
   "id": "c6bdd546-3e14-47bb-b083-6bbf2f37f63c",
   "metadata": {},
   "outputs": [],
   "source": [
    "myDF <- read.csv(\"/anvil/projects/tdm/data/craigslist/vehicles.csv\")"
   ]
  },
  {
   "cell_type": "code",
   "execution_count": 32,
   "id": "eb173acc-8244-412e-b609-9b208bb48bb8",
   "metadata": {},
   "outputs": [],
   "source": [
    "options(jupyter.rich_display =F)"
   ]
  },
  {
   "cell_type": "code",
   "execution_count": 33,
   "id": "396423d7-5528-4712-8f6b-ad4c0059bea6",
   "metadata": {},
   "outputs": [
    {
     "data": {
      "text/plain": [
       "  id        \n",
       "1 7222695916\n",
       "2 7218891961\n",
       "3 7221797935\n",
       "4 7222270760\n",
       "5 7210384030\n",
       "6 7222379453\n",
       "  url                                                                                         \n",
       "1 https://prescott.craigslist.org/cto/d/prescott-2010-ford-ranger/7222695916.html             \n",
       "2 https://fayar.craigslist.org/ctd/d/bentonville-2017-hyundai-elantra-se/7218891961.html      \n",
       "3 https://keys.craigslist.org/cto/d/summerland-key-2005-excursion/7221797935.html             \n",
       "4 https://worcester.craigslist.org/cto/d/west-brookfield-2002-honda-odyssey-ex/7222270760.html\n",
       "5 https://greensboro.craigslist.org/cto/d/trinity-1965-chevrolet-truck/7210384030.html        \n",
       "6 https://hudsonvalley.craigslist.org/cto/d/westtown-2007-ford-150/7222379453.html            \n",
       "  region                 region_url                          price year\n",
       "1 prescott               https://prescott.craigslist.org      6000 NA  \n",
       "2 fayetteville           https://fayar.craigslist.org        11900 NA  \n",
       "3 florida keys           https://keys.craigslist.org         21000 NA  \n",
       "4 worcester / central MA https://worcester.craigslist.org     1500 NA  \n",
       "5 greensboro             https://greensboro.craigslist.org    4900 NA  \n",
       "6 hudson valley          https://hudsonvalley.craigslist.org  1600 NA  \n",
       "  manufacturer model condition cylinders ... size type paint_color image_url\n",
       "1                                        ...                                \n",
       "2                                        ...                                \n",
       "3                                        ...                                \n",
       "4                                        ...                                \n",
       "5                                        ...                                \n",
       "6                                        ...                                \n",
       "  description county state lat long posting_date\n",
       "1             NA     az    NA  NA               \n",
       "2             NA     ar    NA  NA               \n",
       "3             NA     fl    NA  NA               \n",
       "4             NA     ma    NA  NA               \n",
       "5             NA     nc    NA  NA               \n",
       "6             NA     ny    NA  NA               "
      ]
     },
     "metadata": {},
     "output_type": "display_data"
    }
   ],
   "source": [
    "head(myDF)"
   ]
  },
  {
   "cell_type": "code",
   "execution_count": 34,
   "id": "be3aaf1f-1991-4568-aad6-2fb2abf4e1b6",
   "metadata": {},
   "outputs": [
    {
     "data": {
      "text/plain": [
       "[1] 426880     26"
      ]
     },
     "metadata": {},
     "output_type": "display_data"
    }
   ],
   "source": [
    "dim(myDF)"
   ]
  },
  {
   "cell_type": "markdown",
   "id": "61d34592-043b-4c8a-b694-bc161e373dc7",
   "metadata": {},
   "source": [
    "1a. 426880 rows and 26 columns"
   ]
  },
  {
   "cell_type": "code",
   "execution_count": 35,
   "id": "785f6185-aafc-440b-bccd-e2e18ec2f94b",
   "metadata": {},
   "outputs": [
    {
     "name": "stdout",
     "output_type": "stream",
     "text": [
      "'data.frame':\t426880 obs. of  26 variables:\n",
      " $ id          : num  7.22e+09 7.22e+09 7.22e+09 7.22e+09 7.21e+09 ...\n",
      " $ url         : chr  \"https://prescott.craigslist.org/cto/d/prescott-2010-ford-ranger/7222695916.html\" \"https://fayar.craigslist.org/ctd/d/bentonville-2017-hyundai-elantra-se/7218891961.html\" \"https://keys.craigslist.org/cto/d/summerland-key-2005-excursion/7221797935.html\" \"https://worcester.craigslist.org/cto/d/west-brookfield-2002-honda-odyssey-ex/7222270760.html\" ...\n",
      " $ region      : chr  \"prescott\" \"fayetteville\" \"florida keys\" \"worcester / central MA\" ...\n",
      " $ region_url  : chr  \"https://prescott.craigslist.org\" \"https://fayar.craigslist.org\" \"https://keys.craigslist.org\" \"https://worcester.craigslist.org\" ...\n",
      " $ price       : num  6000 11900 21000 1500 4900 ...\n",
      " $ year        : int  NA NA NA NA NA NA NA NA NA NA ...\n",
      " $ manufacturer: chr  \"\" \"\" \"\" \"\" ...\n",
      " $ model       : chr  \"\" \"\" \"\" \"\" ...\n",
      " $ condition   : chr  \"\" \"\" \"\" \"\" ...\n",
      " $ cylinders   : chr  \"\" \"\" \"\" \"\" ...\n",
      " $ fuel        : chr  \"\" \"\" \"\" \"\" ...\n",
      " $ odometer    : int  NA NA NA NA NA NA NA NA NA NA ...\n",
      " $ title_status: chr  \"\" \"\" \"\" \"\" ...\n",
      " $ transmission: chr  \"\" \"\" \"\" \"\" ...\n",
      " $ VIN         : chr  \"\" \"\" \"\" \"\" ...\n",
      " $ drive       : chr  \"\" \"\" \"\" \"\" ...\n",
      " $ size        : chr  \"\" \"\" \"\" \"\" ...\n",
      " $ type        : chr  \"\" \"\" \"\" \"\" ...\n",
      " $ paint_color : chr  \"\" \"\" \"\" \"\" ...\n",
      " $ image_url   : chr  \"\" \"\" \"\" \"\" ...\n",
      " $ description : chr  \"\" \"\" \"\" \"\" ...\n",
      " $ county      : logi  NA NA NA NA NA NA ...\n",
      " $ state       : chr  \"az\" \"ar\" \"fl\" \"ma\" ...\n",
      " $ lat         : num  NA NA NA NA NA NA NA NA NA NA ...\n",
      " $ long        : num  NA NA NA NA NA NA NA NA NA NA ...\n",
      " $ posting_date: chr  \"\" \"\" \"\" \"\" ...\n"
     ]
    }
   ],
   "source": [
    "str(myDF)"
   ]
  },
  {
   "cell_type": "markdown",
   "id": "35954286-4796-422d-ade0-ce3143cf03ca",
   "metadata": {},
   "source": [
    "1b. The data set has numerical values, character strings (chr), some integers, some logical values, etc."
   ]
  },
  {
   "cell_type": "markdown",
   "id": "bb40f458-6146-4234-aa04-06a0c0716fdf",
   "metadata": {},
   "source": [
    "1c. This data contains a variety of information from fuel type to what country the data is coing from. Our data is from Craigslist and can tell us some information on the region, prices, paint color of the vehicles."
   ]
  },
  {
   "cell_type": "markdown",
   "id": "fc601975-35ed-4680-a4e1-0273ee3cc047",
   "metadata": {},
   "source": [
    "## Question 2"
   ]
  },
  {
   "cell_type": "code",
   "execution_count": 36,
   "id": "a16336a1-1ef0-41e8-bc7c-49387db27497",
   "metadata": {},
   "outputs": [
    {
     "data": {
      "text/plain": [
       "  [1]   NA   NA   NA   NA   NA   NA   NA   NA   NA   NA   NA   NA   NA   NA   NA\n",
       " [16]   NA   NA   NA   NA   NA   NA   NA   NA   NA   NA   NA   NA 2014 2010 2020\n",
       " [31] 2017 2013 2012 2016 2019 2016 2011 1992 2017 2017 2016 2014 2016 2014 2019\n",
       " [46] 2018 2011 2018 2016 2020 2020 2017 2020 2020 2019 2004 2016 2016 2015 2012\n",
       " [61] 2018 2013 2019 2018 2017 2001 2019 2013 2014 2016 2012 2014 2017 2017 2020\n",
       " [76] 2018 2017 2018 2013 2020 2012 2019 2015 2018 2020 2020 2004 2016 2019 2020\n",
       " [91] 2019 2018 2015 2017 2018 2006 2004 2016 2013 2018"
      ]
     },
     "metadata": {},
     "output_type": "display_data"
    }
   ],
   "source": [
    "head(myDF$year, n = 100)\n"
   ]
  },
  {
   "cell_type": "markdown",
   "id": "14dc22d4-ddc3-41cc-a91a-cb0025bc0c80",
   "metadata": {},
   "source": [
    "real world data can have missing values...investigate the N/A values in year"
   ]
  },
  {
   "cell_type": "code",
   "execution_count": 37,
   "id": "f7c0f815-46ee-4e40-8318-c499a6e59bb3",
   "metadata": {},
   "outputs": [
    {
     "data": {
      "text/plain": [
       "\n",
       " 1900  1901  1902  1903  1905  1909  1910  1913  1915  1916  1918  1920  1921 \n",
       "   12     3     1    12     1     1     2     2     1     2     1     2     2 \n",
       " 1922  1923  1924  1925  1926  1927  1928  1929  1930  1931  1932  1933  1934 \n",
       "    3    36     9     8    16    37    38    57    68    58    57    25    44 \n",
       " 1935  1936  1937  1938  1939  1940  1941  1942  1943  1944  1945  1946  1947 \n",
       "   23    43    70    38    54    81    67    15     1     3     2    58    71 \n",
       " 1948  1949  1950  1951  1952  1953  1954  1955  1956  1957  1958  1959  1960 \n",
       "  100    89   106    98   110   105   100   226   160   174    73    93   120 \n",
       " 1961  1962  1963  1964  1965  1966  1967  1968  1969  1970  1971  1972  1973 \n",
       "   82   138   234   270   365   424   357   425   409   345   312   409   334 \n",
       " 1974  1975  1976  1977  1978  1979  1980  1981  1982  1983  1984  1985  1986 \n",
       "  280   204   242   273   345   387   272   214   217   257   387   469   523 \n",
       " 1987  1988  1989  1990  1991  1992  1993  1994  1995  1996  1997  1998  1999 \n",
       "  532   528   571   599   608   626   712   968  1246  1302  1724  1988  3094 \n",
       " 2000  2001  2002  2003  2004  2005  2006  2007  2008  2009  2010  2011  2012 \n",
       " 3572  4443  5587  7151  8971 10622 12763 14873 17150 12185 15829 20341 23898 \n",
       " 2013  2014  2015  2016  2017  2018  2019  2020  2021  2022  <NA> \n",
       "30794 30283 31538 30434 36420 36369 25375 19298  2396   133  1205 "
      ]
     },
     "metadata": {},
     "output_type": "display_data"
    }
   ],
   "source": [
    "table(myDF$year, useNA = \"always\") #table will not show the NAs"
   ]
  },
  {
   "cell_type": "code",
   "execution_count": 38,
   "id": "18fe222f-ecc5-4aa8-9aa0-dc287d1e120e",
   "metadata": {},
   "outputs": [
    {
     "data": {
      "text/plain": [
       " [1]   NA   NA   NA   NA   NA   NA   NA   NA   NA   NA   NA   NA   NA   NA   NA\n",
       "[16]   NA   NA   NA   NA   NA   NA   NA   NA   NA   NA   NA   NA 2014 2010 2020\n",
       "[31] 2017 2013 2012 2016 2019 2016 2011 1992 2017 2017 2016 2014 2016 2014 2019\n",
       "[46] 2018 2011 2018 2016 2020"
      ]
     },
     "metadata": {},
     "output_type": "display_data"
    }
   ],
   "source": [
    "head(myDF$year, n=50)"
   ]
  },
  {
   "cell_type": "code",
   "execution_count": 39,
   "id": "cab6646e-37e0-4511-84bc-69a76c456980",
   "metadata": {},
   "outputs": [
    {
     "data": {
      "text/plain": [
       " [1]  TRUE  TRUE  TRUE  TRUE  TRUE  TRUE  TRUE  TRUE  TRUE  TRUE  TRUE  TRUE\n",
       "[13]  TRUE  TRUE  TRUE  TRUE  TRUE  TRUE  TRUE  TRUE  TRUE  TRUE  TRUE  TRUE\n",
       "[25]  TRUE  TRUE  TRUE FALSE FALSE FALSE FALSE FALSE FALSE FALSE FALSE FALSE\n",
       "[37] FALSE FALSE FALSE FALSE FALSE FALSE FALSE FALSE FALSE FALSE FALSE FALSE\n",
       "[49] FALSE FALSE"
      ]
     },
     "metadata": {},
     "output_type": "display_data"
    }
   ],
   "source": [
    "head(is.na(myDF$year), n=50)"
   ]
  },
  {
   "cell_type": "code",
   "execution_count": 40,
   "id": "dac51203-1e66-4a06-ae4d-32b7a104792a",
   "metadata": {},
   "outputs": [
    {
     "data": {
      "text/plain": [
       "[1] 1205"
      ]
     },
     "metadata": {},
     "output_type": "display_data"
    }
   ],
   "source": [
    "sum(is.na(myDF$year))"
   ]
  },
  {
   "cell_type": "code",
   "execution_count": 41,
   "id": "dac04c98-b5c0-43ac-912c-754e8ee7447b",
   "metadata": {},
   "outputs": [
    {
     "data": {
      "text/plain": [
       "[1] 426880"
      ]
     },
     "metadata": {},
     "output_type": "display_data"
    }
   ],
   "source": [
    "dim(myDF)[1] #rows [2] col"
   ]
  },
  {
   "cell_type": "code",
   "execution_count": 42,
   "id": "c5567bd7-d69b-44e0-b678-4f5ff20f02c0",
   "metadata": {},
   "outputs": [
    {
     "data": {
      "text/plain": [
       "[1] 0.002822807"
      ]
     },
     "metadata": {},
     "output_type": "display_data"
    }
   ],
   "source": [
    "sum(is.na(myDF$year)) / dim(myDF)[1]"
   ]
  },
  {
   "cell_type": "code",
   "execution_count": 43,
   "id": "a1709424-d14a-4624-8787-a98dd9519244",
   "metadata": {},
   "outputs": [],
   "source": [
    "goodLatitudeDF <- subset(myDF, !is.na(myDF$lat)) #before the comma, I put any conditions on rows of the data, \n",
    "                                                 #after comma the conditions are on the columns of the data\n",
    "#goodlatitudeDF <- subset(myDF, !is.na(lat))\n",
    "#goodlatitudeDF <- myDF[!is.na(myDF$lat), ]"
   ]
  },
  {
   "cell_type": "code",
   "execution_count": 44,
   "id": "794d50ce-ac42-4cb7-857a-b64ce08c87ec",
   "metadata": {},
   "outputs": [
    {
     "data": {
      "text/plain": [
       "[1] 420331     26"
      ]
     },
     "metadata": {},
     "output_type": "display_data"
    }
   ],
   "source": [
    "dim(goodLatitudeDF)"
   ]
  },
  {
   "cell_type": "code",
   "execution_count": 45,
   "id": "c96a426d-882a-4eaf-8fd5-1ad2a895dad2",
   "metadata": {},
   "outputs": [
    {
     "data": {
      "text/plain": [
       "[1] 426880     26"
      ]
     },
     "metadata": {},
     "output_type": "display_data"
    }
   ],
   "source": [
    "dim(myDF) #about 6k rows are missing, meaning 6k rows had NA values"
   ]
  },
  {
   "cell_type": "code",
   "execution_count": 46,
   "id": "7891525c-e58e-4143-9356-26ccb50f2add",
   "metadata": {},
   "outputs": [],
   "source": [
    "goodyearsDF <- subset(myDF, !is.na(myDF$year)) #before the comma, I put any conditions on rows of the data, "
   ]
  },
  {
   "cell_type": "code",
   "execution_count": 47,
   "id": "c4f972c4-1f67-4bc1-8d2d-e7399e81885f",
   "metadata": {},
   "outputs": [
    {
     "data": {
      "text/plain": [
       "[1] 425675     26"
      ]
     },
     "metadata": {},
     "output_type": "display_data"
    }
   ],
   "source": [
    "dim(goodyearsDF)"
   ]
  },
  {
   "cell_type": "code",
   "execution_count": 48,
   "id": "e2d2f263-78b4-4430-961c-d97a21adf517",
   "metadata": {},
   "outputs": [
    {
     "data": {
      "text/plain": [
       "   id        \n",
       "28 7316814884\n",
       "29 7316814758\n",
       "30 7316814989\n",
       "31 7316743432\n",
       "32 7316356412\n",
       "33 7316343444\n",
       "   url                                                                                       \n",
       "28 https://auburn.craigslist.org/ctd/d/auburn-university-2014-gmc-sierra-1500/7316814884.html\n",
       "29 https://auburn.craigslist.org/ctd/d/auburn-university-2010-chevy-chevrolet/7316814758.html\n",
       "30 https://auburn.craigslist.org/ctd/d/auburn-university-2020-chevy-chevrolet/7316814989.html\n",
       "31 https://auburn.craigslist.org/ctd/d/auburn-university-2017-toyota-tundra/7316743432.html  \n",
       "32 https://auburn.craigslist.org/cto/d/auburn-university-2013-150/7316356412.html            \n",
       "33 https://auburn.craigslist.org/ctd/d/auburn-university-2012-gmc-sierra-2500/7316343444.html\n",
       "   region region_url                    price year manufacturer\n",
       "28 auburn https://auburn.craigslist.org 33590 2014 gmc         \n",
       "29 auburn https://auburn.craigslist.org 22590 2010 chevrolet   \n",
       "30 auburn https://auburn.craigslist.org 39590 2020 chevrolet   \n",
       "31 auburn https://auburn.craigslist.org 30990 2017 toyota      \n",
       "32 auburn https://auburn.craigslist.org 15000 2013 ford        \n",
       "33 auburn https://auburn.craigslist.org 27990 2012 gmc         \n",
       "   model                       condition cylinders   ... size      type  \n",
       "28 sierra 1500 crew cab slt    good      8 cylinders ...           pickup\n",
       "29 silverado 1500              good      8 cylinders ...           pickup\n",
       "30 silverado 1500 crew         good      8 cylinders ...           pickup\n",
       "31 tundra double cab sr        good      8 cylinders ...           pickup\n",
       "32 f-150 xlt                   excellent 6 cylinders ... full-size truck \n",
       "33 sierra 2500 hd extended cab good      8 cylinders ...           pickup\n",
       "   paint_color\n",
       "28 white      \n",
       "29 blue       \n",
       "30 red        \n",
       "31 red        \n",
       "32 black      \n",
       "33 black      \n",
       "   image_url                                                          \n",
       "28 https://images.craigslist.org/00R0R_lwWjXSEWNa7z_0x20oM_600x450.jpg\n",
       "29 https://images.craigslist.org/00R0R_lwWjXSEWNa7z_0x20oM_600x450.jpg\n",
       "30 https://images.craigslist.org/01212_jjirIWa0y02z_0gw0co_600x450.jpg\n",
       "31 https://images.craigslist.org/00x0x_1y9kIOzGCFaz_0gw0co_600x450.jpg\n",
       "32 https://images.craigslist.org/00404_l4loxHvdQefz_0CI0t2_600x450.jpg\n",
       "33 https://images.craigslist.org/00V0V_ftJbKrOgdi5z_0gw0co_600x450.jpg\n",
       "   description                                                                                                                                                                                                                                                                                                                                                                                                                                                                                                                                                                                                                                                                                                                                                                                                                                                                                                                                                                                                                                                                                                                                                                                                                                                                                                                                                                                                                                                                                                                                                                                                                                                                                                                                                                                                                                                                                                                                                                                                                                                                                                                                                                                                                                                                                                                                                                                                                                                                                                                                                                                                                                                                                                                                                                                                                                                                                                                                                                                                                                                                                                                                                                                                                                                                                                                                                                                                                                                                                                                                                                                                                                                                                                                                                                                                                                                                                                                                                                                                                                                                                                                                                                                                                                                                                                                                                                                                                                                                                                                                                                                                                                                                                                                                                                                                                                                                                                                                                              \n",
       "28 Carvana is the safer way to buy a car During these uncertain times, Carvana is dedicated to ensuring safety for all of our customers. In addition to our 100% online shopping and selling experience that allows all customers to buy and trade their cars without ever leaving the safety of their house, we\\342\\200\\231re providing touchless delivery that make all aspects of our process even safer. Now, you can get the car you want, and trade in your old one, while avoiding person-to-person contact with our friendly advocates. There are some things that can\\342\\200\\231t be put off. And if buying a car is one of them, know that we\\342\\200\\231re doing everything we can to keep you keep moving while continuing to put your health safety, and happiness first. Vehicle Stock# 2000909557\\360\\237\\223\\261 Want to instantly check this car\\342\\200\\231s availability? Call us at  334-758-9176Just text that stock number to 855-976-4304 or head to http://www.carvanaauto.com/7171237-74502 and plug it into the search bar!Get PRE-QUALIFIED for your auto loan in 2 minutes - no hit to your credit:http://finance.carvanaauto.com/7171237-74502Looking for more cars like this one? We have 63 GMC Sierra 1500 Crew Cab in stock for as low as $23990!Why buy with Carvana? We have one standard: the highest. Take a look at just some of the qualifications all of our cars must meet before we list them.150-POINT INSPECTION: We put each vehicle through a 150-point inspection so that you can be 100% confident in its quality and safety. See everything that goes into our inspections at:http://www.carvanaauto.com/7171237-74502NO REPORTED ACCIDENTS: We do not sell cars that have been in a reported accident or have a frame or structural damage.7 DAY TEST OWN MONEY BACK GUARANTEE: Every Carvana car comes with a 7-day money-back guarantee. Why? It takes more than 15-minutes to make a decision on your next car. Learn more about test owning at http://about.carvanaauto.comFLEXIBLE FINANCING, TRADE INS WELCOME: We\\342\\200\\231re all about real-time financing without the middle man. Need financing? Pick a combination of down and monthly payments that work for you. Have a trade-in? We\\342\\200\\231ll give you a value in 2 minutes. Check out everything about our financing at:http://finance.carvanaauto.com/7171237-74502COST SAVINGS: Carvana's business model has fewer expenses and no bloated fees compared to your local dealership. See how much we can save you at http://about.carvanaauto.comPREMIUM DETAIL: We go the extra mile so that your car is looking as good as new. There are a lot of specifics that we won\\342\\200\\231t list here (we wash, clean, buff, paint, polish, wax, seal), but trust us that when your car arrives, it\\342\\200\\231s going to look sweet.Vehicle Info for Stock# 2000909557Trim: SLT Pickup 4D 5 3/4 ft pickupMileage: 57k milesExterior Color: WhiteInterior Color: Lt. BrownEngine: EcoTec3 5.3L Flex Fuel V8 355hp 383ft. lbs.Drive: Two Wheel DriveTransmission: VIN: 3GTP1VEC4EG551563Dealer Disclosure: Price excludes tax, title, and registration (which we handle for you).Disclaimer: You agree that by providing your phone number, Carvana, or Carvana\\342\\200\\231s authorized representatives*, may call and/or send text messages (including by using equipment to automatically dial telephone numbers) about your interest in a purchase, for marketing/sales purposes, or for any other servicing or informational purpose related to your account. You do not have to consent to receiving calls or texts to purchase from Carvana. While every reasonable effort is made to ensure the accuracy of the information for this GMC Sierra 1500 Crew Cab, we are not responsible for any errors or omissions contained in this ad. Please verify any information in question with Carvana at 334-758-9176*Including, but not limited to, Bridgecrest Credit Company, GO Financial and SilverRock Automotive.*GMC* *Sierra* *1500* *Crew* *Cab* *Base* *GMC* *Sierra* *1500* *Crew* *Cab* *SLE* *GMC* *Sierra* *1500* *Crew* *Cab* *SLT* *GMC* *Sierra* *1500* *Crew* *Cab* *Denali* *GMC* *Sierra* *1500* *Crew* *Cab* *Work* *Truck* *4x2* *GMC* *Sierra* *1500* *Crew* *Cab* *4x4* *Crew* *Cab* *GMC* *Sierra* *1500* *Crew* *Cab* *Regular* *Cab* *Extended* *Cab* *Truck* 2022  2021  2020  2019  2018  2017  2016  2015  2014  2013  2012  2011  2010  2009  2008  2007  2006  2005  2004  2003  2002  2001  2000   22  21    19  18  17  16  15  14  13  12  11  10  09  08  07  06  05  04  03  02  01  00                                                                                                                                                                                                                                                                                                                            \n",
       "29 Carvana is the safer way to buy a car During these uncertain times, Carvana is dedicated to ensuring safety for all of our customers. In addition to our 100% online shopping and selling experience that allows all customers to buy and trade their cars without ever leaving the safety of their house, we\\342\\200\\231re providing touchless delivery that make all aspects of our process even safer. Now, you can get the car you want, and trade in your old one, while avoiding person-to-person contact with our friendly advocates. There are some things that can\\342\\200\\231t be put off. And if buying a car is one of them, know that we\\342\\200\\231re doing everything we can to keep you keep moving while continuing to put your health safety, and happiness first. Vehicle Stock# 2000977114\\360\\237\\223\\261 Want to instantly check this car\\342\\200\\231s availability? Call us at  334-758-9176Just text that stock number to 855-976-4304 or head to http://www.carvanaauto.com/7163375-74502 and plug it into the search bar!Get PRE-QUALIFIED for your auto loan in 2 minutes - no hit to your credit:http://finance.carvanaauto.com/7163375-74502Looking for more cars like this one? We have 10 Chevrolet Silverado 1500 Extended Cab in stock for as low as $20990!Why buy with Carvana? We have one standard: the highest. Take a look at just some of the qualifications all of our cars must meet before we list them.150-POINT INSPECTION: We put each vehicle through a 150-point inspection so that you can be 100% confident in its quality and safety. See everything that goes into our inspections at:http://www.carvanaauto.com/7163375-74502NO REPORTED ACCIDENTS: We do not sell cars that have been in a reported accident or have a frame or structural damage.7 DAY TEST OWN MONEY BACK GUARANTEE: Every Carvana car comes with a 7-day money-back guarantee. Why? It takes more than 15-minutes to make a decision on your next car. Learn more about test owning at http://about.carvanaauto.comFLEXIBLE FINANCING, TRADE INS WELCOME: We\\342\\200\\231re all about real-time financing without the middle man. Need financing? Pick a combination of down and monthly payments that work for you. Have a trade-in? We\\342\\200\\231ll give you a value in 2 minutes. Check out everything about our financing at:http://finance.carvanaauto.com/7163375-74502COST SAVINGS: Carvana's business model has fewer expenses and no bloated fees compared to your local dealership. See how much we can save you at http://about.carvanaauto.comPREMIUM DETAIL: We go the extra mile so that your car is looking as good as new. There are a lot of specifics that we won\\342\\200\\231t list here (we wash, clean, buff, paint, polish, wax, seal), but trust us that when your car arrives, it\\342\\200\\231s going to look sweet.Vehicle Info for Stock# 2000977114Trim: LT Pickup 4D 6 1/2 ft pickupMileage: 71k milesExterior Color: BlueInterior Color: BlackEngine: Vortec 5.3L Flex Fuel V8 315hp 335ft. lbs.Drive: Two Wheel DriveTransmission: VIN: 1GCSCSE06AZ123805Dealer Disclosure: Price excludes tax, title, and registration (which we handle for you).Disclaimer: You agree that by providing your phone number, Carvana, or Carvana\\342\\200\\231s authorized representatives*, may call and/or send text messages (including by using equipment to automatically dial telephone numbers) about your interest in a purchase, for marketing/sales purposes, or for any other servicing or informational purpose related to your account. You do not have to consent to receiving calls or texts to purchase from Carvana. While every reasonable effort is made to ensure the accuracy of the information for this Chevrolet Silverado 1500 Extended Cab, we are not responsible for any errors or omissions contained in this ad. Please verify any information in question with Carvana at 334-758-9176*Including, but not limited to, Bridgecrest Credit Company, GO Financial and SilverRock Automotive.*Chevrolet* *Silverado* *1500* *Extended* *Cab* *Chevy* *Chevrolet* *Silverado* *1500* *Extended* *Cab* *HD* *Crew* *Cab* *LS* *Pickup* *Chevrolet* *Silverado* *1500* *Extended* *Cab* *LS* *Chevrolet* *Silverado* *1500* *Extended* *Cab* *LT* *Chevrolet* *Silverado* *1500* *Extended* *Cab* *LTZ* *Chevrolet* *Silverado* *1500* *Extended* *Cab* *LT1* *Chevrolet* *Silverado* *1500* *Extended* *Cab* *Crew* *Cab* *Chevrolet* *Silverado* *1500* *Extended* *Cab* *XtraCab* *Chevrolet* *Silverado* *1500* *Extended* *Cab* *2500HD* *Classic* *Pick* *up* 2022  2021  2020  2019  2018  2017  2016  2015  2014  2013  2012  2011  2010  2009  2008  2007  2006  2005  2004  2003  2002  2001  2000   22  21    19  18  17  16  15  14  13  12  11  10  09  08  07  06  05  04  03  02  01  00                                                                                                       \n",
       "30 Carvana is the safer way to buy a car During these uncertain times, Carvana is dedicated to ensuring safety for all of our customers. In addition to our 100% online shopping and selling experience that allows all customers to buy and trade their cars without ever leaving the safety of their house, we\\342\\200\\231re providing touchless delivery that make all aspects of our process even safer. Now, you can get the car you want, and trade in your old one, while avoiding person-to-person contact with our friendly advocates. There are some things that can\\342\\200\\231t be put off. And if buying a car is one of them, know that we\\342\\200\\231re doing everything we can to keep you keep moving while continuing to put your health safety, and happiness first. Vehicle Stock# 2000948059\\360\\237\\223\\261 Want to instantly check this car\\342\\200\\231s availability? Call us at  334-758-9176Just text that stock number to 855-976-4304 or head to http://www.carvanaauto.com/6965441-74502 and plug it into the search bar!Get PRE-QUALIFIED for your auto loan in 2 minutes - no hit to your credit:http://finance.carvanaauto.com/6965441-74502Looking for more cars like this one? We have 144 Chevrolet Silverado 1500 Crew Cab in stock for as low as $20990!Why buy with Carvana? We have one standard: the highest. Take a look at just some of the qualifications all of our cars must meet before we list them.150-POINT INSPECTION: We put each vehicle through a 150-point inspection so that you can be 100% confident in its quality and safety. See everything that goes into our inspections at:http://www.carvanaauto.com/6965441-74502NO REPORTED ACCIDENTS: We do not sell cars that have been in a reported accident or have a frame or structural damage.7 DAY TEST OWN MONEY BACK GUARANTEE: Every Carvana car comes with a 7-day money-back guarantee. Why? It takes more than 15-minutes to make a decision on your next car. Learn more about test owning at http://about.carvanaauto.comFLEXIBLE FINANCING, TRADE INS WELCOME: We\\342\\200\\231re all about real-time financing without the middle man. Need financing? Pick a combination of down and monthly payments that work for you. Have a trade-in? We\\342\\200\\231ll give you a value in 2 minutes. Check out everything about our financing at:http://finance.carvanaauto.com/6965441-74502COST SAVINGS: Carvana's business model has fewer expenses and no bloated fees compared to your local dealership. See how much we can save you at http://about.carvanaauto.comPREMIUM DETAIL: We go the extra mile so that your car is looking as good as new. There are a lot of specifics that we won\\342\\200\\231t list here (we wash, clean, buff, paint, polish, wax, seal), but trust us that when your car arrives, it\\342\\200\\231s going to look sweet.Vehicle Info for Stock# 2000948059Trim: LT Pickup 4D 5 3/4 ft pickupMileage: 19k milesExterior Color: RedInterior Color: BLACKEngine: EcoTec3 5.3L V8 355hp 383ft. lbs.Drive: Two Wheel DriveTransmission: VIN: 3GCPWCED5LG130317Dealer Disclosure: Price excludes tax, title, and registration (which we handle for you).Disclaimer: You agree that by providing your phone number, Carvana, or Carvana\\342\\200\\231s authorized representatives*, may call and/or send text messages (including by using equipment to automatically dial telephone numbers) about your interest in a purchase, for marketing/sales purposes, or for any other servicing or informational purpose related to your account. You do not have to consent to receiving calls or texts to purchase from Carvana. While every reasonable effort is made to ensure the accuracy of the information for this Chevrolet Silverado 1500 Crew Cab, we are not responsible for any errors or omissions contained in this ad. Please verify any information in question with Carvana at 334-758-9176*Including, but not limited to, Bridgecrest Credit Company, GO Financial and SilverRock Automotive.*Chevrolet* *Silverado* *1500* *Crew* *Cab* *Chevy* *Chevrolet* *Silverado* *1500* *Crew* *Cab* *HD* *Crew* *Cab* *LS* *Pickup* *Chevrolet* *Silverado* *1500* *Crew* *Cab* *LS* *Chevrolet* *Silverado* *1500* *Crew* *Cab* *LT* *Chevrolet* *Silverado* *1500* *Crew* *Cab* *LTZ* *Chevrolet* *Silverado* *1500* *Crew* *Cab* *LT1* *Chevrolet* *Silverado* *1500* *Crew* *Cab* *Crew* *Cab* *Chevrolet* *Silverado* *1500* *Crew* *Cab* *XtraCab* *Chevrolet* *Silverado* *1500* *Crew* *Cab* *2500HD* *Classic* *Pick* *up* 2022  2021  2020  2019  2018  2017  2016  2015  2014  2013  2012  2011  2010  2009  2008  2007  2006  2005  2004  2003  2002  2001  2000   22  21    19  18  17  16  15  14  13  12  11  10  09  08  07  06  05  04  03  02  01  00                                                                                                                                                            \n",
       "31 Carvana is the safer way to buy a car During these uncertain times, Carvana is dedicated to ensuring safety for all of our customers. In addition to our 100% online shopping and selling experience that allows all customers to buy and trade their cars without ever leaving the safety of their house, we\\342\\200\\231re providing touchless delivery that make all aspects of our process even safer. Now, you can get the car you want, and trade in your old one, while avoiding person-to-person contact with our friendly advocates. There are some things that can\\342\\200\\231t be put off. And if buying a car is one of them, know that we\\342\\200\\231re doing everything we can to keep you keep moving while continuing to put your health safety, and happiness first. Vehicle Stock# 2000905180\\360\\237\\223\\261 Want to instantly check this car\\342\\200\\231s availability? Call us at  334-758-9176Just text that stock number to 855-976-4304 or head to http://www.carvanaauto.com/6964121-74502 and plug it into the search bar!Get PRE-QUALIFIED for your auto loan in 2 minutes - no hit to your credit:http://finance.carvanaauto.com/6964121-74502Looking for more cars like this one? We have 24 Toyota Tundra Double Cab in stock for as low as $23990!Why buy with Carvana? We have one standard: the highest. Take a look at just some of the qualifications all of our cars must meet before we list them.150-POINT INSPECTION: We put each vehicle through a 150-point inspection so that you can be 100% confident in its quality and safety. See everything that goes into our inspections at:http://www.carvanaauto.com/6964121-74502NO REPORTED ACCIDENTS: We do not sell cars that have been in a reported accident or have a frame or structural damage.7 DAY TEST OWN MONEY BACK GUARANTEE: Every Carvana car comes with a 7-day money-back guarantee. Why? It takes more than 15-minutes to make a decision on your next car. Learn more about test owning at http://about.carvanaauto.comFLEXIBLE FINANCING, TRADE INS WELCOME: We\\342\\200\\231re all about real-time financing without the middle man. Need financing? Pick a combination of down and monthly payments that work for you. Have a trade-in? We\\342\\200\\231ll give you a value in 2 minutes. Check out everything about our financing at:http://finance.carvanaauto.com/6964121-74502COST SAVINGS: Carvana's business model has fewer expenses and no bloated fees compared to your local dealership. See how much we can save you at http://about.carvanaauto.comPREMIUM DETAIL: We go the extra mile so that your car is looking as good as new. There are a lot of specifics that we won\\342\\200\\231t list here (we wash, clean, buff, paint, polish, wax, seal), but trust us that when your car arrives, it\\342\\200\\231s going to look sweet.Vehicle Info for Stock# 2000905180Trim: SR Pickup 4D 6 1/2 ft pickupMileage: 41k milesExterior Color: RedInterior Color: GRAYEngine: 4.6L V8 310hp 327ft. lbs.Drive: Two Wheel DriveTransmission: VIN: 5TFRM5F17HX120972Dealer Disclosure: Price excludes tax, title, and registration (which we handle for you).Disclaimer: You agree that by providing your phone number, Carvana, or Carvana\\342\\200\\231s authorized representatives*, may call and/or send text messages (including by using equipment to automatically dial telephone numbers) about your interest in a purchase, for marketing/sales purposes, or for any other servicing or informational purpose related to your account. You do not have to consent to receiving calls or texts to purchase from Carvana. While every reasonable effort is made to ensure the accuracy of the information for this Toyota Tundra Double Cab, we are not responsible for any errors or omissions contained in this ad. Please verify any information in question with Carvana at 334-758-9176*Including, but not limited to, Bridgecrest Credit Company, GO Financial and SilverRock Automotive.*Toyota* *Tundra* *Double* *Cab* *2WD* *Truck* *Toyota* *Tundra* *Double* *Cab* *4WD* *Toyota* *Tundra* *Double* *Cab* *Access* *Cab* *Limited* *Toyota* *Tundra* *Double* *Cab* *Access* *Cab* *SR5* *Toyota* *Tundra* *Double* *Cab* *CrewMax* *Limited* *Toyota* *Tundra* *Double* *Cab* *CrewMax* *Toyota* *Tundra* *Double* *Cab* *CrewMax* *SR5* *Toyota* *Tundra* *Double* *Cab* *Double* *Cab* *Toyota* *Tundra* *Double* *Cab* *Double* *Cab* *Limited* *Toyota* *Tundra* *Double* *Cab* *Double* *Cab* *SR5* *Toyota* *Tundra* *Double* *Cab* *Regular* *Cab* *Toyota* *Tundra* *Double* *Cab* *SR* *Toyota* *Tundra* *Double* *Cab* *Platinum* *Toyota* *Tundra* *Double* *Cab* *electric* *hybrid* *Pickup* 2022  2021  2020  2019  2018  2017  2016  2015  2014  2013  2012  2011  2010  2009  2008  2007  2006  2005  2004  2003  2002  2001  2000   22  21    19  18  17  16  15  14  13  12  11  10  09  08  07  06  05  04  03  02  01  00\n",
       "32 2013 F-150 XLT V6 4 Door. Good condition. Leveling kit. New Tires.                                                                                                                                                                                                                                                                                                                                                                                                                                                                                                                                                                                                                                                                                                                                                                                                                                                                                                                                                                                                                                                                                                                                                                                                                                                                                                                                                                                                                                                                                                                                                                                                                                                                                                                                                                                                                                                                                                                                                                                                                                                                                                                                                                                                                                                                                                                                                                                                                                                                                                                                                                                                                                                                                                                                                                                                                                                                                                                                                                                                                                                                                                                                                                                                                                                                                                                                                                                                                                                                                                                                                                                                                                                                                                                                                                                                                                                                                                                                                                                                                                                                                                                                                                                                                                                                                                                                                                                                                                                                                                                                                                                                                                                                                                                                                                                                                                                                                                       \n",
       "33 Carvana is the safer way to buy a car During these uncertain times, Carvana is dedicated to ensuring safety for all of our customers. In addition to our 100% online shopping and selling experience that allows all customers to buy and trade their cars without ever leaving the safety of their house, we\\342\\200\\231re providing touchless delivery that make all aspects of our process even safer. Now, you can get the car you want, and trade in your old one, while avoiding person-to-person contact with our friendly advocates. There are some things that can\\342\\200\\231t be put off. And if buying a car is one of them, know that we\\342\\200\\231re doing everything we can to keep you keep moving while continuing to put your health safety, and happiness first. Vehicle Stock# 2000839840\\360\\237\\223\\261 Want to instantly check this car\\342\\200\\231s availability? Call us at  334-758-9176Just text that stock number to 855-976-4304 or head to http://www.carvanaauto.com/7164202-74502 and plug it into the search bar!Get PRE-QUALIFIED for your auto loan in 2 minutes - no hit to your credit:http://finance.carvanaauto.com/7164202-74502Looking for more cars like this one? We have 1 GMC Sierra 2500 HD Extended Cab in stock for as low as $27990!Why buy with Carvana? We have one standard: the highest. Take a look at just some of the qualifications all of our cars must meet before we list them.150-POINT INSPECTION: We put each vehicle through a 150-point inspection so that you can be 100% confident in its quality and safety. See everything that goes into our inspections at:http://www.carvanaauto.com/7164202-74502NO REPORTED ACCIDENTS: We do not sell cars that have been in a reported accident or have a frame or structural damage.7 DAY TEST OWN MONEY BACK GUARANTEE: Every Carvana car comes with a 7-day money-back guarantee. Why? It takes more than 15-minutes to make a decision on your next car. Learn more about test owning at http://about.carvanaauto.comFLEXIBLE FINANCING, TRADE INS WELCOME: We\\342\\200\\231re all about real-time financing without the middle man. Need financing? Pick a combination of down and monthly payments that work for you. Have a trade-in? We\\342\\200\\231ll give you a value in 2 minutes. Check out everything about our financing at:http://finance.carvanaauto.com/7164202-74502COST SAVINGS: Carvana's business model has fewer expenses and no bloated fees compared to your local dealership. See how much we can save you at http://about.carvanaauto.comPREMIUM DETAIL: We go the extra mile so that your car is looking as good as new. There are a lot of specifics that we won\\342\\200\\231t list here (we wash, clean, buff, paint, polish, wax, seal), but trust us that when your car arrives, it\\342\\200\\231s going to look sweet.Vehicle Info for Stock# 2000839840Trim: SLE Pickup 4D 6 1/2 ft pickupMileage: 68k milesExterior Color: BlackInterior Color: BLACKEngine: 6.0L V8 360hp 380ft. lbs.Drive: 4wdTransmission: Automatic, 6-Spd HD w/OverdriveVIN: 1GT220CG8CZ231238Dealer Disclosure: Price excludes tax, title, and registration (which we handle for you).Disclaimer: You agree that by providing your phone number, Carvana, or Carvana\\342\\200\\231s authorized representatives*, may call and/or send text messages (including by using equipment to automatically dial telephone numbers) about your interest in a purchase, for marketing/sales purposes, or for any other servicing or informational purpose related to your account. You do not have to consent to receiving calls or texts to purchase from Carvana. While every reasonable effort is made to ensure the accuracy of the information for this GMC Sierra 2500 HD Extended Cab, we are not responsible for any errors or omissions contained in this ad. Please verify any information in question with Carvana at 334-758-9176*Including, but not limited to, Bridgecrest Credit Company, GO Financial and SilverRock Automotive.*GMC* *Sierra* *2500* *HD* *Extended* *Cab* *Base* *GMC* *Sierra* *2500* *HD* *Extended* *Cab* *SLE* *GMC* *Sierra* *2500* *HD* *Extended* *Cab* *SLT* *GMC* *Sierra* *2500* *HD* *Extended* *Cab* *Denali* *GMC* *Sierra* *2500* *HD* *Extended* *Cab* *Work* *Truck* *4x2* *GMC* *Sierra* *2500* *HD* *Extended* *Cab* *4x4* *Crew* *Cab* *GMC* *Sierra* *2500* *HD* *Extended* *Cab* *Regular* *Cab* *Extended* *Cab* *Truck* 2022  2021  2020  2019  2018  2017  2016  2015  2014  2013  2012  2011  2010  2009  2008  2007  2006  2005  2004  2003  2002  2001  2000   22  21    19  18  17  16  15  14  13  12  11  10  09  08  07  06  05  04  03  02  01  00                                                                                                                                                                                                                                                   \n",
       "   county state lat    long     posting_date            \n",
       "28 NA     al    32.590 -85.4800 2021-05-04T12:31:18-0500\n",
       "29 NA     al    32.590 -85.4800 2021-05-04T12:31:08-0500\n",
       "30 NA     al    32.590 -85.4800 2021-05-04T12:31:25-0500\n",
       "31 NA     al    32.590 -85.4800 2021-05-04T10:41:31-0500\n",
       "32 NA     al    32.592 -85.5189 2021-05-03T14:02:03-0500\n",
       "33 NA     al    32.590 -85.4800 2021-05-03T13:41:25-0500"
      ]
     },
     "metadata": {},
     "output_type": "display_data"
    }
   ],
   "source": [
    "head(goodyearsDF)"
   ]
  },
  {
   "cell_type": "code",
   "execution_count": 49,
   "id": "878f868c-f89b-4392-af43-c9f9939a4b43",
   "metadata": {},
   "outputs": [],
   "source": [
    "missingyearsDF <- subset(myDF, is.na(myDF$year)) "
   ]
  },
  {
   "cell_type": "code",
   "execution_count": 50,
   "id": "7805eb36-c00f-40da-b1c1-6601427f5cb8",
   "metadata": {},
   "outputs": [
    {
     "data": {
      "text/plain": [
       "  id        \n",
       "1 7222695916\n",
       "2 7218891961\n",
       "3 7221797935\n",
       "4 7222270760\n",
       "5 7210384030\n",
       "6 7222379453\n",
       "  url                                                                                         \n",
       "1 https://prescott.craigslist.org/cto/d/prescott-2010-ford-ranger/7222695916.html             \n",
       "2 https://fayar.craigslist.org/ctd/d/bentonville-2017-hyundai-elantra-se/7218891961.html      \n",
       "3 https://keys.craigslist.org/cto/d/summerland-key-2005-excursion/7221797935.html             \n",
       "4 https://worcester.craigslist.org/cto/d/west-brookfield-2002-honda-odyssey-ex/7222270760.html\n",
       "5 https://greensboro.craigslist.org/cto/d/trinity-1965-chevrolet-truck/7210384030.html        \n",
       "6 https://hudsonvalley.craigslist.org/cto/d/westtown-2007-ford-150/7222379453.html            \n",
       "  region                 region_url                          price year\n",
       "1 prescott               https://prescott.craigslist.org      6000 NA  \n",
       "2 fayetteville           https://fayar.craigslist.org        11900 NA  \n",
       "3 florida keys           https://keys.craigslist.org         21000 NA  \n",
       "4 worcester / central MA https://worcester.craigslist.org     1500 NA  \n",
       "5 greensboro             https://greensboro.craigslist.org    4900 NA  \n",
       "6 hudson valley          https://hudsonvalley.craigslist.org  1600 NA  \n",
       "  manufacturer model condition cylinders ... size type paint_color image_url\n",
       "1                                        ...                                \n",
       "2                                        ...                                \n",
       "3                                        ...                                \n",
       "4                                        ...                                \n",
       "5                                        ...                                \n",
       "6                                        ...                                \n",
       "  description county state lat long posting_date\n",
       "1             NA     az    NA  NA               \n",
       "2             NA     ar    NA  NA               \n",
       "3             NA     fl    NA  NA               \n",
       "4             NA     ma    NA  NA               \n",
       "5             NA     nc    NA  NA               \n",
       "6             NA     ny    NA  NA               "
      ]
     },
     "metadata": {},
     "output_type": "display_data"
    }
   ],
   "source": [
    "head(missingyearsDF)"
   ]
  },
  {
   "cell_type": "markdown",
   "id": "27e9fb47-012b-42a3-954c-2c02efec1af8",
   "metadata": {},
   "source": [
    "2a. less than 1 percent of the values in the Year are Ns\n",
    "0.28% are NA values in the year column\n",
    "\n",
    "2b. For the Year column, 42575 rows have values, but the original data set has 426880 rows so about 1.2k rows had NA values\n",
    "\n",
    "2c. done."
   ]
  },
  {
   "cell_type": "markdown",
   "id": "8e586edd-ff26-4ce2-8f6b-2424b26f2929",
   "metadata": {},
   "source": [
    "## Question 3"
   ]
  },
  {
   "cell_type": "code",
   "execution_count": 51,
   "id": "bbe0f40d-9655-4653-9ca8-886bdb61cb91",
   "metadata": {},
   "outputs": [
    {
     "data": {
      "text/plain": [
       "   type        price     \n",
       "1              204624.532\n",
       "2  SUV          34434.048\n",
       "3  bus          14105.617\n",
       "4  convertible  19999.774\n",
       "5  coupe        21937.563\n",
       "6  hatchback    14384.513\n",
       "7  mini-van      9234.088\n",
       "8  offroad      15813.094\n",
       "9  other        24743.588\n",
       "10 pickup      144751.640\n",
       "11 sedan        15950.185\n",
       "12 truck        29383.578\n",
       "13 van          17487.597\n",
       "14 wagon        13273.910"
      ]
     },
     "metadata": {},
     "output_type": "display_data"
    }
   ],
   "source": [
    " aggregate(price ~ type, data = myDF, FUN = mean)"
   ]
  },
  {
   "cell_type": "code",
   "execution_count": 52,
   "id": "fd6520a1-e438-4449-b66d-6aea4f8fe1b7",
   "metadata": {},
   "outputs": [
    {
     "data": {
      "text/plain": [
       "   type        year    \n",
       "1              2008.578\n",
       "2  SUV         2012.604\n",
       "3  bus         2006.870\n",
       "4  convertible 2002.735\n",
       "5  coupe       2008.160\n",
       "6  hatchback   2013.980\n",
       "7  mini-van    2010.221\n",
       "9  other       2014.187\n",
       "10 pickup      2012.599\n",
       "11 sedan       2012.354\n",
       "12 truck       2011.024\n",
       "13 van         2012.382\n",
       "14 wagon       2012.226"
      ]
     },
     "metadata": {},
     "output_type": "display_data"
    }
   ],
   "source": [
    " subset(aggregate(year ~ type, data = myDF, FUN = mean), year > 2002)"
   ]
  },
  {
   "cell_type": "code",
   "execution_count": 53,
   "id": "e793fdac-7d9b-4c7d-91fb-2329faa28559",
   "metadata": {},
   "outputs": [
    {
     "data": {
      "text/plain": [
       "\n",
       " 1900  1901  1902  1903  1905  1909  1910  1913  1915  1916  1918  1920  1921 \n",
       "   12     3     1    12     1     1     2     2     1     2     1     2     2 \n",
       " 1922  1923  1924  1925  1926  1927  1928  1929  1930  1931  1932  1933  1934 \n",
       "    3    36     9     8    16    37    38    57    68    58    57    25    44 \n",
       " 1935  1936  1937  1938  1939  1940  1941  1942  1943  1944  1945  1946  1947 \n",
       "   23    43    70    38    54    81    67    15     1     3     2    58    71 \n",
       " 1948  1949  1950  1951  1952  1953  1954  1955  1956  1957  1958  1959  1960 \n",
       "  100    89   106    98   110   105   100   226   160   174    73    93   120 \n",
       " 1961  1962  1963  1964  1965  1966  1967  1968  1969  1970  1971  1972  1973 \n",
       "   82   138   234   270   365   424   357   425   409   345   312   409   334 \n",
       " 1974  1975  1976  1977  1978  1979  1980  1981  1982  1983  1984  1985  1986 \n",
       "  280   204   242   273   345   387   272   214   217   257   387   469   523 \n",
       " 1987  1988  1989  1990  1991  1992  1993  1994  1995  1996  1997  1998  1999 \n",
       "  532   528   571   599   608   626   712   968  1246  1302  1724  1988  3094 \n",
       " 2000  2001  2002  2003  2004  2005  2006  2007  2008  2009  2010  2011  2012 \n",
       " 3572  4443  5587  7151  8971 10622 12763 14873 17150 12185 15829 20341 23898 \n",
       " 2013  2014  2015  2016  2017  2018  2019  2020  2021  2022 \n",
       "30794 30283 31538 30434 36420 36369 25375 19298  2396   133 "
      ]
     },
     "metadata": {},
     "output_type": "display_data"
    }
   ],
   "source": [
    "table(myDF$year)"
   ]
  },
  {
   "cell_type": "code",
   "execution_count": 54,
   "id": "3920ce3f-8e24-4b56-84cc-be5117f15848",
   "metadata": {},
   "outputs": [
    {
     "data": {
      "text/plain": [
       "2017 \n",
       " 109 "
      ]
     },
     "metadata": {},
     "output_type": "display_data"
    }
   ],
   "source": [
    "which.max(table(myDF$year)) #109th entry, 2017"
   ]
  },
  {
   "cell_type": "code",
   "execution_count": 55,
   "id": "a5fe7ca8-f728-4cad-8a08-8ea7519ce519",
   "metadata": {},
   "outputs": [
    {
     "data": {
      "text/plain": [
       "[1] 114"
      ]
     },
     "metadata": {},
     "output_type": "display_data"
    }
   ],
   "source": [
    "length(table(myDF$year))"
   ]
  },
  {
   "cell_type": "code",
   "execution_count": 56,
   "id": "fad0766b-5260-4405-9c32-1e2332ba7b95",
   "metadata": {},
   "outputs": [
    {
     "data": {
      "text/plain": [
       " 2017 \n",
       "36420 "
      ]
     },
     "metadata": {},
     "output_type": "display_data"
    }
   ],
   "source": [
    "table(myDF$year)[which.max(table(myDF$year))]"
   ]
  },
  {
   "cell_type": "markdown",
   "id": "47c6229f-35f7-400c-8366-c442baa5cf47",
   "metadata": {},
   "source": [
    "3a. the mean price of vehicles by year during the last 20 years:\n",
    "2002 - 5587\n",
    "2003 - 7151\n",
    "2004 - 8971\n",
    "2005 - 10622\n",
    "2006 - 12763\n",
    "2007 - 14873\n",
    "2008 - 17150\n",
    "2009 - 12185\n",
    "2010 - 15829\n",
    "2011 - 20341 \n",
    "2012 - 23898\n",
    "2013 - 30794 \n",
    "2014 - 30283 \n",
    "2015 - 31538\n",
    "2016 - 30434 \n",
    "2017 - 36230\n",
    "2018 - 36369 \n",
    "2019 - 25375\n",
    "2020 - 19298\n",
    "2021 - 2396\n",
    "2022 - 133\n",
    "3b. 2017 is the year of vehicle that appears the most frequently in our data."
   ]
  },
  {
   "cell_type": "markdown",
   "id": "da22f29c-d245-4d2b-9fc1-ca14cb6087d9",
   "metadata": {},
   "source": [
    "## Question 4"
   ]
  },
  {
   "cell_type": "code",
   "execution_count": 57,
   "id": "eeb36b1b-fe36-4069-b28c-f31ac9404c9e",
   "metadata": {},
   "outputs": [
    {
     "name": "stdout",
     "output_type": "stream",
     "text": [
      "'data.frame':\t426880 obs. of  26 variables:\n",
      " $ id          : num  7.22e+09 7.22e+09 7.22e+09 7.22e+09 7.21e+09 ...\n",
      " $ url         : chr  \"https://prescott.craigslist.org/cto/d/prescott-2010-ford-ranger/7222695916.html\" \"https://fayar.craigslist.org/ctd/d/bentonville-2017-hyundai-elantra-se/7218891961.html\" \"https://keys.craigslist.org/cto/d/summerland-key-2005-excursion/7221797935.html\" \"https://worcester.craigslist.org/cto/d/west-brookfield-2002-honda-odyssey-ex/7222270760.html\" ...\n",
      " $ region      : chr  \"prescott\" \"fayetteville\" \"florida keys\" \"worcester / central MA\" ...\n",
      " $ region_url  : chr  \"https://prescott.craigslist.org\" \"https://fayar.craigslist.org\" \"https://keys.craigslist.org\" \"https://worcester.craigslist.org\" ...\n",
      " $ price       : num  6000 11900 21000 1500 4900 ...\n",
      " $ year        : int  NA NA NA NA NA NA NA NA NA NA ...\n",
      " $ manufacturer: chr  \"\" \"\" \"\" \"\" ...\n",
      " $ model       : chr  \"\" \"\" \"\" \"\" ...\n",
      " $ condition   : chr  \"\" \"\" \"\" \"\" ...\n",
      " $ cylinders   : chr  \"\" \"\" \"\" \"\" ...\n",
      " $ fuel        : chr  \"\" \"\" \"\" \"\" ...\n",
      " $ odometer    : int  NA NA NA NA NA NA NA NA NA NA ...\n",
      " $ title_status: chr  \"\" \"\" \"\" \"\" ...\n",
      " $ transmission: chr  \"\" \"\" \"\" \"\" ...\n",
      " $ VIN         : chr  \"\" \"\" \"\" \"\" ...\n",
      " $ drive       : chr  \"\" \"\" \"\" \"\" ...\n",
      " $ size        : chr  \"\" \"\" \"\" \"\" ...\n",
      " $ type        : chr  \"\" \"\" \"\" \"\" ...\n",
      " $ paint_color : chr  \"\" \"\" \"\" \"\" ...\n",
      " $ image_url   : chr  \"\" \"\" \"\" \"\" ...\n",
      " $ description : chr  \"\" \"\" \"\" \"\" ...\n",
      " $ county      : logi  NA NA NA NA NA NA ...\n",
      " $ state       : chr  \"az\" \"ar\" \"fl\" \"ma\" ...\n",
      " $ lat         : num  NA NA NA NA NA NA NA NA NA NA ...\n",
      " $ long        : num  NA NA NA NA NA NA NA NA NA NA ...\n",
      " $ posting_date: chr  \"\" \"\" \"\" \"\" ...\n"
     ]
    }
   ],
   "source": [
    "str(myDF)"
   ]
  },
  {
   "cell_type": "code",
   "execution_count": 58,
   "id": "8cffc767-d1c8-4d64-b7dc-f0d2ee8a80d1",
   "metadata": {},
   "outputs": [
    {
     "data": {
      "text/plain": [
       "\n",
       "  https://omaha.craigslist.org  https://fresno.craigslist.org \n",
       "                          2982                           2983 \n",
       "https://orlando.craigslist.org  https://eugene.craigslist.org \n",
       "                          2983                           2985 \n",
       "https://spokane.craigslist.org \n",
       "                          2988 "
      ]
     },
     "metadata": {},
     "output_type": "display_data"
    }
   ],
   "source": [
    "tail(sort(table(myDF$region_url)), n = 5)"
   ]
  },
  {
   "cell_type": "code",
   "execution_count": 59,
   "id": "b7e792a0-e04b-4260-9d7d-b499ed78b9dd",
   "metadata": {},
   "outputs": [
    {
     "data": {
      "text/plain": [
       "\n",
       "   tx    fl    ca \n",
       "22945 28511 50614 "
      ]
     },
     "metadata": {},
     "output_type": "display_data"
    }
   ],
   "source": [
    "tail(sort(table(myDF$state)), n = 3)"
   ]
  },
  {
   "cell_type": "markdown",
   "id": "0d552245-b4d6-474a-9cc9-fa7b8e674d55",
   "metadata": {},
   "source": [
    "4a. The most popular value for region_url is spokane.craigslistorg\n",
    "\n",
    "4b. The three most popular states are Texas, Florida, and California."
   ]
  },
  {
   "cell_type": "markdown",
   "id": "88c9cdac-3e92-498f-83fa-e089bfc44ac8",
   "metadata": {},
   "source": [
    "## Question 5"
   ]
  },
  {
   "cell_type": "code",
   "execution_count": 4,
   "id": "d370d7c9-06db-42b9-b75f-240481a5c491",
   "metadata": {},
   "outputs": [],
   "source": [
    "myyears <- subset(aggregate(price ~ year, data = myDF, FUN = mean), year >2002)$year"
   ]
  },
  {
   "cell_type": "code",
   "execution_count": 5,
   "id": "455e3d03-292e-4552-bfdb-05c502a792cb",
   "metadata": {},
   "outputs": [],
   "source": [
    "myprices <- subset(aggregate(price ~ year, data = myDF, FUN = mean), year >2002)$price"
   ]
  },
  {
   "cell_type": "code",
   "execution_count": 6,
   "id": "20dcfc6c-a623-4f59-9d4c-0980be6ca8b5",
   "metadata": {},
   "outputs": [
    {
     "data": {
      "image/png": "[encoded data removed]",
      "text/plain": [
       "plot without title"
      ]
     },
     "metadata": {
      "image/png": {
       "height": 420,
       "width": 420
      }
     },
     "output_type": "display_data"
    }
   ],
   "source": [
    "plot(myyears, myprices)"
   ]
  },
  {
   "cell_type": "code",
   "execution_count": 7,
   "id": "17e671bc-6d55-41b8-a18c-23e13173a0d3",
   "metadata": {},
   "outputs": [
    {
     "data": {
      "image/png": "[encoded data removed]",
      "text/plain": [
       "plot without title"
      ]
     },
     "metadata": {
      "image/png": {
       "height": 420,
       "width": 420
      }
     },
     "output_type": "display_data"
    }
   ],
   "source": [
    "plot(myyears[myprices<50000], myprices[myprices<50000])\n",
    "#we threw out the 4 years of data (06, 07, 20,21) with avg car values more than 50000"
   ]
  },
  {
   "cell_type": "code",
   "execution_count": 8,
   "id": "7bd9a76c-0c97-4c72-a544-4d76a071a149",
   "metadata": {},
   "outputs": [
    {
     "data": {
      "text/html": [
       "<style>\n",
       ".list-inline {list-style: none; margin:0; padding: 0}\n",
       ".list-inline>li {display: inline-block}\n",
       ".list-inline>li:not(:last-child)::after {content: \"\\00b7\"; padding: 0 .5ex}\n",
       "</style>\n",
       "<ol class=list-inline><li>6000</li><li>11900</li><li>21000</li><li>1500</li><li>4900</li><li>1600</li><li>1000</li><li>15995</li><li>5000</li><li>3000</li><li>0</li><li>0</li><li>0</li><li>0</li><li>0</li><li>13995</li><li>24999</li><li>21850</li><li>26850</li><li>11999</li><li>24999</li><li>21850</li><li>26850</li><li>11999</li><li>24999</li><li>21850</li><li>500</li><li>33590</li><li>22590</li><li>39590</li><li>30990</li><li>15000</li><li>27990</li><li>34590</li><li>35000</li><li>29990</li><li>38590</li><li>4500</li><li>32990</li><li>24590</li><li>30990</li><li>27990</li><li>37990</li><li>33590</li><li>30990</li><li>27990</li><li>0</li><li>34590</li><li>30590</li><li>32990</li><li>38990</li><li>22590</li><li>31590</li><li>27990</li><li>31590</li><li>19900</li><li>16590</li><li>26990</li><li>25590</li><li>14000</li><li>28590</li><li>24590</li><li>25990</li><li>34990</li><li>27990</li><li>22500</li><li>32990</li><li>31990</li><li>29990</li><li>23990</li><li>22990</li><li>26990</li><li>33990</li><li>15000</li><li>26590</li><li>18590</li><li>29590</li><li>21590</li><li>22590</li><li>33990</li><li>29990</li><li>37590</li><li>25990</li><li>32990</li><li>28990</li><li>34990</li><li>3000</li><li>22590</li><li>36990</li><li>31990</li><li>28590</li><li>31990</li><li>19990</li><li>29590</li><li>29990</li><li>2100</li><li>80</li><li>15990</li><li>20590</li><li>29590</li></ol>\n"
      ],
      "text/latex": [
       "\\begin{enumerate*}\n",
       "\\item 6000\n",
       "\\item 11900\n",
       "\\item 21000\n",
       "\\item 1500\n",
       "\\item 4900\n",
       "\\item 1600\n",
       "\\item 1000\n",
       "\\item 15995\n",
       "\\item 5000\n",
       "\\item 3000\n",
       "\\item 0\n",
       "\\item 0\n",
       "\\item 0\n",
       "\\item 0\n",
       "\\item 0\n",
       "\\item 13995\n",
       "\\item 24999\n",
       "\\item 21850\n",
       "\\item 26850\n",
       "\\item 11999\n",
       "\\item 24999\n",
       "\\item 21850\n",
       "\\item 26850\n",
       "\\item 11999\n",
       "\\item 24999\n",
       "\\item 21850\n",
       "\\item 500\n",
       "\\item 33590\n",
       "\\item 22590\n",
       "\\item 39590\n",
       "\\item 30990\n",
       "\\item 15000\n",
       "\\item 27990\n",
       "\\item 34590\n",
       "\\item 35000\n",
       "\\item 29990\n",
       "\\item 38590\n",
       "\\item 4500\n",
       "\\item 32990\n",
       "\\item 24590\n",
       "\\item 30990\n",
       "\\item 27990\n",
       "\\item 37990\n",
       "\\item 33590\n",
       "\\item 30990\n",
       "\\item 27990\n",
       "\\item 0\n",
       "\\item 34590\n",
       "\\item 30590\n",
       "\\item 32990\n",
       "\\item 38990\n",
       "\\item 22590\n",
       "\\item 31590\n",
       "\\item 27990\n",
       "\\item 31590\n",
       "\\item 19900\n",
       "\\item 16590\n",
       "\\item 26990\n",
       "\\item 25590\n",
       "\\item 14000\n",
       "\\item 28590\n",
       "\\item 24590\n",
       "\\item 25990\n",
       "\\item 34990\n",
       "\\item 27990\n",
       "\\item 22500\n",
       "\\item 32990\n",
       "\\item 31990\n",
       "\\item 29990\n",
       "\\item 23990\n",
       "\\item 22990\n",
       "\\item 26990\n",
       "\\item 33990\n",
       "\\item 15000\n",
       "\\item 26590\n",
       "\\item 18590\n",
       "\\item 29590\n",
       "\\item 21590\n",
       "\\item 22590\n",
       "\\item 33990\n",
       "\\item 29990\n",
       "\\item 37590\n",
       "\\item 25990\n",
       "\\item 32990\n",
       "\\item 28990\n",
       "\\item 34990\n",
       "\\item 3000\n",
       "\\item 22590\n",
       "\\item 36990\n",
       "\\item 31990\n",
       "\\item 28590\n",
       "\\item 31990\n",
       "\\item 19990\n",
       "\\item 29590\n",
       "\\item 29990\n",
       "\\item 2100\n",
       "\\item 80\n",
       "\\item 15990\n",
       "\\item 20590\n",
       "\\item 29590\n",
       "\\end{enumerate*}\n"
      ],
      "text/markdown": [
       "1. 6000\n",
       "2. 11900\n",
       "3. 21000\n",
       "4. 1500\n",
       "5. 4900\n",
       "6. 1600\n",
       "7. 1000\n",
       "8. 15995\n",
       "9. 5000\n",
       "10. 3000\n",
       "11. 0\n",
       "12. 0\n",
       "13. 0\n",
       "14. 0\n",
       "15. 0\n",
       "16. 13995\n",
       "17. 24999\n",
       "18. 21850\n",
       "19. 26850\n",
       "20. 11999\n",
       "21. 24999\n",
       "22. 21850\n",
       "23. 26850\n",
       "24. 11999\n",
       "25. 24999\n",
       "26. 21850\n",
       "27. 500\n",
       "28. 33590\n",
       "29. 22590\n",
       "30. 39590\n",
       "31. 30990\n",
       "32. 15000\n",
       "33. 27990\n",
       "34. 34590\n",
       "35. 35000\n",
       "36. 29990\n",
       "37. 38590\n",
       "38. 4500\n",
       "39. 32990\n",
       "40. 24590\n",
       "41. 30990\n",
       "42. 27990\n",
       "43. 37990\n",
       "44. 33590\n",
       "45. 30990\n",
       "46. 27990\n",
       "47. 0\n",
       "48. 34590\n",
       "49. 30590\n",
       "50. 32990\n",
       "51. 38990\n",
       "52. 22590\n",
       "53. 31590\n",
       "54. 27990\n",
       "55. 31590\n",
       "56. 19900\n",
       "57. 16590\n",
       "58. 26990\n",
       "59. 25590\n",
       "60. 14000\n",
       "61. 28590\n",
       "62. 24590\n",
       "63. 25990\n",
       "64. 34990\n",
       "65. 27990\n",
       "66. 22500\n",
       "67. 32990\n",
       "68. 31990\n",
       "69. 29990\n",
       "70. 23990\n",
       "71. 22990\n",
       "72. 26990\n",
       "73. 33990\n",
       "74. 15000\n",
       "75. 26590\n",
       "76. 18590\n",
       "77. 29590\n",
       "78. 21590\n",
       "79. 22590\n",
       "80. 33990\n",
       "81. 29990\n",
       "82. 37590\n",
       "83. 25990\n",
       "84. 32990\n",
       "85. 28990\n",
       "86. 34990\n",
       "87. 3000\n",
       "88. 22590\n",
       "89. 36990\n",
       "90. 31990\n",
       "91. 28590\n",
       "92. 31990\n",
       "93. 19990\n",
       "94. 29590\n",
       "95. 29990\n",
       "96. 2100\n",
       "97. 80\n",
       "98. 15990\n",
       "99. 20590\n",
       "100. 29590\n",
       "\n",
       "\n"
      ],
      "text/plain": [
       "  [1]  6000 11900 21000  1500  4900  1600  1000 15995  5000  3000     0     0\n",
       " [13]     0     0     0 13995 24999 21850 26850 11999 24999 21850 26850 11999\n",
       " [25] 24999 21850   500 33590 22590 39590 30990 15000 27990 34590 35000 29990\n",
       " [37] 38590  4500 32990 24590 30990 27990 37990 33590 30990 27990     0 34590\n",
       " [49] 30590 32990 38990 22590 31590 27990 31590 19900 16590 26990 25590 14000\n",
       " [61] 28590 24590 25990 34990 27990 22500 32990 31990 29990 23990 22990 26990\n",
       " [73] 33990 15000 26590 18590 29590 21590 22590 33990 29990 37590 25990 32990\n",
       " [85] 28990 34990  3000 22590 36990 31990 28590 31990 19990 29590 29990  2100\n",
       " [97]    80 15990 20590 29590"
      ]
     },
     "metadata": {},
     "output_type": "display_data"
    }
   ],
   "source": [
    "head(myDF$price , n =100)"
   ]
  },
  {
   "cell_type": "code",
   "execution_count": 9,
   "id": "d4c7ff61-abff-4d05-bda2-2563e6dd305f",
   "metadata": {},
   "outputs": [
    {
     "data": {
      "image/png": "[encoded data removed]",
      "text/plain": [
       "plot without title"
      ]
     },
     "metadata": {
      "image/png": {
       "height": 420,
       "width": 420
      }
     },
     "output_type": "display_data"
    }
   ],
   "source": [
    "boxplot(myyears[myprices<50000], myprices[myprices<50000])"
   ]
  },
  {
   "cell_type": "markdown",
   "id": "9fbf00fb-2418-460f-ae94-2a32b0c28952",
   "metadata": {},
   "source": [
    "Patterns present in the data:\n",
    "\n",
    "The graphs that depict the average price of vehicles by year on Craigslist have an overall upward trend, suggesting that the average prices of vehicles have been increasing over the years. However, there are a few points scattered throughout the graph where the prices deviate significantly from this upward trend. These points likely represent outliers or anomalies in the data, possibly due to erroneous listings or extremely high-priced vehicles that needed to be removed. These outliers may skew the average price data. Specifically, the point between 2005-2010 is significantly higher than the trend that other points are showing, maybe correlating to the housing crisis around then (unsure about this, maybe looking at more data could potentially show a correlation there).\n"
   ]
  },
  {
   "cell_type": "markdown",
   "id": "f76442d6-d02e-4f26-b9d6-c3183e1d6929",
   "metadata": {},
   "source": [
    "## Pledge\n",
    "\n",
    "By submitting this work I hereby pledge that this is my own, personal work. I've acknowledged in the designated place at the top of this file all sources that I used to complete said work, including but not limited to: online resources, books, and electronic communications. I've noted all collaboration with fellow students and/or TA's. I did not copy or plagiarize another's work.\n",
    "\n",
    "> As a Boilermaker pursuing academic excellence, I pledge to be honest and true in all that I do. Accountable together – We are Purdue."
   ]
  }
 ],
 "metadata": {
  "kernelspec": {
   "display_name": "seminar-r",
   "language": "R",
   "name": "seminar-r"
  },
  "language_info": {
   "codemirror_mode": "r",
   "file_extension": ".r",
   "mimetype": "text/x-r-source",
   "name": "R",
   "pygments_lexer": "r",
   "version": "4.3.1"
  }
 },
 "nbformat": 4,
 "nbformat_minor": 5
}
