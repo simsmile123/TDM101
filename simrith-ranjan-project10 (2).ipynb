{
 "cells": [
  {
   "cell_type": "markdown",
   "id": "be02a957-7133-4d02-818e-fedeb3cecb05",
   "metadata": {},
   "source": [
    "# Project 10 -- Simrith Ranjan"
   ]
  },
  {
   "cell_type": "markdown",
   "id": "a1228853-dd19-4ab2-89e0-0394d7d72de3",
   "metadata": {},
   "source": [
    "**TA Help:** N/A\n",
    "\n",
    "    \n",
    "**Collaboration:** N/A\n",
    " "
   ]
  },
  {
   "cell_type": "markdown",
   "id": "6180e742-8e39-4698-98ff-5b00c8cf8ea0",
   "metadata": {},
   "source": [
    "## Question 1"
   ]
  },
  {
   "cell_type": "code",
   "execution_count": 1,
   "id": "49445606-d363-41b4-b479-e319a9a84c01",
   "metadata": {},
   "outputs": [],
   "source": [
    "library(data.table)"
   ]
  },
  {
   "cell_type": "code",
   "execution_count": 2,
   "id": "7d311ed9-8f2e-48aa-a855-7aa92e82c325",
   "metadata": {},
   "outputs": [],
   "source": [
    "options(jupypter.rich_display = F)"
   ]
  },
  {
   "cell_type": "code",
   "execution_count": 3,
   "id": "4e75b3b9-3f21-426e-8c3b-c229bcab4e9a",
   "metadata": {},
   "outputs": [],
   "source": [
    "options(repr.matrix.max.cols = 30, repr.matrix.max.rows = 200)"
   ]
  },
  {
   "cell_type": "code",
   "execution_count": 4,
   "id": "f17b3044-4ae8-4625-9000-14c375d9531e",
   "metadata": {},
   "outputs": [],
   "source": [
    "orders <- fread(\"/anvil/projects/tdm/data/restaurant/orders.csv\")"
   ]
  },
  {
   "cell_type": "code",
   "execution_count": 5,
   "id": "c28c5a13-66d4-498c-9935-ff2086a4033a",
   "metadata": {
    "tags": []
   },
   "outputs": [],
   "source": [
    "vendors <- fread(\"/anvil/projects/tdm/data/restaurant/vendors.csv\")"
   ]
  },
  {
   "cell_type": "code",
   "execution_count": 6,
   "id": "9a312e43-0e36-49b8-af54-a458333c0a7d",
   "metadata": {},
   "outputs": [
    {
     "data": {
      "text/html": [
       "<table class=\"dataframe\">\n",
       "<caption>A data.table: 6 x 59</caption>\n",
       "<thead>\n",
       "\t<tr><th scope=col>id</th><th scope=col>authentication_id</th><th scope=col>latitude</th><th scope=col>longitude</th><th scope=col>vendor_category_en</th><th scope=col>vendor_category_id</th><th scope=col>delivery_charge</th><th scope=col>serving_distance</th><th scope=col>is_open</th><th scope=col>OpeningTime</th><th scope=col>OpeningTime2</th><th scope=col>prepration_time</th><th scope=col>commission</th><th scope=col>is_akeed_delivering</th><th scope=col>discount_percentage</th><th scope=col>...</th><th scope=col>saturday_from_time1</th><th scope=col>saturday_to_time1</th><th scope=col>saturday_from_time2</th><th scope=col>saturday_to_time2</th><th scope=col>primary_tags</th><th scope=col>open_close_flags</th><th scope=col>vendor_tag</th><th scope=col>vendor_tag_name</th><th scope=col>one_click_vendor</th><th scope=col>country_id</th><th scope=col>city_id</th><th scope=col>created_at</th><th scope=col>updated_at</th><th scope=col>device_type</th><th scope=col>display_orders</th></tr>\n",
       "\t<tr><th scope=col>&lt;int&gt;</th><th scope=col>&lt;dbl&gt;</th><th scope=col>&lt;dbl&gt;</th><th scope=col>&lt;dbl&gt;</th><th scope=col>&lt;chr&gt;</th><th scope=col>&lt;dbl&gt;</th><th scope=col>&lt;dbl&gt;</th><th scope=col>&lt;dbl&gt;</th><th scope=col>&lt;dbl&gt;</th><th scope=col>&lt;chr&gt;</th><th scope=col>&lt;chr&gt;</th><th scope=col>&lt;int&gt;</th><th scope=col>&lt;dbl&gt;</th><th scope=col>&lt;chr&gt;</th><th scope=col>&lt;dbl&gt;</th><th scope=col>...</th><th scope=col>&lt;chr&gt;</th><th scope=col>&lt;chr&gt;</th><th scope=col>&lt;chr&gt;</th><th scope=col>&lt;chr&gt;</th><th scope=col>&lt;chr&gt;</th><th scope=col>&lt;dbl&gt;</th><th scope=col>&lt;chr&gt;</th><th scope=col>&lt;chr&gt;</th><th scope=col>&lt;chr&gt;</th><th scope=col>&lt;dbl&gt;</th><th scope=col>&lt;dbl&gt;</th><th scope=col>&lt;dttm&gt;</th><th scope=col>&lt;dttm&gt;</th><th scope=col>&lt;int&gt;</th><th scope=col>&lt;int&gt;</th></tr>\n",
       "</thead>\n",
       "<tbody>\n",
       "\t<tr><td> 4</td><td>118597</td><td>-0.5885962</td><td>0.7544341</td><td>Restaurants</td><td>2</td><td>0.0</td><td> 6</td><td>1</td><td>11:00AM-11:30PM</td><td>-</td><td>15</td><td>0</td><td>Yes</td><td>0</td><td>...</td><td>00:00:00</td><td>00:30:00</td><td>10:00:00</td><td>23:59:00</td><td>{\"\"primary_tags\"\":\"\"4\"\"} </td><td>1</td><td>2,4,5,8,91,22,12,24,16,23</td><td>Arabic,Breakfast,Burgers,Desserts,Free Delivery,Grills,Lebanese,Salads,Sandwiches,Shawarma</td><td>Y</td><td>1</td><td>1</td><td>2018-01-30 14:42:04</td><td>2020-04-07 15:12:43</td><td>3</td><td>1</td></tr>\n",
       "\t<tr><td>13</td><td>118608</td><td>-0.4716538</td><td>0.7444705</td><td>Restaurants</td><td>2</td><td>0.7</td><td> 5</td><td>1</td><td>08:30AM-10:30PM</td><td>-</td><td>14</td><td>0</td><td>Yes</td><td>0</td><td>...</td><td>00:00:00</td><td>01:30:00</td><td>08:00:00</td><td>23:59:00</td><td>{\"\"primary_tags\"\":\"\"7\"\"} </td><td>1</td><td>4,41,51,34,27,15,24,16,28</td><td>Breakfast,Cakes,Crepes,Italian,Pasta,Pizzas,Salads,Sandwiches,Soups                       </td><td>Y</td><td>1</td><td>1</td><td>2018-05-03 12:32:06</td><td>2020-04-05 20:46:03</td><td>3</td><td>1</td></tr>\n",
       "\t<tr><td>20</td><td>118616</td><td>-0.4075269</td><td>0.6436807</td><td>Restaurants</td><td>2</td><td>0.0</td><td> 8</td><td>1</td><td>08:00AM-10:45PM</td><td>-</td><td>19</td><td>0</td><td>Yes</td><td>0</td><td>...</td><td>08:00:00</td><td>22:45:00</td><td>        </td><td>        </td><td>{\"\"primary_tags\"\":\"\"71\"\"}</td><td>1</td><td>4,8,91,10                </td><td>Breakfast,Desserts,Free Delivery,Indian                                                   </td><td>Y</td><td>1</td><td>1</td><td>2018-05-04 22:28:22</td><td>2020-04-07 16:35:55</td><td>3</td><td>1</td></tr>\n",
       "\t<tr><td>23</td><td>118619</td><td>-0.5853846</td><td>0.7538114</td><td>Restaurants</td><td>2</td><td>0.0</td><td> 5</td><td>1</td><td>10:59AM-10:30PM</td><td>-</td><td>16</td><td>0</td><td>Yes</td><td>0</td><td>...</td><td>09:00:00</td><td>23:45:00</td><td>        </td><td>        </td><td>{\"\"primary_tags\"\":\"\"46\"\"}</td><td>1</td><td>5,8,30,24                </td><td>Burgers,Desserts,Fries,Salads                                                             </td><td>Y</td><td>1</td><td>1</td><td>2018-05-06 19:20:48</td><td>2020-04-02 00:56:17</td><td>3</td><td>1</td></tr>\n",
       "\t<tr><td>28</td><td>118624</td><td> 0.4806019</td><td>0.5528505</td><td>Restaurants</td><td>2</td><td>0.7</td><td>15</td><td>1</td><td>11:00AM-11:45PM</td><td>-</td><td>10</td><td>0</td><td>Yes</td><td>0</td><td>...</td><td>00:01:00</td><td>01:30:00</td><td>17:45:00</td><td>23:59:00</td><td>{\"\"primary_tags\"\":\"\"32\"\"}</td><td>1</td><td>5                        </td><td>Burgers                                                                                   </td><td>Y</td><td>1</td><td>1</td><td>2018-05-17 22:12:38</td><td>2020-04-05 15:57:41</td><td>3</td><td>1</td></tr>\n",
       "\t<tr><td>33</td><td>118629</td><td>-0.4946538</td><td>0.7433182</td><td>Restaurants</td><td>2</td><td>0.7</td><td> 6</td><td>1</td><td>11:00AM-10:30PM</td><td>-</td><td>17</td><td>0</td><td>Yes</td><td>0</td><td>...</td><td>08:30:00</td><td>23:59:00</td><td>00:00:00</td><td>01:00:00</td><td>{\"\"primary_tags\"\":\"\"51\"\"}</td><td>1</td><td>8,42                     </td><td>Desserts,Mexican                                                                          </td><td>Y</td><td>1</td><td>1</td><td>2018-05-24 17:23:13</td><td>2020-04-07 15:04:57</td><td>3</td><td>1</td></tr>\n",
       "</tbody>\n",
       "</table>\n"
      ],
      "text/latex": [
       "A data.table: 6 x 59\n",
       "\\begin{tabular}{lllllllllllllllllllllllllllllll}\n",
       " id & authentication\\_id & latitude & longitude & vendor\\_category\\_en & vendor\\_category\\_id & delivery\\_charge & serving\\_distance & is\\_open & OpeningTime & OpeningTime2 & prepration\\_time & commission & is\\_akeed\\_delivering & discount\\_percentage & ... & saturday\\_from\\_time1 & saturday\\_to\\_time1 & saturday\\_from\\_time2 & saturday\\_to\\_time2 & primary\\_tags & open\\_close\\_flags & vendor\\_tag & vendor\\_tag\\_name & one\\_click\\_vendor & country\\_id & city\\_id & created\\_at & updated\\_at & device\\_type & display\\_orders\\\\\n",
       " <int> & <dbl> & <dbl> & <dbl> & <chr> & <dbl> & <dbl> & <dbl> & <dbl> & <chr> & <chr> & <int> & <dbl> & <chr> & <dbl> & ... & <chr> & <chr> & <chr> & <chr> & <chr> & <dbl> & <chr> & <chr> & <chr> & <dbl> & <dbl> & <dttm> & <dttm> & <int> & <int>\\\\\n",
       "\\hline\n",
       "\t  4 & 118597 & -0.5885962 & 0.7544341 & Restaurants & 2 & 0.0 &  6 & 1 & 11:00AM-11:30PM & - & 15 & 0 & Yes & 0 & ... & 00:00:00 & 00:30:00 & 10:00:00 & 23:59:00 & \\{\"\"primary\\_tags\"\":\"\"4\"\"\\}  & 1 & 2,4,5,8,91,22,12,24,16,23 & Arabic,Breakfast,Burgers,Desserts,Free Delivery,Grills,Lebanese,Salads,Sandwiches,Shawarma & Y & 1 & 1 & 2018-01-30 14:42:04 & 2020-04-07 15:12:43 & 3 & 1\\\\\n",
       "\t 13 & 118608 & -0.4716538 & 0.7444705 & Restaurants & 2 & 0.7 &  5 & 1 & 08:30AM-10:30PM & - & 14 & 0 & Yes & 0 & ... & 00:00:00 & 01:30:00 & 08:00:00 & 23:59:00 & \\{\"\"primary\\_tags\"\":\"\"7\"\"\\}  & 1 & 4,41,51,34,27,15,24,16,28 & Breakfast,Cakes,Crepes,Italian,Pasta,Pizzas,Salads,Sandwiches,Soups                        & Y & 1 & 1 & 2018-05-03 12:32:06 & 2020-04-05 20:46:03 & 3 & 1\\\\\n",
       "\t 20 & 118616 & -0.4075269 & 0.6436807 & Restaurants & 2 & 0.0 &  8 & 1 & 08:00AM-10:45PM & - & 19 & 0 & Yes & 0 & ... & 08:00:00 & 22:45:00 &          &          & \\{\"\"primary\\_tags\"\":\"\"71\"\"\\} & 1 & 4,8,91,10                 & Breakfast,Desserts,Free Delivery,Indian                                                    & Y & 1 & 1 & 2018-05-04 22:28:22 & 2020-04-07 16:35:55 & 3 & 1\\\\\n",
       "\t 23 & 118619 & -0.5853846 & 0.7538114 & Restaurants & 2 & 0.0 &  5 & 1 & 10:59AM-10:30PM & - & 16 & 0 & Yes & 0 & ... & 09:00:00 & 23:45:00 &          &          & \\{\"\"primary\\_tags\"\":\"\"46\"\"\\} & 1 & 5,8,30,24                 & Burgers,Desserts,Fries,Salads                                                              & Y & 1 & 1 & 2018-05-06 19:20:48 & 2020-04-02 00:56:17 & 3 & 1\\\\\n",
       "\t 28 & 118624 &  0.4806019 & 0.5528505 & Restaurants & 2 & 0.7 & 15 & 1 & 11:00AM-11:45PM & - & 10 & 0 & Yes & 0 & ... & 00:01:00 & 01:30:00 & 17:45:00 & 23:59:00 & \\{\"\"primary\\_tags\"\":\"\"32\"\"\\} & 1 & 5                         & Burgers                                                                                    & Y & 1 & 1 & 2018-05-17 22:12:38 & 2020-04-05 15:57:41 & 3 & 1\\\\\n",
       "\t 33 & 118629 & -0.4946538 & 0.7433182 & Restaurants & 2 & 0.7 &  6 & 1 & 11:00AM-10:30PM & - & 17 & 0 & Yes & 0 & ... & 08:30:00 & 23:59:00 & 00:00:00 & 01:00:00 & \\{\"\"primary\\_tags\"\":\"\"51\"\"\\} & 1 & 8,42                      & Desserts,Mexican                                                                           & Y & 1 & 1 & 2018-05-24 17:23:13 & 2020-04-07 15:04:57 & 3 & 1\\\\\n",
       "\\end{tabular}\n"
      ],
      "text/markdown": [
       "\n",
       "A data.table: 6 x 59\n",
       "\n",
       "| id &lt;int&gt; | authentication_id &lt;dbl&gt; | latitude &lt;dbl&gt; | longitude &lt;dbl&gt; | vendor_category_en &lt;chr&gt; | vendor_category_id &lt;dbl&gt; | delivery_charge &lt;dbl&gt; | serving_distance &lt;dbl&gt; | is_open &lt;dbl&gt; | OpeningTime &lt;chr&gt; | OpeningTime2 &lt;chr&gt; | prepration_time &lt;int&gt; | commission &lt;dbl&gt; | is_akeed_delivering &lt;chr&gt; | discount_percentage &lt;dbl&gt; | ... ... | saturday_from_time1 &lt;chr&gt; | saturday_to_time1 &lt;chr&gt; | saturday_from_time2 &lt;chr&gt; | saturday_to_time2 &lt;chr&gt; | primary_tags &lt;chr&gt; | open_close_flags &lt;dbl&gt; | vendor_tag &lt;chr&gt; | vendor_tag_name &lt;chr&gt; | one_click_vendor &lt;chr&gt; | country_id &lt;dbl&gt; | city_id &lt;dbl&gt; | created_at &lt;dttm&gt; | updated_at &lt;dttm&gt; | device_type &lt;int&gt; | display_orders &lt;int&gt; |\n",
       "|---|---|---|---|---|---|---|---|---|---|---|---|---|---|---|---|---|---|---|---|---|---|---|---|---|---|---|---|---|---|---|\n",
       "|  4 | 118597 | -0.5885962 | 0.7544341 | Restaurants | 2 | 0.0 |  6 | 1 | 11:00AM-11:30PM | - | 15 | 0 | Yes | 0 | ... | 00:00:00 | 00:30:00 | 10:00:00 | 23:59:00 | {\"\"primary_tags\"\":\"\"4\"\"}  | 1 | 2,4,5,8,91,22,12,24,16,23 | Arabic,Breakfast,Burgers,Desserts,Free Delivery,Grills,Lebanese,Salads,Sandwiches,Shawarma | Y | 1 | 1 | 2018-01-30 14:42:04 | 2020-04-07 15:12:43 | 3 | 1 |\n",
       "| 13 | 118608 | -0.4716538 | 0.7444705 | Restaurants | 2 | 0.7 |  5 | 1 | 08:30AM-10:30PM | - | 14 | 0 | Yes | 0 | ... | 00:00:00 | 01:30:00 | 08:00:00 | 23:59:00 | {\"\"primary_tags\"\":\"\"7\"\"}  | 1 | 4,41,51,34,27,15,24,16,28 | Breakfast,Cakes,Crepes,Italian,Pasta,Pizzas,Salads,Sandwiches,Soups                        | Y | 1 | 1 | 2018-05-03 12:32:06 | 2020-04-05 20:46:03 | 3 | 1 |\n",
       "| 20 | 118616 | -0.4075269 | 0.6436807 | Restaurants | 2 | 0.0 |  8 | 1 | 08:00AM-10:45PM | - | 19 | 0 | Yes | 0 | ... | 08:00:00 | 22:45:00 | <!----> | <!----> | {\"\"primary_tags\"\":\"\"71\"\"} | 1 | 4,8,91,10                 | Breakfast,Desserts,Free Delivery,Indian                                                    | Y | 1 | 1 | 2018-05-04 22:28:22 | 2020-04-07 16:35:55 | 3 | 1 |\n",
       "| 23 | 118619 | -0.5853846 | 0.7538114 | Restaurants | 2 | 0.0 |  5 | 1 | 10:59AM-10:30PM | - | 16 | 0 | Yes | 0 | ... | 09:00:00 | 23:45:00 | <!----> | <!----> | {\"\"primary_tags\"\":\"\"46\"\"} | 1 | 5,8,30,24                 | Burgers,Desserts,Fries,Salads                                                              | Y | 1 | 1 | 2018-05-06 19:20:48 | 2020-04-02 00:56:17 | 3 | 1 |\n",
       "| 28 | 118624 |  0.4806019 | 0.5528505 | Restaurants | 2 | 0.7 | 15 | 1 | 11:00AM-11:45PM | - | 10 | 0 | Yes | 0 | ... | 00:01:00 | 01:30:00 | 17:45:00 | 23:59:00 | {\"\"primary_tags\"\":\"\"32\"\"} | 1 | 5                         | Burgers                                                                                    | Y | 1 | 1 | 2018-05-17 22:12:38 | 2020-04-05 15:57:41 | 3 | 1 |\n",
       "| 33 | 118629 | -0.4946538 | 0.7433182 | Restaurants | 2 | 0.7 |  6 | 1 | 11:00AM-10:30PM | - | 17 | 0 | Yes | 0 | ... | 08:30:00 | 23:59:00 | 00:00:00 | 01:00:00 | {\"\"primary_tags\"\":\"\"51\"\"} | 1 | 8,42                      | Desserts,Mexican                                                                           | Y | 1 | 1 | 2018-05-24 17:23:13 | 2020-04-07 15:04:57 | 3 | 1 |\n",
       "\n"
      ],
      "text/plain": [
       "  id authentication_id latitude   longitude vendor_category_en\n",
       "1  4 118597            -0.5885962 0.7544341 Restaurants       \n",
       "2 13 118608            -0.4716538 0.7444705 Restaurants       \n",
       "3 20 118616            -0.4075269 0.6436807 Restaurants       \n",
       "4 23 118619            -0.5853846 0.7538114 Restaurants       \n",
       "5 28 118624             0.4806019 0.5528505 Restaurants       \n",
       "6 33 118629            -0.4946538 0.7433182 Restaurants       \n",
       "  vendor_category_id delivery_charge serving_distance is_open OpeningTime    \n",
       "1 2                  0.0              6               1       11:00AM-11:30PM\n",
       "2 2                  0.7              5               1       08:30AM-10:30PM\n",
       "3 2                  0.0              8               1       08:00AM-10:45PM\n",
       "4 2                  0.0              5               1       10:59AM-10:30PM\n",
       "5 2                  0.7             15               1       11:00AM-11:45PM\n",
       "6 2                  0.7              6               1       11:00AM-10:30PM\n",
       "  OpeningTime2 prepration_time commission is_akeed_delivering\n",
       "1 -            15              0          Yes                \n",
       "2 -            14              0          Yes                \n",
       "3 -            19              0          Yes                \n",
       "4 -            16              0          Yes                \n",
       "5 -            10              0          Yes                \n",
       "6 -            17              0          Yes                \n",
       "  discount_percentage ... saturday_from_time1 saturday_to_time1\n",
       "1 0                   ... 00:00:00            00:30:00         \n",
       "2 0                   ... 00:00:00            01:30:00         \n",
       "3 0                   ... 08:00:00            22:45:00         \n",
       "4 0                   ... 09:00:00            23:45:00         \n",
       "5 0                   ... 00:01:00            01:30:00         \n",
       "6 0                   ... 08:30:00            23:59:00         \n",
       "  saturday_from_time2 saturday_to_time2 primary_tags             \n",
       "1 10:00:00            23:59:00          {\"\"primary_tags\"\":\"\"4\"\"} \n",
       "2 08:00:00            23:59:00          {\"\"primary_tags\"\":\"\"7\"\"} \n",
       "3                                       {\"\"primary_tags\"\":\"\"71\"\"}\n",
       "4                                       {\"\"primary_tags\"\":\"\"46\"\"}\n",
       "5 17:45:00            23:59:00          {\"\"primary_tags\"\":\"\"32\"\"}\n",
       "6 00:00:00            01:00:00          {\"\"primary_tags\"\":\"\"51\"\"}\n",
       "  open_close_flags vendor_tag               \n",
       "1 1                2,4,5,8,91,22,12,24,16,23\n",
       "2 1                4,41,51,34,27,15,24,16,28\n",
       "3 1                4,8,91,10                \n",
       "4 1                5,8,30,24                \n",
       "5 1                5                        \n",
       "6 1                8,42                     \n",
       "  vendor_tag_name                                                                           \n",
       "1 Arabic,Breakfast,Burgers,Desserts,Free Delivery,Grills,Lebanese,Salads,Sandwiches,Shawarma\n",
       "2 Breakfast,Cakes,Crepes,Italian,Pasta,Pizzas,Salads,Sandwiches,Soups                       \n",
       "3 Breakfast,Desserts,Free Delivery,Indian                                                   \n",
       "4 Burgers,Desserts,Fries,Salads                                                             \n",
       "5 Burgers                                                                                   \n",
       "6 Desserts,Mexican                                                                          \n",
       "  one_click_vendor country_id city_id created_at          updated_at         \n",
       "1 Y                1          1       2018-01-30 14:42:04 2020-04-07 15:12:43\n",
       "2 Y                1          1       2018-05-03 12:32:06 2020-04-05 20:46:03\n",
       "3 Y                1          1       2018-05-04 22:28:22 2020-04-07 16:35:55\n",
       "4 Y                1          1       2018-05-06 19:20:48 2020-04-02 00:56:17\n",
       "5 Y                1          1       2018-05-17 22:12:38 2020-04-05 15:57:41\n",
       "6 Y                1          1       2018-05-24 17:23:13 2020-04-07 15:04:57\n",
       "  device_type display_orders\n",
       "1 3           1             \n",
       "2 3           1             \n",
       "3 3           1             \n",
       "4 3           1             \n",
       "5 3           1             \n",
       "6 3           1             "
      ]
     },
     "metadata": {},
     "output_type": "display_data"
    }
   ],
   "source": [
    "head(vendors)"
   ]
  },
  {
   "cell_type": "code",
   "execution_count": 9,
   "id": "7887c98c-9a9c-462c-a419-a4f7c6ee293a",
   "metadata": {},
   "outputs": [
    {
     "data": {
      "text/plain": [
       "\n",
       "   Restaurants Sweets & Bakes \n",
       "            88             12 "
      ]
     },
     "metadata": {},
     "output_type": "display_data"
    }
   ],
   "source": [
    "table(vendors$vendor_category_en)"
   ]
  },
  {
   "cell_type": "code",
   "execution_count": 10,
   "id": "9f166b24-0e1f-4ef6-87bd-5c914550eac2",
   "metadata": {},
   "outputs": [
    {
     "data": {
      "text/html": [
       "<style>\n",
       ".list-inline {list-style: none; margin:0; padding: 0}\n",
       ".list-inline>li {display: inline-block}\n",
       ".list-inline>li:not(:last-child)::after {content: \"\\00b7\"; padding: 0 .5ex}\n",
       "</style>\n",
       "<ol class=list-inline><li>20</li><li>21</li><li>29</li><li>47</li><li>49</li><li>54</li><li>56</li><li>61</li><li>63</li><li>75</li><li>78</li><li>84</li></ol>\n"
      ],
      "text/latex": [
       "\\begin{enumerate*}\n",
       "\\item 20\n",
       "\\item 21\n",
       "\\item 29\n",
       "\\item 47\n",
       "\\item 49\n",
       "\\item 54\n",
       "\\item 56\n",
       "\\item 61\n",
       "\\item 63\n",
       "\\item 75\n",
       "\\item 78\n",
       "\\item 84\n",
       "\\end{enumerate*}\n"
      ],
      "text/markdown": [
       "1. 20\n",
       "2. 21\n",
       "3. 29\n",
       "4. 47\n",
       "5. 49\n",
       "6. 54\n",
       "7. 56\n",
       "8. 61\n",
       "9. 63\n",
       "10. 75\n",
       "11. 78\n",
       "12. 84\n",
       "\n",
       "\n"
      ],
      "text/plain": [
       " [1] 20 21 29 47 49 54 56 61 63 75 78 84"
      ]
     },
     "metadata": {},
     "output_type": "display_data"
    }
   ],
   "source": [
    "grep(\"Bake\", vendors$vendor_category_en)"
   ]
  },
  {
   "cell_type": "code",
   "execution_count": 11,
   "id": "4e9a6c69-3033-4a2c-99fd-6900a40c674b",
   "metadata": {},
   "outputs": [
    {
     "data": {
      "text/html": [
       "<style>\n",
       ".list-inline {list-style: none; margin:0; padding: 0}\n",
       ".list-inline>li {display: inline-block}\n",
       ".list-inline>li:not(:last-child)::after {content: \"\\00b7\"; padding: 0 .5ex}\n",
       "</style>\n",
       "<ol class=list-inline><li>FALSE</li><li>FALSE</li><li>FALSE</li><li>FALSE</li><li>FALSE</li><li>FALSE</li><li>FALSE</li><li>FALSE</li><li>FALSE</li><li>FALSE</li><li>FALSE</li><li>FALSE</li><li>FALSE</li><li>FALSE</li><li>FALSE</li><li>FALSE</li><li>FALSE</li><li>FALSE</li><li>FALSE</li><li>TRUE</li><li>TRUE</li><li>FALSE</li><li>FALSE</li><li>FALSE</li><li>FALSE</li><li>FALSE</li><li>FALSE</li><li>FALSE</li><li>TRUE</li><li>FALSE</li><li>FALSE</li><li>FALSE</li><li>FALSE</li><li>FALSE</li><li>FALSE</li><li>FALSE</li><li>FALSE</li><li>FALSE</li><li>FALSE</li><li>FALSE</li><li>FALSE</li><li>FALSE</li><li>FALSE</li><li>FALSE</li><li>FALSE</li><li>FALSE</li><li>TRUE</li><li>FALSE</li><li>TRUE</li><li>FALSE</li><li>FALSE</li><li>FALSE</li><li>FALSE</li><li>TRUE</li><li>FALSE</li><li>TRUE</li><li>FALSE</li><li>FALSE</li><li>FALSE</li><li>FALSE</li><li>TRUE</li><li>FALSE</li><li>TRUE</li><li>FALSE</li><li>FALSE</li><li>FALSE</li><li>FALSE</li><li>FALSE</li><li>FALSE</li><li>FALSE</li><li>FALSE</li><li>FALSE</li><li>FALSE</li><li>FALSE</li><li>TRUE</li><li>FALSE</li><li>FALSE</li><li>TRUE</li><li>FALSE</li><li>FALSE</li><li>FALSE</li><li>FALSE</li><li>FALSE</li><li>TRUE</li><li>FALSE</li><li>FALSE</li><li>FALSE</li><li>FALSE</li><li>FALSE</li><li>FALSE</li><li>FALSE</li><li>FALSE</li><li>FALSE</li><li>FALSE</li><li>FALSE</li><li>FALSE</li><li>FALSE</li><li>FALSE</li><li>FALSE</li><li>FALSE</li></ol>\n"
      ],
      "text/latex": [
       "\\begin{enumerate*}\n",
       "\\item FALSE\n",
       "\\item FALSE\n",
       "\\item FALSE\n",
       "\\item FALSE\n",
       "\\item FALSE\n",
       "\\item FALSE\n",
       "\\item FALSE\n",
       "\\item FALSE\n",
       "\\item FALSE\n",
       "\\item FALSE\n",
       "\\item FALSE\n",
       "\\item FALSE\n",
       "\\item FALSE\n",
       "\\item FALSE\n",
       "\\item FALSE\n",
       "\\item FALSE\n",
       "\\item FALSE\n",
       "\\item FALSE\n",
       "\\item FALSE\n",
       "\\item TRUE\n",
       "\\item TRUE\n",
       "\\item FALSE\n",
       "\\item FALSE\n",
       "\\item FALSE\n",
       "\\item FALSE\n",
       "\\item FALSE\n",
       "\\item FALSE\n",
       "\\item FALSE\n",
       "\\item TRUE\n",
       "\\item FALSE\n",
       "\\item FALSE\n",
       "\\item FALSE\n",
       "\\item FALSE\n",
       "\\item FALSE\n",
       "\\item FALSE\n",
       "\\item FALSE\n",
       "\\item FALSE\n",
       "\\item FALSE\n",
       "\\item FALSE\n",
       "\\item FALSE\n",
       "\\item FALSE\n",
       "\\item FALSE\n",
       "\\item FALSE\n",
       "\\item FALSE\n",
       "\\item FALSE\n",
       "\\item FALSE\n",
       "\\item TRUE\n",
       "\\item FALSE\n",
       "\\item TRUE\n",
       "\\item FALSE\n",
       "\\item FALSE\n",
       "\\item FALSE\n",
       "\\item FALSE\n",
       "\\item TRUE\n",
       "\\item FALSE\n",
       "\\item TRUE\n",
       "\\item FALSE\n",
       "\\item FALSE\n",
       "\\item FALSE\n",
       "\\item FALSE\n",
       "\\item TRUE\n",
       "\\item FALSE\n",
       "\\item TRUE\n",
       "\\item FALSE\n",
       "\\item FALSE\n",
       "\\item FALSE\n",
       "\\item FALSE\n",
       "\\item FALSE\n",
       "\\item FALSE\n",
       "\\item FALSE\n",
       "\\item FALSE\n",
       "\\item FALSE\n",
       "\\item FALSE\n",
       "\\item FALSE\n",
       "\\item TRUE\n",
       "\\item FALSE\n",
       "\\item FALSE\n",
       "\\item TRUE\n",
       "\\item FALSE\n",
       "\\item FALSE\n",
       "\\item FALSE\n",
       "\\item FALSE\n",
       "\\item FALSE\n",
       "\\item TRUE\n",
       "\\item FALSE\n",
       "\\item FALSE\n",
       "\\item FALSE\n",
       "\\item FALSE\n",
       "\\item FALSE\n",
       "\\item FALSE\n",
       "\\item FALSE\n",
       "\\item FALSE\n",
       "\\item FALSE\n",
       "\\item FALSE\n",
       "\\item FALSE\n",
       "\\item FALSE\n",
       "\\item FALSE\n",
       "\\item FALSE\n",
       "\\item FALSE\n",
       "\\item FALSE\n",
       "\\end{enumerate*}\n"
      ],
      "text/markdown": [
       "1. FALSE\n",
       "2. FALSE\n",
       "3. FALSE\n",
       "4. FALSE\n",
       "5. FALSE\n",
       "6. FALSE\n",
       "7. FALSE\n",
       "8. FALSE\n",
       "9. FALSE\n",
       "10. FALSE\n",
       "11. FALSE\n",
       "12. FALSE\n",
       "13. FALSE\n",
       "14. FALSE\n",
       "15. FALSE\n",
       "16. FALSE\n",
       "17. FALSE\n",
       "18. FALSE\n",
       "19. FALSE\n",
       "20. TRUE\n",
       "21. TRUE\n",
       "22. FALSE\n",
       "23. FALSE\n",
       "24. FALSE\n",
       "25. FALSE\n",
       "26. FALSE\n",
       "27. FALSE\n",
       "28. FALSE\n",
       "29. TRUE\n",
       "30. FALSE\n",
       "31. FALSE\n",
       "32. FALSE\n",
       "33. FALSE\n",
       "34. FALSE\n",
       "35. FALSE\n",
       "36. FALSE\n",
       "37. FALSE\n",
       "38. FALSE\n",
       "39. FALSE\n",
       "40. FALSE\n",
       "41. FALSE\n",
       "42. FALSE\n",
       "43. FALSE\n",
       "44. FALSE\n",
       "45. FALSE\n",
       "46. FALSE\n",
       "47. TRUE\n",
       "48. FALSE\n",
       "49. TRUE\n",
       "50. FALSE\n",
       "51. FALSE\n",
       "52. FALSE\n",
       "53. FALSE\n",
       "54. TRUE\n",
       "55. FALSE\n",
       "56. TRUE\n",
       "57. FALSE\n",
       "58. FALSE\n",
       "59. FALSE\n",
       "60. FALSE\n",
       "61. TRUE\n",
       "62. FALSE\n",
       "63. TRUE\n",
       "64. FALSE\n",
       "65. FALSE\n",
       "66. FALSE\n",
       "67. FALSE\n",
       "68. FALSE\n",
       "69. FALSE\n",
       "70. FALSE\n",
       "71. FALSE\n",
       "72. FALSE\n",
       "73. FALSE\n",
       "74. FALSE\n",
       "75. TRUE\n",
       "76. FALSE\n",
       "77. FALSE\n",
       "78. TRUE\n",
       "79. FALSE\n",
       "80. FALSE\n",
       "81. FALSE\n",
       "82. FALSE\n",
       "83. FALSE\n",
       "84. TRUE\n",
       "85. FALSE\n",
       "86. FALSE\n",
       "87. FALSE\n",
       "88. FALSE\n",
       "89. FALSE\n",
       "90. FALSE\n",
       "91. FALSE\n",
       "92. FALSE\n",
       "93. FALSE\n",
       "94. FALSE\n",
       "95. FALSE\n",
       "96. FALSE\n",
       "97. FALSE\n",
       "98. FALSE\n",
       "99. FALSE\n",
       "100. FALSE\n",
       "\n",
       "\n"
      ],
      "text/plain": [
       "  [1] FALSE FALSE FALSE FALSE FALSE FALSE FALSE FALSE FALSE FALSE FALSE FALSE\n",
       " [13] FALSE FALSE FALSE FALSE FALSE FALSE FALSE  TRUE  TRUE FALSE FALSE FALSE\n",
       " [25] FALSE FALSE FALSE FALSE  TRUE FALSE FALSE FALSE FALSE FALSE FALSE FALSE\n",
       " [37] FALSE FALSE FALSE FALSE FALSE FALSE FALSE FALSE FALSE FALSE  TRUE FALSE\n",
       " [49]  TRUE FALSE FALSE FALSE FALSE  TRUE FALSE  TRUE FALSE FALSE FALSE FALSE\n",
       " [61]  TRUE FALSE  TRUE FALSE FALSE FALSE FALSE FALSE FALSE FALSE FALSE FALSE\n",
       " [73] FALSE FALSE  TRUE FALSE FALSE  TRUE FALSE FALSE FALSE FALSE FALSE  TRUE\n",
       " [85] FALSE FALSE FALSE FALSE FALSE FALSE FALSE FALSE FALSE FALSE FALSE FALSE\n",
       " [97] FALSE FALSE FALSE FALSE"
      ]
     },
     "metadata": {},
     "output_type": "display_data"
    }
   ],
   "source": [
    "grepl(\"Bake\", vendors$vendor_category_en)"
   ]
  },
  {
   "cell_type": "code",
   "execution_count": 12,
   "id": "301fcea9-df7d-4ac0-b139-14139591a91e",
   "metadata": {},
   "outputs": [],
   "source": [
    "newDF <- subset(vendors, grepl(\"Bake\", vendor_category_en))"
   ]
  },
  {
   "cell_type": "code",
   "execution_count": 13,
   "id": "9f4db437-5603-4d78-abac-d6ac6dbf52bb",
   "metadata": {},
   "outputs": [
    {
     "data": {
      "text/html": [
       "<style>\n",
       ".list-inline {list-style: none; margin:0; padding: 0}\n",
       ".list-inline>li {display: inline-block}\n",
       ".list-inline>li:not(:last-child)::after {content: \"\\00b7\"; padding: 0 .5ex}\n",
       "</style>\n",
       "<ol class=list-inline><li>12</li><li>59</li></ol>\n"
      ],
      "text/latex": [
       "\\begin{enumerate*}\n",
       "\\item 12\n",
       "\\item 59\n",
       "\\end{enumerate*}\n"
      ],
      "text/markdown": [
       "1. 12\n",
       "2. 59\n",
       "\n",
       "\n"
      ],
      "text/plain": [
       "[1] 12 59"
      ]
     },
     "metadata": {},
     "output_type": "display_data"
    }
   ],
   "source": [
    "dim(newDF)"
   ]
  },
  {
   "cell_type": "code",
   "execution_count": 15,
   "id": "d7bc3a7f-5b63-44a4-acf0-69fa9911abc7",
   "metadata": {},
   "outputs": [],
   "source": [
    "anotherDF <- vendors[ grep(\"Bake\", vendor_category_en), ]"
   ]
  },
  {
   "cell_type": "code",
   "execution_count": 16,
   "id": "31bd0af7-607c-4ac0-a4d0-f59b74484cc0",
   "metadata": {},
   "outputs": [],
   "source": [
    "newDFFries <- subset(vendors, grepl(\"Fries\", vendor_tag_name))"
   ]
  },
  {
   "cell_type": "code",
   "execution_count": 21,
   "id": "5feedca6-dbb2-43b0-8bf1-564df6e3d729",
   "metadata": {},
   "outputs": [],
   "source": [
    "anotherDFFries <- vendors[ grep(\"Fries\", vendor_tag_name), ]"
   ]
  },
  {
   "cell_type": "code",
   "execution_count": 22,
   "id": "2cd37ef9-5db4-466c-98ec-3fd6ececd4f0",
   "metadata": {},
   "outputs": [
    {
     "data": {
      "text/html": [
       "<style>\n",
       ".list-inline {list-style: none; margin:0; padding: 0}\n",
       ".list-inline>li {display: inline-block}\n",
       ".list-inline>li:not(:last-child)::after {content: \"\\00b7\"; padding: 0 .5ex}\n",
       "</style>\n",
       "<ol class=list-inline><li>20</li><li>59</li></ol>\n"
      ],
      "text/latex": [
       "\\begin{enumerate*}\n",
       "\\item 20\n",
       "\\item 59\n",
       "\\end{enumerate*}\n"
      ],
      "text/markdown": [
       "1. 20\n",
       "2. 59\n",
       "\n",
       "\n"
      ],
      "text/plain": [
       "[1] 20 59"
      ]
     },
     "metadata": {},
     "output_type": "display_data"
    }
   ],
   "source": [
    "dim(newDFFries)"
   ]
  },
  {
   "cell_type": "code",
   "execution_count": 23,
   "id": "506122f3-da2d-4a25-85cf-5227fc0c33ad",
   "metadata": {},
   "outputs": [
    {
     "data": {
      "text/html": [
       "<style>\n",
       ".list-inline {list-style: none; margin:0; padding: 0}\n",
       ".list-inline>li {display: inline-block}\n",
       ".list-inline>li:not(:last-child)::after {content: \"\\00b7\"; padding: 0 .5ex}\n",
       "</style>\n",
       "<ol class=list-inline><li>20</li><li>59</li></ol>\n"
      ],
      "text/latex": [
       "\\begin{enumerate*}\n",
       "\\item 20\n",
       "\\item 59\n",
       "\\end{enumerate*}\n"
      ],
      "text/markdown": [
       "1. 20\n",
       "2. 59\n",
       "\n",
       "\n"
      ],
      "text/plain": [
       "[1] 20 59"
      ]
     },
     "metadata": {},
     "output_type": "display_data"
    }
   ],
   "source": [
    "dim(anotherDFFries)"
   ]
  },
  {
   "cell_type": "markdown",
   "id": "fc601975-35ed-4680-a4e1-0273ee3cc047",
   "metadata": {},
   "source": [
    "## Question 2"
   ]
  },
  {
   "cell_type": "code",
   "execution_count": 24,
   "id": "a16336a1-1ef0-41e8-bc7c-49387db27497",
   "metadata": {
    "tags": []
   },
   "outputs": [
    {
     "data": {
      "text/html": [
       "<style>\n",
       ".list-inline {list-style: none; margin:0; padding: 0}\n",
       ".list-inline>li {display: inline-block}\n",
       ".list-inline>li:not(:last-child)::after {content: \"\\00b7\"; padding: 0 .5ex}\n",
       "</style>\n",
       "<ol class=list-inline><li>1</li><li>1</li><li>1</li><li>1</li><li>1</li><li>1</li></ol>\n"
      ],
      "text/latex": [
       "\\begin{enumerate*}\n",
       "\\item 1\n",
       "\\item 1\n",
       "\\item 1\n",
       "\\item 1\n",
       "\\item 1\n",
       "\\item 1\n",
       "\\end{enumerate*}\n"
      ],
      "text/markdown": [
       "1. 1\n",
       "2. 1\n",
       "3. 1\n",
       "4. 1\n",
       "5. 1\n",
       "6. 1\n",
       "\n",
       "\n"
      ],
      "text/plain": [
       "[1] 1 1 1 1 1 1"
      ]
     },
     "metadata": {},
     "output_type": "display_data"
    }
   ],
   "source": [
    "head(vendors$is_open)"
   ]
  },
  {
   "cell_type": "code",
   "execution_count": 25,
   "id": "e759c68f-d12d-4d17-b73c-d1bf10c9ef21",
   "metadata": {},
   "outputs": [
    {
     "data": {
      "text/html": [
       "100"
      ],
      "text/latex": [
       "100"
      ],
      "text/markdown": [
       "100"
      ],
      "text/plain": [
       "[1] 100"
      ]
     },
     "metadata": {},
     "output_type": "display_data"
    }
   ],
   "source": [
    "length(vendors$is_open)"
   ]
  },
  {
   "cell_type": "code",
   "execution_count": 26,
   "id": "8aab02e3-df0f-4e6c-8af7-1a1bddb3a0d4",
   "metadata": {},
   "outputs": [
    {
     "data": {
      "text/html": [
       "<style>\n",
       ".list-inline {list-style: none; margin:0; padding: 0}\n",
       ".list-inline>li {display: inline-block}\n",
       ".list-inline>li:not(:last-child)::after {content: \"\\00b7\"; padding: 0 .5ex}\n",
       "</style>\n",
       "<ol class=list-inline><li>1</li><li>1</li><li>1</li><li>1</li><li>1</li><li>1</li><li>1</li><li>1</li><li>1</li><li>1</li><li>1</li><li>1</li><li>1</li><li>0</li><li>1</li><li>1</li><li>1</li><li>1</li><li>1</li><li>1</li><li>1</li><li>1</li><li>1</li><li>1</li><li>1</li><li>1</li><li>1</li><li>1</li><li>1</li><li>0</li><li>0</li><li>1</li><li>0</li><li>1</li><li>1</li><li>1</li><li>1</li><li>0</li><li>1</li><li>0</li><li>1</li><li>1</li><li>1</li><li>1</li><li>0</li><li>1</li><li>0</li><li>1</li><li>1</li><li>1</li><li>0</li><li>1</li><li>1</li><li>0</li><li>1</li><li>1</li><li>0</li><li>0</li><li>1</li><li>1</li><li>1</li><li>1</li><li>0</li><li>1</li><li>1</li><li>0</li><li>1</li><li>1</li><li>1</li><li>1</li><li>1</li><li>1</li><li>1</li><li>1</li><li>1</li><li>1</li><li>1</li><li>1</li><li>1</li><li>1</li><li>1</li><li>1</li><li>1</li><li>1</li><li>1</li><li>0</li><li>1</li><li>1</li><li>1</li><li>1</li><li>1</li><li>1</li><li>1</li><li>1</li><li>1</li><li>1</li><li>1</li><li>1</li><li>1</li><li>1</li></ol>\n"
      ],
      "text/latex": [
       "\\begin{enumerate*}\n",
       "\\item 1\n",
       "\\item 1\n",
       "\\item 1\n",
       "\\item 1\n",
       "\\item 1\n",
       "\\item 1\n",
       "\\item 1\n",
       "\\item 1\n",
       "\\item 1\n",
       "\\item 1\n",
       "\\item 1\n",
       "\\item 1\n",
       "\\item 1\n",
       "\\item 0\n",
       "\\item 1\n",
       "\\item 1\n",
       "\\item 1\n",
       "\\item 1\n",
       "\\item 1\n",
       "\\item 1\n",
       "\\item 1\n",
       "\\item 1\n",
       "\\item 1\n",
       "\\item 1\n",
       "\\item 1\n",
       "\\item 1\n",
       "\\item 1\n",
       "\\item 1\n",
       "\\item 1\n",
       "\\item 0\n",
       "\\item 0\n",
       "\\item 1\n",
       "\\item 0\n",
       "\\item 1\n",
       "\\item 1\n",
       "\\item 1\n",
       "\\item 1\n",
       "\\item 0\n",
       "\\item 1\n",
       "\\item 0\n",
       "\\item 1\n",
       "\\item 1\n",
       "\\item 1\n",
       "\\item 1\n",
       "\\item 0\n",
       "\\item 1\n",
       "\\item 0\n",
       "\\item 1\n",
       "\\item 1\n",
       "\\item 1\n",
       "\\item 0\n",
       "\\item 1\n",
       "\\item 1\n",
       "\\item 0\n",
       "\\item 1\n",
       "\\item 1\n",
       "\\item 0\n",
       "\\item 0\n",
       "\\item 1\n",
       "\\item 1\n",
       "\\item 1\n",
       "\\item 1\n",
       "\\item 0\n",
       "\\item 1\n",
       "\\item 1\n",
       "\\item 0\n",
       "\\item 1\n",
       "\\item 1\n",
       "\\item 1\n",
       "\\item 1\n",
       "\\item 1\n",
       "\\item 1\n",
       "\\item 1\n",
       "\\item 1\n",
       "\\item 1\n",
       "\\item 1\n",
       "\\item 1\n",
       "\\item 1\n",
       "\\item 1\n",
       "\\item 1\n",
       "\\item 1\n",
       "\\item 1\n",
       "\\item 1\n",
       "\\item 1\n",
       "\\item 1\n",
       "\\item 0\n",
       "\\item 1\n",
       "\\item 1\n",
       "\\item 1\n",
       "\\item 1\n",
       "\\item 1\n",
       "\\item 1\n",
       "\\item 1\n",
       "\\item 1\n",
       "\\item 1\n",
       "\\item 1\n",
       "\\item 1\n",
       "\\item 1\n",
       "\\item 1\n",
       "\\item 1\n",
       "\\end{enumerate*}\n"
      ],
      "text/markdown": [
       "1. 1\n",
       "2. 1\n",
       "3. 1\n",
       "4. 1\n",
       "5. 1\n",
       "6. 1\n",
       "7. 1\n",
       "8. 1\n",
       "9. 1\n",
       "10. 1\n",
       "11. 1\n",
       "12. 1\n",
       "13. 1\n",
       "14. 0\n",
       "15. 1\n",
       "16. 1\n",
       "17. 1\n",
       "18. 1\n",
       "19. 1\n",
       "20. 1\n",
       "21. 1\n",
       "22. 1\n",
       "23. 1\n",
       "24. 1\n",
       "25. 1\n",
       "26. 1\n",
       "27. 1\n",
       "28. 1\n",
       "29. 1\n",
       "30. 0\n",
       "31. 0\n",
       "32. 1\n",
       "33. 0\n",
       "34. 1\n",
       "35. 1\n",
       "36. 1\n",
       "37. 1\n",
       "38. 0\n",
       "39. 1\n",
       "40. 0\n",
       "41. 1\n",
       "42. 1\n",
       "43. 1\n",
       "44. 1\n",
       "45. 0\n",
       "46. 1\n",
       "47. 0\n",
       "48. 1\n",
       "49. 1\n",
       "50. 1\n",
       "51. 0\n",
       "52. 1\n",
       "53. 1\n",
       "54. 0\n",
       "55. 1\n",
       "56. 1\n",
       "57. 0\n",
       "58. 0\n",
       "59. 1\n",
       "60. 1\n",
       "61. 1\n",
       "62. 1\n",
       "63. 0\n",
       "64. 1\n",
       "65. 1\n",
       "66. 0\n",
       "67. 1\n",
       "68. 1\n",
       "69. 1\n",
       "70. 1\n",
       "71. 1\n",
       "72. 1\n",
       "73. 1\n",
       "74. 1\n",
       "75. 1\n",
       "76. 1\n",
       "77. 1\n",
       "78. 1\n",
       "79. 1\n",
       "80. 1\n",
       "81. 1\n",
       "82. 1\n",
       "83. 1\n",
       "84. 1\n",
       "85. 1\n",
       "86. 0\n",
       "87. 1\n",
       "88. 1\n",
       "89. 1\n",
       "90. 1\n",
       "91. 1\n",
       "92. 1\n",
       "93. 1\n",
       "94. 1\n",
       "95. 1\n",
       "96. 1\n",
       "97. 1\n",
       "98. 1\n",
       "99. 1\n",
       "100. 1\n",
       "\n",
       "\n"
      ],
      "text/plain": [
       "  [1] 1 1 1 1 1 1 1 1 1 1 1 1 1 0 1 1 1 1 1 1 1 1 1 1 1 1 1 1 1 0 0 1 0 1 1 1 1\n",
       " [38] 0 1 0 1 1 1 1 0 1 0 1 1 1 0 1 1 0 1 1 0 0 1 1 1 1 0 1 1 0 1 1 1 1 1 1 1 1\n",
       " [75] 1 1 1 1 1 1 1 1 1 1 1 0 1 1 1 1 1 1 1 1 1 1 1 1 1 1"
      ]
     },
     "metadata": {},
     "output_type": "display_data"
    }
   ],
   "source": [
    "vendors$is_open"
   ]
  },
  {
   "cell_type": "code",
   "execution_count": 28,
   "id": "b2611849-8383-491c-8965-e1c08ebe1238",
   "metadata": {},
   "outputs": [
    {
     "data": {
      "text/plain": [
       "\n",
       " 0  1 \n",
       "15 85 "
      ]
     },
     "metadata": {},
     "output_type": "display_data"
    }
   ],
   "source": [
    "table(vendors$is_open)"
   ]
  },
  {
   "cell_type": "code",
   "execution_count": 30,
   "id": "dbb90475-9be7-4488-b1ce-692acc5fa53b",
   "metadata": {},
   "outputs": [
    {
     "data": {
      "text/plain": [
       "\n",
       "   0    1 \n",
       "0.15 0.85 "
      ]
     },
     "metadata": {},
     "output_type": "display_data"
    }
   ],
   "source": [
    "prop.table(table(vendors$is_open))"
   ]
  },
  {
   "cell_type": "code",
   "execution_count": 31,
   "id": "a4f1672c-0c3a-4103-b942-688ad332a477",
   "metadata": {},
   "outputs": [
    {
     "data": {
      "text/plain": [
       "\n",
       "   0    1 \n",
       "0.15 0.85 "
      ]
     },
     "metadata": {},
     "output_type": "display_data"
    }
   ],
   "source": [
    "table(vendors$is_open) / length(vendors$is_open)"
   ]
  },
  {
   "cell_type": "code",
   "execution_count": 33,
   "id": "fe289eb2-6162-43d3-9788-ad8b8ca4c256",
   "metadata": {},
   "outputs": [
    {
     "data": {
      "text/plain": [
       "\n",
       "   0  0.7 \n",
       "0.41 0.59 "
      ]
     },
     "metadata": {},
     "output_type": "display_data"
    }
   ],
   "source": [
    "prop.table(table(vendors$delivery_charge))"
   ]
  },
  {
   "cell_type": "markdown",
   "id": "8e586edd-ff26-4ce2-8f6b-2424b26f2929",
   "metadata": {},
   "source": [
    "## Question 3"
   ]
  },
  {
   "cell_type": "code",
   "execution_count": 39,
   "id": "bbe0f40d-9655-4653-9ca8-886bdb61cb91",
   "metadata": {},
   "outputs": [
    {
     "data": {
      "text/plain": [
       "\n",
       "FALSE  TRUE \n",
       "   12    88 "
      ]
     },
     "metadata": {},
     "output_type": "display_data"
    }
   ],
   "source": [
    "table(vendors$vendor_category_en == \"Restaurants\")"
   ]
  },
  {
   "cell_type": "code",
   "execution_count": 40,
   "id": "a5319f70-1d26-40c5-bed9-a002d2a035f0",
   "metadata": {},
   "outputs": [
    {
     "data": {
      "text/html": [
       "<style>\n",
       ".list-inline {list-style: none; margin:0; padding: 0}\n",
       ".list-inline>li {display: inline-block}\n",
       ".list-inline>li:not(:last-child)::after {content: \"\\00b7\"; padding: 0 .5ex}\n",
       "</style>\n",
       "<ol class=list-inline><li>1</li><li>1</li><li>1</li><li>1</li><li>1</li><li>1</li><li>1</li><li>1</li><li>1</li><li>1</li><li>1</li><li>1</li><li>1</li><li>0</li><li>1</li><li>1</li><li>1</li><li>1</li><li>1</li><li>1</li><li>1</li><li>1</li><li>1</li><li>1</li><li>1</li><li>1</li><li>0</li><li>0</li><li>1</li><li>0</li><li>1</li><li>1</li><li>1</li><li>1</li><li>0</li><li>1</li><li>0</li><li>1</li><li>1</li><li>1</li><li>1</li><li>0</li><li>1</li><li>1</li><li>1</li><li>0</li><li>1</li><li>1</li><li>1</li><li>0</li><li>0</li><li>1</li><li>1</li><li>1</li><li>1</li><li>1</li><li>0</li><li>1</li><li>1</li><li>1</li><li>1</li><li>1</li><li>1</li><li>1</li><li>1</li><li>1</li><li>1</li><li>1</li><li>1</li><li>1</li><li>1</li><li>1</li><li>1</li><li>0</li><li>1</li><li>1</li><li>1</li><li>1</li><li>1</li><li>1</li><li>1</li><li>1</li><li>1</li><li>1</li><li>1</li><li>1</li><li>1</li><li>1</li></ol>\n"
      ],
      "text/latex": [
       "\\begin{enumerate*}\n",
       "\\item 1\n",
       "\\item 1\n",
       "\\item 1\n",
       "\\item 1\n",
       "\\item 1\n",
       "\\item 1\n",
       "\\item 1\n",
       "\\item 1\n",
       "\\item 1\n",
       "\\item 1\n",
       "\\item 1\n",
       "\\item 1\n",
       "\\item 1\n",
       "\\item 0\n",
       "\\item 1\n",
       "\\item 1\n",
       "\\item 1\n",
       "\\item 1\n",
       "\\item 1\n",
       "\\item 1\n",
       "\\item 1\n",
       "\\item 1\n",
       "\\item 1\n",
       "\\item 1\n",
       "\\item 1\n",
       "\\item 1\n",
       "\\item 0\n",
       "\\item 0\n",
       "\\item 1\n",
       "\\item 0\n",
       "\\item 1\n",
       "\\item 1\n",
       "\\item 1\n",
       "\\item 1\n",
       "\\item 0\n",
       "\\item 1\n",
       "\\item 0\n",
       "\\item 1\n",
       "\\item 1\n",
       "\\item 1\n",
       "\\item 1\n",
       "\\item 0\n",
       "\\item 1\n",
       "\\item 1\n",
       "\\item 1\n",
       "\\item 0\n",
       "\\item 1\n",
       "\\item 1\n",
       "\\item 1\n",
       "\\item 0\n",
       "\\item 0\n",
       "\\item 1\n",
       "\\item 1\n",
       "\\item 1\n",
       "\\item 1\n",
       "\\item 1\n",
       "\\item 0\n",
       "\\item 1\n",
       "\\item 1\n",
       "\\item 1\n",
       "\\item 1\n",
       "\\item 1\n",
       "\\item 1\n",
       "\\item 1\n",
       "\\item 1\n",
       "\\item 1\n",
       "\\item 1\n",
       "\\item 1\n",
       "\\item 1\n",
       "\\item 1\n",
       "\\item 1\n",
       "\\item 1\n",
       "\\item 1\n",
       "\\item 0\n",
       "\\item 1\n",
       "\\item 1\n",
       "\\item 1\n",
       "\\item 1\n",
       "\\item 1\n",
       "\\item 1\n",
       "\\item 1\n",
       "\\item 1\n",
       "\\item 1\n",
       "\\item 1\n",
       "\\item 1\n",
       "\\item 1\n",
       "\\item 1\n",
       "\\item 1\n",
       "\\end{enumerate*}\n"
      ],
      "text/markdown": [
       "1. 1\n",
       "2. 1\n",
       "3. 1\n",
       "4. 1\n",
       "5. 1\n",
       "6. 1\n",
       "7. 1\n",
       "8. 1\n",
       "9. 1\n",
       "10. 1\n",
       "11. 1\n",
       "12. 1\n",
       "13. 1\n",
       "14. 0\n",
       "15. 1\n",
       "16. 1\n",
       "17. 1\n",
       "18. 1\n",
       "19. 1\n",
       "20. 1\n",
       "21. 1\n",
       "22. 1\n",
       "23. 1\n",
       "24. 1\n",
       "25. 1\n",
       "26. 1\n",
       "27. 0\n",
       "28. 0\n",
       "29. 1\n",
       "30. 0\n",
       "31. 1\n",
       "32. 1\n",
       "33. 1\n",
       "34. 1\n",
       "35. 0\n",
       "36. 1\n",
       "37. 0\n",
       "38. 1\n",
       "39. 1\n",
       "40. 1\n",
       "41. 1\n",
       "42. 0\n",
       "43. 1\n",
       "44. 1\n",
       "45. 1\n",
       "46. 0\n",
       "47. 1\n",
       "48. 1\n",
       "49. 1\n",
       "50. 0\n",
       "51. 0\n",
       "52. 1\n",
       "53. 1\n",
       "54. 1\n",
       "55. 1\n",
       "56. 1\n",
       "57. 0\n",
       "58. 1\n",
       "59. 1\n",
       "60. 1\n",
       "61. 1\n",
       "62. 1\n",
       "63. 1\n",
       "64. 1\n",
       "65. 1\n",
       "66. 1\n",
       "67. 1\n",
       "68. 1\n",
       "69. 1\n",
       "70. 1\n",
       "71. 1\n",
       "72. 1\n",
       "73. 1\n",
       "74. 0\n",
       "75. 1\n",
       "76. 1\n",
       "77. 1\n",
       "78. 1\n",
       "79. 1\n",
       "80. 1\n",
       "81. 1\n",
       "82. 1\n",
       "83. 1\n",
       "84. 1\n",
       "85. 1\n",
       "86. 1\n",
       "87. 1\n",
       "88. 1\n",
       "\n",
       "\n"
      ],
      "text/plain": [
       " [1] 1 1 1 1 1 1 1 1 1 1 1 1 1 0 1 1 1 1 1 1 1 1 1 1 1 1 0 0 1 0 1 1 1 1 0 1 0 1\n",
       "[39] 1 1 1 0 1 1 1 0 1 1 1 0 0 1 1 1 1 1 0 1 1 1 1 1 1 1 1 1 1 1 1 1 1 1 1 0 1 1\n",
       "[77] 1 1 1 1 1 1 1 1 1 1 1 1"
      ]
     },
     "metadata": {},
     "output_type": "display_data"
    }
   ],
   "source": [
    "vendors$is_open[vendors$vendor_category_en == \"Restaurants\"]"
   ]
  },
  {
   "cell_type": "code",
   "execution_count": 41,
   "id": "0582d1e3-363a-4b00-874d-1fc84253819b",
   "metadata": {},
   "outputs": [
    {
     "data": {
      "text/html": [
       "<style>\n",
       ".list-inline {list-style: none; margin:0; padding: 0}\n",
       ".list-inline>li {display: inline-block}\n",
       ".list-inline>li:not(:last-child)::after {content: \"\\00b7\"; padding: 0 .5ex}\n",
       "</style>\n",
       "<ol class=list-inline><li>1</li><li>1</li><li>1</li><li>0</li><li>1</li><li>0</li><li>1</li><li>1</li><li>0</li><li>1</li><li>1</li><li>1</li></ol>\n"
      ],
      "text/latex": [
       "\\begin{enumerate*}\n",
       "\\item 1\n",
       "\\item 1\n",
       "\\item 1\n",
       "\\item 0\n",
       "\\item 1\n",
       "\\item 0\n",
       "\\item 1\n",
       "\\item 1\n",
       "\\item 0\n",
       "\\item 1\n",
       "\\item 1\n",
       "\\item 1\n",
       "\\end{enumerate*}\n"
      ],
      "text/markdown": [
       "1. 1\n",
       "2. 1\n",
       "3. 1\n",
       "4. 0\n",
       "5. 1\n",
       "6. 0\n",
       "7. 1\n",
       "8. 1\n",
       "9. 0\n",
       "10. 1\n",
       "11. 1\n",
       "12. 1\n",
       "\n",
       "\n"
      ],
      "text/plain": [
       " [1] 1 1 1 0 1 0 1 1 0 1 1 1"
      ]
     },
     "metadata": {},
     "output_type": "display_data"
    }
   ],
   "source": [
    "vendors$is_open[vendors$vendor_category_en == \"Sweets & Bakes\"]"
   ]
  },
  {
   "cell_type": "code",
   "execution_count": 42,
   "id": "75d68638-1e23-422a-a62d-bb0bac8c4465",
   "metadata": {},
   "outputs": [
    {
     "data": {
      "text/plain": [
       "\n",
       "        0         1 \n",
       "0.1363636 0.8636364 "
      ]
     },
     "metadata": {},
     "output_type": "display_data"
    }
   ],
   "source": [
    "prop.table(table(vendors$is_open[vendors$vendor_category_en == \"Restaurants\"]))"
   ]
  },
  {
   "cell_type": "code",
   "execution_count": 43,
   "id": "02ee0356-49e8-4da9-a8cb-d963ebeb77ee",
   "metadata": {},
   "outputs": [
    {
     "data": {
      "text/plain": [
       "\n",
       "   0    1 \n",
       "0.25 0.75 "
      ]
     },
     "metadata": {},
     "output_type": "display_data"
    }
   ],
   "source": [
    "prop.table(table(vendors$is_open[vendors$vendor_category_en == \"Sweets & Bakes\"]))"
   ]
  },
  {
   "cell_type": "code",
   "execution_count": 44,
   "id": "4298a9c2-0e1f-41c9-b2fc-9591d76f51ac",
   "metadata": {},
   "outputs": [
    {
     "data": {
      "text/html": [
       "<style>\n",
       ".list-inline {list-style: none; margin:0; padding: 0}\n",
       ".list-inline>li {display: inline-block}\n",
       ".list-inline>li:not(:last-child)::after {content: \"\\00b7\"; padding: 0 .5ex}\n",
       "</style>\n",
       "<ol class=list-inline><li>0</li><li>0.7</li><li>0</li><li>0</li><li>0.7</li><li>0.7</li><li>0.7</li><li>0.7</li><li>0.7</li><li>0</li><li>0</li><li>0.7</li><li>0.7</li><li>0.7</li><li>0</li><li>0</li><li>0.7</li><li>0.7</li><li>0</li><li>0</li><li>0.7</li><li>0</li><li>0</li><li>0</li><li>0.7</li><li>0</li><li>0</li><li>0</li><li>0</li><li>0.7</li><li>0.7</li><li>0.7</li><li>0.7</li><li>0</li><li>0.7</li><li>0.7</li><li>0.7</li><li>0.7</li><li>0.7</li><li>0.7</li><li>0.7</li><li>0.7</li><li>0.7</li><li>0.7</li><li>0</li><li>0.7</li><li>0.7</li><li>0.7</li><li>0.7</li><li>0</li><li>0.7</li><li>0.7</li><li>0.7</li><li>0</li><li>0.7</li><li>0</li><li>0.7</li><li>0</li><li>0.7</li><li>0</li><li>0.7</li><li>0.7</li><li>0.7</li><li>0.7</li><li>0.7</li><li>0</li><li>0.7</li><li>0.7</li><li>0.7</li><li>0</li><li>0</li><li>0.7</li><li>0</li><li>0.7</li><li>0.7</li><li>0.7</li><li>0.7</li><li>0.7</li><li>0.7</li><li>0.7</li><li>0</li><li>0</li><li>0</li><li>0</li><li>0</li><li>0</li><li>0</li><li>0</li><li>0.7</li></ol>\n"
      ],
      "text/latex": [
       "\\begin{enumerate*}\n",
       "\\item 0\n",
       "\\item 0.7\n",
       "\\item 0\n",
       "\\item 0\n",
       "\\item 0.7\n",
       "\\item 0.7\n",
       "\\item 0.7\n",
       "\\item 0.7\n",
       "\\item 0.7\n",
       "\\item 0\n",
       "\\item 0\n",
       "\\item 0.7\n",
       "\\item 0.7\n",
       "\\item 0.7\n",
       "\\item 0\n",
       "\\item 0\n",
       "\\item 0.7\n",
       "\\item 0.7\n",
       "\\item 0\n",
       "\\item 0\n",
       "\\item 0.7\n",
       "\\item 0\n",
       "\\item 0\n",
       "\\item 0\n",
       "\\item 0.7\n",
       "\\item 0\n",
       "\\item 0\n",
       "\\item 0\n",
       "\\item 0\n",
       "\\item 0.7\n",
       "\\item 0.7\n",
       "\\item 0.7\n",
       "\\item 0.7\n",
       "\\item 0\n",
       "\\item 0.7\n",
       "\\item 0.7\n",
       "\\item 0.7\n",
       "\\item 0.7\n",
       "\\item 0.7\n",
       "\\item 0.7\n",
       "\\item 0.7\n",
       "\\item 0.7\n",
       "\\item 0.7\n",
       "\\item 0.7\n",
       "\\item 0\n",
       "\\item 0.7\n",
       "\\item 0.7\n",
       "\\item 0.7\n",
       "\\item 0.7\n",
       "\\item 0\n",
       "\\item 0.7\n",
       "\\item 0.7\n",
       "\\item 0.7\n",
       "\\item 0\n",
       "\\item 0.7\n",
       "\\item 0\n",
       "\\item 0.7\n",
       "\\item 0\n",
       "\\item 0.7\n",
       "\\item 0\n",
       "\\item 0.7\n",
       "\\item 0.7\n",
       "\\item 0.7\n",
       "\\item 0.7\n",
       "\\item 0.7\n",
       "\\item 0\n",
       "\\item 0.7\n",
       "\\item 0.7\n",
       "\\item 0.7\n",
       "\\item 0\n",
       "\\item 0\n",
       "\\item 0.7\n",
       "\\item 0\n",
       "\\item 0.7\n",
       "\\item 0.7\n",
       "\\item 0.7\n",
       "\\item 0.7\n",
       "\\item 0.7\n",
       "\\item 0.7\n",
       "\\item 0.7\n",
       "\\item 0\n",
       "\\item 0\n",
       "\\item 0\n",
       "\\item 0\n",
       "\\item 0\n",
       "\\item 0\n",
       "\\item 0\n",
       "\\item 0\n",
       "\\item 0.7\n",
       "\\end{enumerate*}\n"
      ],
      "text/markdown": [
       "1. 0\n",
       "2. 0.7\n",
       "3. 0\n",
       "4. 0\n",
       "5. 0.7\n",
       "6. 0.7\n",
       "7. 0.7\n",
       "8. 0.7\n",
       "9. 0.7\n",
       "10. 0\n",
       "11. 0\n",
       "12. 0.7\n",
       "13. 0.7\n",
       "14. 0.7\n",
       "15. 0\n",
       "16. 0\n",
       "17. 0.7\n",
       "18. 0.7\n",
       "19. 0\n",
       "20. 0\n",
       "21. 0.7\n",
       "22. 0\n",
       "23. 0\n",
       "24. 0\n",
       "25. 0.7\n",
       "26. 0\n",
       "27. 0\n",
       "28. 0\n",
       "29. 0\n",
       "30. 0.7\n",
       "31. 0.7\n",
       "32. 0.7\n",
       "33. 0.7\n",
       "34. 0\n",
       "35. 0.7\n",
       "36. 0.7\n",
       "37. 0.7\n",
       "38. 0.7\n",
       "39. 0.7\n",
       "40. 0.7\n",
       "41. 0.7\n",
       "42. 0.7\n",
       "43. 0.7\n",
       "44. 0.7\n",
       "45. 0\n",
       "46. 0.7\n",
       "47. 0.7\n",
       "48. 0.7\n",
       "49. 0.7\n",
       "50. 0\n",
       "51. 0.7\n",
       "52. 0.7\n",
       "53. 0.7\n",
       "54. 0\n",
       "55. 0.7\n",
       "56. 0\n",
       "57. 0.7\n",
       "58. 0\n",
       "59. 0.7\n",
       "60. 0\n",
       "61. 0.7\n",
       "62. 0.7\n",
       "63. 0.7\n",
       "64. 0.7\n",
       "65. 0.7\n",
       "66. 0\n",
       "67. 0.7\n",
       "68. 0.7\n",
       "69. 0.7\n",
       "70. 0\n",
       "71. 0\n",
       "72. 0.7\n",
       "73. 0\n",
       "74. 0.7\n",
       "75. 0.7\n",
       "76. 0.7\n",
       "77. 0.7\n",
       "78. 0.7\n",
       "79. 0.7\n",
       "80. 0.7\n",
       "81. 0\n",
       "82. 0\n",
       "83. 0\n",
       "84. 0\n",
       "85. 0\n",
       "86. 0\n",
       "87. 0\n",
       "88. 0\n",
       "89. 0.7\n",
       "\n",
       "\n"
      ],
      "text/plain": [
       " [1] 0.0 0.7 0.0 0.0 0.7 0.7 0.7 0.7 0.7 0.0 0.0 0.7 0.7 0.7 0.0 0.0 0.7 0.7 0.0\n",
       "[20] 0.0 0.7 0.0 0.0 0.0 0.7 0.0 0.0 0.0 0.0 0.7 0.7 0.7 0.7 0.0 0.7 0.7 0.7 0.7\n",
       "[39] 0.7 0.7 0.7 0.7 0.7 0.7 0.0 0.7 0.7 0.7 0.7 0.0 0.7 0.7 0.7 0.0 0.7 0.0 0.7\n",
       "[58] 0.0 0.7 0.0 0.7 0.7 0.7 0.7 0.7 0.0 0.7 0.7 0.7 0.0 0.0 0.7 0.0 0.7 0.7 0.7\n",
       "[77] 0.7 0.7 0.7 0.7 0.0 0.0 0.0 0.0 0.0 0.0 0.0 0.0 0.7"
      ]
     },
     "metadata": {},
     "output_type": "display_data"
    }
   ],
   "source": [
    "vendors$delivery_charge[vendors$vendor_category_id == 2]"
   ]
  },
  {
   "cell_type": "code",
   "execution_count": 45,
   "id": "1762850e-b555-41f6-b1ed-a33bb484787a",
   "metadata": {},
   "outputs": [
    {
     "data": {
      "text/html": [
       "<style>\n",
       ".list-inline {list-style: none; margin:0; padding: 0}\n",
       ".list-inline>li {display: inline-block}\n",
       ".list-inline>li:not(:last-child)::after {content: \"\\00b7\"; padding: 0 .5ex}\n",
       "</style>\n",
       "<ol class=list-inline><li>0</li><li>0</li><li>0.7</li><li>0</li><li>0.7</li><li>0.7</li><li>0</li><li>0.7</li><li>0</li><li>0.7</li><li>0</li></ol>\n"
      ],
      "text/latex": [
       "\\begin{enumerate*}\n",
       "\\item 0\n",
       "\\item 0\n",
       "\\item 0.7\n",
       "\\item 0\n",
       "\\item 0.7\n",
       "\\item 0.7\n",
       "\\item 0\n",
       "\\item 0.7\n",
       "\\item 0\n",
       "\\item 0.7\n",
       "\\item 0\n",
       "\\end{enumerate*}\n"
      ],
      "text/markdown": [
       "1. 0\n",
       "2. 0\n",
       "3. 0.7\n",
       "4. 0\n",
       "5. 0.7\n",
       "6. 0.7\n",
       "7. 0\n",
       "8. 0.7\n",
       "9. 0\n",
       "10. 0.7\n",
       "11. 0\n",
       "\n",
       "\n"
      ],
      "text/plain": [
       " [1] 0.0 0.0 0.7 0.0 0.7 0.7 0.0 0.7 0.0 0.7 0.0"
      ]
     },
     "metadata": {},
     "output_type": "display_data"
    }
   ],
   "source": [
    "vendors$delivery_charge[vendors$vendor_category_id == 3]"
   ]
  },
  {
   "cell_type": "code",
   "execution_count": 46,
   "id": "3a7d83e0-aafd-4334-aa7c-c75df3e8a92d",
   "metadata": {},
   "outputs": [
    {
     "data": {
      "text/plain": [
       "\n",
       "        0       0.7 \n",
       "0.3932584 0.6067416 "
      ]
     },
     "metadata": {},
     "output_type": "display_data"
    }
   ],
   "source": [
    "prop.table(table(vendors$delivery_charge[vendors$vendor_category_id == 2]))"
   ]
  },
  {
   "cell_type": "code",
   "execution_count": 47,
   "id": "11ef6d2c-0470-4ac2-8351-2d89f25c93bd",
   "metadata": {},
   "outputs": [
    {
     "data": {
      "text/plain": [
       "\n",
       "        0       0.7 \n",
       "0.5454545 0.4545455 "
      ]
     },
     "metadata": {},
     "output_type": "display_data"
    }
   ],
   "source": [
    "prop.table(table(vendors$delivery_charge[vendors$vendor_category_id == 3]))"
   ]
  },
  {
   "cell_type": "markdown",
   "id": "da22f29c-d245-4d2b-9fc1-ca14cb6087d9",
   "metadata": {},
   "source": [
    "## Question 4"
   ]
  },
  {
   "cell_type": "code",
   "execution_count": 48,
   "id": "025a692e-16ff-454d-bb62-3ef1f1b8b823",
   "metadata": {},
   "outputs": [
    {
     "data": {
      "text/plain": [
       "\n",
       "  0 0.7 \n",
       " 35  54 "
      ]
     },
     "metadata": {},
     "output_type": "display_data"
    }
   ],
   "source": [
    "table(vendors$delivery_charge[vendors$vendor_category_id == 2])"
   ]
  },
  {
   "cell_type": "code",
   "execution_count": 49,
   "id": "1f8fa027-e751-4944-8462-72cb57946af3",
   "metadata": {},
   "outputs": [
    {
     "data": {
      "text/plain": [
       "\n",
       "  0 0.7 \n",
       "  6   5 "
      ]
     },
     "metadata": {},
     "output_type": "display_data"
    }
   ],
   "source": [
    "table(vendors$delivery_charge[vendors$vendor_category_id == 3])"
   ]
  },
  {
   "cell_type": "code",
   "execution_count": 50,
   "id": "4c119868-59ec-4be7-ae66-69661055b6a3",
   "metadata": {},
   "outputs": [
    {
     "data": {
      "text/plain": [
       "$`2`\n",
       "\n",
       "  0 0.7 \n",
       " 35  54 \n",
       "\n",
       "$`3`\n",
       "\n",
       "  0 0.7 \n",
       "  6   5 \n"
      ]
     },
     "metadata": {},
     "output_type": "display_data"
    }
   ],
   "source": [
    "tapply(vendors$delivery_charge, vendors$vendor_category_id, table) "
   ]
  },
  {
   "cell_type": "code",
   "execution_count": 53,
   "id": "228bae6a-3ba5-4c2f-b58b-04d100945b87",
   "metadata": {},
   "outputs": [
    {
     "data": {
      "text/plain": [
       "$`2`\n",
       "x\n",
       "        0       0.7 \n",
       "0.3932584 0.6067416 \n",
       "\n",
       "$`3`\n",
       "x\n",
       "        0       0.7 \n",
       "0.5454545 0.4545455 \n"
      ]
     },
     "metadata": {},
     "output_type": "display_data"
    }
   ],
   "source": [
    "tapply(vendors$delivery_charge, vendors$vendor_category_id, function(x) {prop.table(table(x))})                                                                                                                                                                                                                   "
   ]
  },
  {
   "cell_type": "markdown",
   "id": "88c9cdac-3e92-498f-83fa-e089bfc44ac8",
   "metadata": {},
   "source": [
    "## Question 5"
   ]
  },
  {
   "cell_type": "code",
   "execution_count": 54,
   "id": "937c1400-b3ef-4833-bc98-b8e36a7924a1",
   "metadata": {},
   "outputs": [
    {
     "data": {
      "text/plain": [
       "$`2`\n",
       "\n",
       "  0 0.7 \n",
       " 35  54 \n",
       "\n",
       "$`3`\n",
       "\n",
       "  0 0.7 \n",
       "  6   5 \n"
      ]
     },
     "metadata": {},
     "output_type": "display_data"
    }
   ],
   "source": [
    "tapply(vendors$delivery_charge, vendors$vendor_category_id, table) "
   ]
  },
  {
   "cell_type": "code",
   "execution_count": 55,
   "id": "0ed7856d-9af1-4409-b048-023d72e29768",
   "metadata": {},
   "outputs": [
    {
     "data": {
      "text/html": [
       "2"
      ],
      "text/latex": [
       "2"
      ],
      "text/markdown": [
       "2"
      ],
      "text/plain": [
       "[1] 2"
      ]
     },
     "metadata": {},
     "output_type": "display_data"
    }
   ],
   "source": [
    "length(tapply(vendors$delivery_charge, vendors$vendor_category_id, table) )"
   ]
  },
  {
   "cell_type": "code",
   "execution_count": 58,
   "id": "4ce7570e-686e-4ccb-b4e2-d5e88707409d",
   "metadata": {},
   "outputs": [
    {
     "data": {
      "text/plain": [
       "$`2`\n",
       "\n",
       "        0       0.7 \n",
       "0.3932584 0.6067416 \n",
       "\n",
       "$`3`\n",
       "\n",
       "        0       0.7 \n",
       "0.5454545 0.4545455 \n"
      ]
     },
     "metadata": {},
     "output_type": "display_data"
    }
   ],
   "source": [
    "sapply(tapply(vendors$delivery_charge, vendors$vendor_category_id, table), prop.table, simplify = FALSE)"
   ]
  },
  {
   "cell_type": "markdown",
   "id": "f76442d6-d02e-4f26-b9d6-c3183e1d6929",
   "metadata": {},
   "source": [
    "## Pledge\n",
    "\n",
    "By submitting this work I hereby pledge that this is my own, personal work. I've acknowledged in the designated place at the top of this file all sources that I used to complete said work, including but not limited to: online resources, books, and electronic communications. I've noted all collaboration with fellow students and/or TA's. I did not copy or plagiarize another's work.\n",
    "\n",
    "> As a Boilermaker pursuing academic excellence, I pledge to be honest and true in all that I do. Accountable together – We are Purdue."
   ]
  }
 ],
 "metadata": {
  "kernelspec": {
   "display_name": "seminar-r",
   "language": "R",
   "name": "seminar-r"
  },
  "language_info": {
   "codemirror_mode": "r",
   "file_extension": ".r",
   "mimetype": "text/x-r-source",
   "name": "R",
   "pygments_lexer": "r",
   "version": "4.3.1"
  }
 },
 "nbformat": 4,
 "nbformat_minor": 5
}
